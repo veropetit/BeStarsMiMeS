{
 "cells": [
  {
   "cell_type": "code",
   "execution_count": 3,
   "metadata": {},
   "outputs": [
    {
     "name": "stdout",
     "output_type": "stream",
     "text": [
      "loading specpolFlow package\n"
     ]
    }
   ],
   "source": [
    "import pyRaven as rav\n",
    "import numpy as np\n",
    "import matplotlib.pyplot as plt"
   ]
  },
  {
   "cell_type": "code",
   "execution_count": 4,
   "metadata": {},
   "outputs": [],
   "source": [
    "# # Read in the param structure that was used to create the chi square data\n",
    "# # and the datapacket that was used. \n",
    "# param = rav.params.read_parameters('param.json')\n",
    "# datapacket = rav.data.read_packet('hd23302_norm.h5')\n",
    "\n",
    "# # Calculate the likelihoof for the odds ratio calculations\n",
    "# rav.BayesObjects.create_lnLH_odds_from_chi('H5', param, datapacket)\n",
    "\n",
    "# # Calculate the likelihood for the parameter estimation\n",
    "# # For this you will need a grid for the noise scale parameter\n",
    "# param['grid']['noise_grid'] = np.arange(0.1,2.1,0.1)\n",
    "# rav.BayesObjects.create_lnLH_pars_from_chi('H5', param, datapacket)\n",
    "\n",
    "# # Calculate all of the posterior probabilities\n",
    "# rav.BayesObjects.combine_obs(datapacket.nobs)\n",
    "\n",
    "# # Make some diagnostic graphs\n",
    "# rav.BayesObjects.overview_plots(datapacket.nobs)"
   ]
  },
  {
   "cell_type": "code",
   "execution_count": 5,
   "metadata": {},
   "outputs": [],
   "source": [
    "# Read in the probabilities\n",
    "lnP = rav.BayesObjects.read_lnP_mar('Patrick_lnpost_PARS_mar_wprior_V.h5')\n",
    "# get the grid spacing (useful for integration)\n",
    "lnd_beta, lnd_Bpole, lnd_incl = lnP.get_deltas(ln=True)\n",
    "# marginalize the probability over beta and inclination, to get the probability just for Bpole\n",
    "lnmar = rav.BayesObjects.ln_mar_check(lnP.data, axis=(0,2)) + lnd_beta + lnd_incl\n",
    "mar = rav.BayesObjects.exp_check(lnmar)"
   ]
  },
  {
   "cell_type": "markdown",
   "metadata": {},
   "source": [
    "# TEST DATA"
   ]
  },
  {
   "cell_type": "code",
   "execution_count": 6,
   "metadata": {},
   "outputs": [],
   "source": [
    "domain = np.linspace(0, 5000, num=25)\n",
    "\n",
    "# Unimodal\n",
    "unimodal = np.array([0,0,0,0.5,1,2,4,6,7,8,8.5,8,6,4,2,1,0.5,0,0,0,0,0,0,0,0])\n",
    "\n",
    "# Bimodal (higher peak at low Bpol)\n",
    "bimodal1 = np.array([0,1,3,6,8,7,5,3,2,1,0,0.5,2,3,5,6,6,4,2,1,0.5,0,0,0,0])\n",
    "\n",
    "# Bimodal (higher peak at low Bpol)\n",
    "bimodal2 = np.array([0,0,0,0,0.5,1,2,4,6,6,5,3,2,0.5,0,1,2,3,5,7,8,6,3,1,0])\n"
   ]
  },
  {
   "cell_type": "markdown",
   "metadata": {},
   "source": [
    "# Version 1"
   ]
  },
  {
   "cell_type": "code",
   "execution_count": 7,
   "metadata": {},
   "outputs": [],
   "source": [
    "# def BpolUpperBound(Bpole_arr, mar, refinement, percent):    # where Bpole_arr is array of Bpol values, mar is array of prob density\n",
    "#                                                             # values, refinement is how many times the values will be interpolated,\n",
    "#                                                             # & percent is the % of the integral you want captured by the upper bound\n",
    "\n",
    "#     n = len(lnP.Bpole_arr) * refinement                     # number of bins\n",
    "#     dn = (lnP.Bpole_arr[-1] - lnP.Bpole_arr[0]) / n         # width of bin\n",
    "\n",
    "#     Bpole = np.linspace(lnP.Bpole_arr[0], lnP.Bpole_arr[-1], num = n )  # range over which prob density will be interpolated\n",
    "#     pD = np.interp(Bpole, lnP.Bpole_arr, mar)                           # interpolation of prob density\n",
    "\n",
    "#     sorted_indices = np.argsort(pD)                   # indicies that sort prob density from lowest to highest value\n",
    "#     pD_sorted = pD[sorted_indices][::-1]              # sorting prob density with reverse of sorted_indices (now highest to lowest)\n",
    "#     Bpole_sorted = Bpole[sorted_indices][::-1]        # sorting Bpol values by same method\n",
    "\n",
    "#     integral = np.sum(pD_sorted) * dn                 # integral of prob density\n",
    "#     pD_sorted_cum = np.cumsum(pD_sorted) * dn         # list of cummulative sum of sorted (h to l) prob density values\n",
    "\n",
    "#     # to find the upperbound, selecting the Bpol value which corresponds to where the cummulative sum of sorted prob density values\n",
    "#     # goes above some percent of the total integral of the prob density integral (not necissarily one)\n",
    "#     upperbound = Bpole_sorted[[i for i,v in enumerate(pD_sorted_cum) if v > percent * integral][0]]\n",
    "\n",
    "#     return(upperbound)"
   ]
  },
  {
   "cell_type": "code",
   "execution_count": 8,
   "metadata": {},
   "outputs": [],
   "source": [
    "# upperbound = BpolUpperBound(domain, unimodal, 20, 0.90)\n",
    "# upperbound"
   ]
  },
  {
   "cell_type": "code",
   "execution_count": 9,
   "metadata": {},
   "outputs": [],
   "source": [
    "# approach = []\n",
    "# binnum = []\n",
    "\n",
    "# i = 10\n",
    "\n",
    "# while i < 1000:\n",
    "#     upperbound = BpolUpperBound(lnP.Bpole_arr, mar, i, 0.90)\n",
    "#     approach.append(upperbound)\n",
    "#     binnum.append(len(lnP.Bpole_arr) * i)\n",
    "#     i += 10"
   ]
  },
  {
   "cell_type": "code",
   "execution_count": 10,
   "metadata": {},
   "outputs": [],
   "source": [
    "# plt.scatter(domain, unimodal)\n",
    "# plt.show()"
   ]
  },
  {
   "cell_type": "code",
   "execution_count": 11,
   "metadata": {},
   "outputs": [],
   "source": [
    "# plt.scatter(binnum, approach)\n",
    "# plt.xlabel('bin num')\n",
    "# plt.ylabel('Bpole upperbound')\n",
    "# plt.show()"
   ]
  },
  {
   "cell_type": "markdown",
   "metadata": {},
   "source": [
    "# Version 2"
   ]
  },
  {
   "cell_type": "code",
   "execution_count": 12,
   "metadata": {},
   "outputs": [],
   "source": [
    "# def BpolUpperBound(Bpole_arr, mar, refinement, percents):\n",
    "\n",
    "#     # INTERPOLATE VALUES\n",
    "#     n = len(lnP.Bpole_arr) * refinement                     # number of bins\n",
    "#     dn = (lnP.Bpole_arr[-1] - lnP.Bpole_arr[0]) / n         # width of bin\n",
    "\n",
    "#     Bpole = np.linspace(lnP.Bpole_arr[0], lnP.Bpole_arr[-1], num = n )  # range over which prob density will be interpolated\n",
    "#     pD = np.interp(Bpole, lnP.Bpole_arr, mar)                           # interpolation of prob density\n",
    "\n",
    "#     # RENORNMALIZE DISTRIBUTION\n",
    "#     integral = np.sum(pD) * dn                             # integral of prob density\n",
    "#     norm_pD = pD / integral\n",
    "\n",
    "#     # SORTING\n",
    "#     sorted_indices = np.argsort(norm_pD)                   # indicies that sort prob density from lowest to highest value\n",
    "#     norm_pD_sorted = norm_pD[sorted_indices][::-1]         # sorting prob density with reverse of sorted_indices (now highest to lowest)\n",
    "#     Bpole_sorted = Bpole[sorted_indices][::-1]             # sorting Bpol values by same method\n",
    "\n",
    "#     norm_pD_sorted_cum = np.cumsum(norm_pD_sorted) * dn    # list of cummulative sum of sorted (h to l) prob density values\n",
    "\n",
    "#     # to find the upperbound, selecting the Bpol value which corresponds to where the cummulative sum of sorted prob density values\n",
    "#     # goes above some percent of the total integral of the prob density integral (not necissarily one)\n",
    "\n",
    "#     upperbound = np.zeros(len(percents))\n",
    "\n",
    "#     for j in range(len(percents)):\n",
    "#         upperbound[j] = Bpole_sorted[[i for i,v in enumerate(norm_pD_sorted_cum) if v > percents[j]]][0]\n",
    "\n",
    "#     return(upperbound)"
   ]
  },
  {
   "cell_type": "code",
   "execution_count": 13,
   "metadata": {},
   "outputs": [],
   "source": [
    "# upperbounds = BpolUpperBound(domain, unimodal, 100000, [0.68, 0.95, 0.997])\n",
    "# upperbounds"
   ]
  },
  {
   "cell_type": "code",
   "execution_count": 14,
   "metadata": {},
   "outputs": [],
   "source": [
    "# plt.plot(lnP.Bpole_arr, mar, c = 'g')\n",
    "# plt.axvline(x = 2540.90163607, color = 'b', linestyle = 'dashed', label = '68%')\n",
    "# plt.axvline(x = 914.03656146, color = 'k', linestyle = 'solid', label = '95%')\n",
    "# plt.axvline(x = 540.02160086, color = 'r', linestyle = 'dotted', label = '99.7%')\n",
    "\n",
    "# plt.xlabel('Bpol (G)')\n",
    "# plt.ylabel('Prob Distribution')\n",
    "\n",
    "# plt.legend(loc = 'upper right')\n",
    "\n",
    "# plt.show()"
   ]
  },
  {
   "cell_type": "markdown",
   "metadata": {},
   "source": [
    "# Version 3"
   ]
  },
  {
   "cell_type": "code",
   "execution_count": 15,
   "metadata": {},
   "outputs": [],
   "source": [
    "# Bpole_arr = domain\n",
    "# mar = unimodal\n",
    "# refinement = 100000\n",
    "# percents = [0.68, 0.95, 0.997]\n",
    "\n",
    "# # INTERPOLATE VALUES\n",
    "# n = len(lnP.Bpole_arr) * refinement                     # number of bins\n",
    "# dn = (lnP.Bpole_arr[-1] - lnP.Bpole_arr[0]) / n         # width of bin\n",
    "\n",
    "# Bpole = np.linspace(lnP.Bpole_arr[0], lnP.Bpole_arr[-1], num = n )  # range over which prob density will be interpolated\n",
    "# pD = np.interp(Bpole, lnP.Bpole_arr, mar)                           # interpolation of prob density\n",
    "\n",
    "# # RENORNMALIZE DISTRIBUTION\n",
    "# integral = np.sum(pD) * dn                             # integral of prob density\n",
    "# norm_pD = pD / integral\n",
    "\n",
    "# # SORTING\n",
    "# sorted_indices = np.argsort(norm_pD)                   # indicies that sort prob density from lowest to highest value\n",
    "# norm_pD_sorted = norm_pD[sorted_indices][::-1]         # sorting prob density with reverse of sorted_indices (now highest to lowest)\n",
    "# Bpole_sorted = Bpole[sorted_indices][::-1]             # sorting Bpol values by same method\n",
    "\n",
    "# norm_pD_sorted_cum = np.cumsum(norm_pD_sorted) * dn    # list of cummulative sum of sorted (h to l) prob density values\n",
    "\n",
    "# # to find the upperbound, selecting the Bpol value which corresponds to where the cummulative sum of sorted prob density values\n",
    "# # goes above some percent of the total integral of the prob density integral (not necissarily one)\n",
    "\n",
    "# upperbound = np.zeros(len(percents))\n",
    "\n",
    "# for j in range(len(percents)):\n",
    "#     upperbound[j] = Bpole_sorted[np.argwhere(norm_pD_sorted_cum >= percents[j])[0]]\n",
    "\n",
    "# upperbound"
   ]
  },
  {
   "cell_type": "markdown",
   "metadata": {},
   "source": [
    "# Version 4"
   ]
  },
  {
   "cell_type": "code",
   "execution_count": 16,
   "metadata": {},
   "outputs": [],
   "source": [
    "# Bpole_arr = domain\n",
    "# mar = bimodal1\n",
    "# refinement = 100000\n",
    "# percents = [0.68, 0.95, 0.997]\n",
    "\n",
    "# all_bounds = []\n",
    "\n",
    "# # INTERPOLATE VALUES\n",
    "# n = len(Bpole_arr) * refinement                 # number of bins\n",
    "# dn = (Bpole_arr[-1] - Bpole_arr[0]) / n         # width of bin\n",
    "# Bpole = np.linspace(Bpole_arr[0], Bpole_arr[-1], num = n )      # range over which prob density will be interpolated\n",
    "# pD = np.interp(Bpole, Bpole_arr, mar)                           # interpolation of prob density\n",
    "\n",
    "# # RENORNMALIZE DISTRIBUTION\n",
    "# integral = np.sum(pD) * dn   # integral of prob density\n",
    "# norm_pD = pD / integral      # to normalize integral, divide prob density values by integral\n",
    "\n",
    "# # SORTING\n",
    "# sorted_indices = np.argsort(norm_pD)                   # indicies that sort prob density from lowest to highest value\n",
    "# norm_pD_sorted = norm_pD[sorted_indices][::-1]         # sorting prob density with reverse of sorted_indices (now highest to lowest)\n",
    "\n",
    "# cumsort = np.cumsum(norm_pD_sorted)                    # cumulative sum of normalized sorted prob densities\n",
    "\n",
    "# i = 0\n",
    "# for i in range(len(percents)):\n",
    "#     indices = np.argmax(cumsort > (percents[i]*cumsort[-1]))   # indices where cumsort goes over the percent\n",
    "#     bound = norm_pD_sorted[indices]                       # prob density values above which, the percent of data lays\n",
    "\n",
    "#     boolarr = norm_pD >= bound  # array that gives True within bounds, Falso outside of bounds\n",
    "#     transitions = np.logical_xor(boolarr, np.roll(boolarr,-1))      # transitions are where the boolarr and the boolarr shifted by one \n",
    "#     flips = np.nonzero(transitions)                                 # do not agree; this line gives the indicies of the Bpole bounds\n",
    "\n",
    "#     j = 0\n",
    "#     bounds = np.zeros(len(flips[0]))\n",
    "#     for j in range(len(flips[0])):\n",
    "#         bounds[j] = Bpole[flips[0][j]]\n",
    "#     all_bounds.append(bounds)\n",
    "\n",
    "# all_bounds"
   ]
  },
  {
   "cell_type": "code",
   "execution_count": 17,
   "metadata": {},
   "outputs": [],
   "source": [
    "# plt.plot(Bpole_arr, mar, c = \"k\")\n",
    "\n",
    "# plt.axvline(485.66819427, color = 'b', label = '68%')\n",
    "# plt.axvline(1354.83054193, color = 'b')\n",
    "# plt.axvline(2811.83512473, color = 'b')\n",
    "# plt.axvline(3542.32941693, color = 'b')\n",
    "\n",
    "# plt.axvline(231.96609279, color = 'r', label = '95%')\n",
    "# plt.axvline(1827.73073109, color = 'r')\n",
    "# plt.axvline(2392.62295705, color = 'r')\n",
    "# plt.axvline(3911.06356443, color = 'r')\n",
    "\n",
    "# plt.axvline(53.52002141, color = 'g', label = '99.7%')\n",
    "# plt.axvline(2029.81081192, color = 'g')\n",
    "# plt.axvline(2190.37687615, color = 'g')\n",
    "# plt.axvline(4267.95570718, color = 'g')\n",
    "\n",
    "# plt.show()"
   ]
  },
  {
   "cell_type": "markdown",
   "metadata": {},
   "source": [
    "# Version 5"
   ]
  },
  {
   "cell_type": "code",
   "execution_count": 18,
   "metadata": {},
   "outputs": [],
   "source": [
    "# def upperbound(Bpole_arr, mar, refinement, percents):\n",
    "\n",
    "#     all_bounds = []\n",
    "\n",
    "#     # INTERPOLATE VALUES\n",
    "#     n = len(Bpole_arr) * refinement                 # number of bins\n",
    "#     dn = (Bpole_arr[-1] - Bpole_arr[0]) / n         # width of bin\n",
    "#     Bpole = np.linspace(Bpole_arr[0], Bpole_arr[-1], num = n )      # range over which prob density will be interpolated\n",
    "#     pD = np.interp(Bpole, Bpole_arr, mar)                           # interpolation of prob density\n",
    "\n",
    "#     # RENORNMALIZE DISTRIBUTION\n",
    "#     integral = np.sum(pD) * dn   # integral of prob density\n",
    "#     norm_pD = pD / integral      # to normalize integral, divide prob density values by integral\n",
    "\n",
    "#     # SORTING\n",
    "#     sorted_indices = np.argsort(norm_pD)                   # indicies that sort prob density from lowest to highest value\n",
    "#     norm_pD_sorted = norm_pD[sorted_indices][::-1]         # sorting prob density with reverse of sorted_indices (now highest to lowest)\n",
    "\n",
    "#     cumsort = np.cumsum(norm_pD_sorted)                    # cumulative sum of normalized sorted prob densities\n",
    "\n",
    "#     i = 0\n",
    "#     for i in range(len(percents)):\n",
    "#         indices = np.argmax(cumsort > (percents[i]*cumsort[-1]))   # indices where cumsort goes over the percent\n",
    "#         bound = norm_pD_sorted[indices]                            # prob density values above which, the percent of data lays\n",
    "\n",
    "#         boolarr = norm_pD >= bound                  # array that gives True within bounds, Falso outside of bounds\n",
    "#         transitions = np.logical_xor(boolarr, np.roll(boolarr,-1))      # transitions are where the boolarr and the boolarr shifted by one \n",
    "#         flips = np.nonzero(transitions)                                 # do not agree; this line gives the indicies of the Bpole bounds\n",
    "\n",
    "#         j = 0\n",
    "#         bounds = np.zeros(len(flips[0]))\n",
    "#         for j in range(len(flips[0])):\n",
    "#             bounds[j] = Bpole[flips[0][j]]\n",
    "#         all_bounds.append(bounds)\n",
    "\n",
    "#     return all_bounds"
   ]
  },
  {
   "cell_type": "code",
   "execution_count": 19,
   "metadata": {},
   "outputs": [],
   "source": [
    "# Bpole_arr = domain\n",
    "# mar = unimodal\n",
    "# refinement = 100000\n",
    "# percents = [0.68, 0.95, 0.997]\n",
    "\n",
    "# upperbounds = upperbound(Bpole_arr, mar, refinement, percents)"
   ]
  },
  {
   "cell_type": "code",
   "execution_count": 20,
   "metadata": {},
   "outputs": [],
   "source": [
    "# color = ['b','r','g']\n",
    "\n",
    "# plt.plot(Bpole_arr, mar, c = \"k\")\n",
    "\n",
    "# for i in range(len(upperbounds)):\n",
    "#     for j in range(len(upperbounds[i])):\n",
    "#         plt.axvline(upperbounds[i][j], color = color[i], label = percents[i])\n",
    "\n",
    "# plt.legend(loc = 'upper right')\n",
    "# plt.xlabel(\"Bpole (G)\")\n",
    "# plt.ylabel(\"Probability Distribution\")\n",
    "\n",
    "# plt.show()"
   ]
  },
  {
   "cell_type": "markdown",
   "metadata": {},
   "source": [
    "# Version 6"
   ]
  },
  {
   "cell_type": "code",
   "execution_count": 21,
   "metadata": {},
   "outputs": [],
   "source": [
    "# def interpolate_normalize(Bpole_arr, mar, refinement):\n",
    "#     # INTERPOLATE VALUES\n",
    "#     n = len(Bpole_arr) * refinement                 # number of bins\n",
    "#     dn = (Bpole_arr[-1] - Bpole_arr[0]) / n         # width of bin\n",
    "#     Bpole = np.linspace(Bpole_arr[0], Bpole_arr[-1], num = n )      # range over which prob density will be interpolated\n",
    "#     pD = np.interp(Bpole, Bpole_arr, mar)                           # interpolation of prob density\n",
    "\n",
    "#     # RENORNMALIZE DISTRIBUTION\n",
    "#     integral = np.sum(pD) * dn   # integral of prob density\n",
    "#     norm_pD = pD / integral      # to normalize integral, divide prob density values by integral\n",
    "\n",
    "#     return(norm_pD, Bpole)\n",
    "\n",
    "\n",
    "\n",
    "# def upperbound(norm_pD, Bpole, percents):\n",
    "\n",
    "#     norm_pD = np.pad(norm_pD, (0,1), 'constant', constant_values=0)\n",
    "#     Bpole = np.pad(Bpole, (0,1), 'constant', constant_values=0)\n",
    "\n",
    "#     all_bounds = []\n",
    "\n",
    "#     # SORTING\n",
    "#     sorted_indices = np.argsort(norm_pD)                   # indicies that sort prob density from lowest to highest value\n",
    "#     norm_pD_sorted = norm_pD[sorted_indices][::-1]         # sorting prob density with reverse of sorted_indices (now highest to lowest)\n",
    "\n",
    "#     cumsort = np.cumsum(norm_pD_sorted)                    # cumulative sum of normalized sorted prob densities\n",
    "\n",
    "#     i = 0\n",
    "#     for i in range(len(percents)):\n",
    "#         indices = np.argmax(cumsort > (percents[i]*cumsort[-1]))   # indices where cumsort goes over the percent\n",
    "#         bound = norm_pD_sorted[indices]                            # prob density values above which, the percent of data lays\n",
    "\n",
    "#         boolarr = norm_pD >= bound                  # array that gives True within bounds, Falso outside of bounds\n",
    "#         transitions = np.logical_xor(boolarr, np.roll(boolarr,-1))      # transitions are where the boolarr and the boolarr shifted by one \n",
    "#         flips = np.nonzero(transitions)                                 # do not agree; this line gives the indicies of the Bpole bounds\n",
    "\n",
    "#         j = 0\n",
    "#         bounds = np.zeros(len(flips[0]))\n",
    "#         for j in range(len(flips[0])):\n",
    "#             bounds[j] = Bpole[flips[0][j]]\n",
    "#         all_bounds.append(bounds)\n",
    "\n",
    "#     return all_bounds"
   ]
  },
  {
   "cell_type": "code",
   "execution_count": 22,
   "metadata": {},
   "outputs": [],
   "source": [
    "# Bpole_arr = domain\n",
    "# mar = bimodal2\n",
    "\n",
    "# percents = [0.68, 0.95, 0.997]\n",
    "# refinement = 200\n",
    "# norm_pd, Bpole = interpolate_normalize(lnP.Bpole_arr, mar, refinement)\n",
    "# upperbounds = upperbound(norm_pd, Bpole, percents)\n",
    "# upperbounds\n"
   ]
  },
  {
   "cell_type": "code",
   "execution_count": 23,
   "metadata": {},
   "outputs": [],
   "source": [
    "# Bpole_arr = lnP.Bpole_arr\n",
    "# mar = mar\n",
    "# percents = [0.68, 0.95, 0.997]\n",
    "\n",
    "\n",
    "# refinements = np.arange(1, 200, 1)\n",
    "\n",
    "# both_bounds = []\n",
    "\n",
    "# for k in range(len(refinements)):\n",
    "#     norm_pd, Bpole = interpolate_normalize(Bpole_arr, mar, refinements[k])\n",
    "#     upperbounds = upperbound(norm_pd, Bpole, percents)\n",
    "#     both_bounds.append(upperbounds)\n",
    "\n",
    "# all_bounds = np.array(both_bounds)\n",
    "\n",
    "# avg_diff = np.zeros(all_bounds.shape[0]-1)\n",
    "\n",
    "# for j in range(all_bounds.shape[0]-1):\n",
    "#     diff = (all_bounds[j][0] - all_bounds[j+1][0])\n",
    "#     avg_diff[j] = np.mean(diff)"
   ]
  },
  {
   "cell_type": "code",
   "execution_count": 24,
   "metadata": {},
   "outputs": [],
   "source": [
    "# plt.plot(refinements[:-1], avg_diff)\n",
    "# plt.xlabel(\"Interpolation Factor\")\n",
    "# plt.ylabel(\"avg. diff (G)\")\n",
    "# plt.show()"
   ]
  },
  {
   "cell_type": "code",
   "execution_count": 25,
   "metadata": {},
   "outputs": [],
   "source": [
    "# color = ['b','r','g']\n",
    "\n",
    "# plt.plot(Bpole_arr, mar, c = \"k\")\n",
    "\n",
    "# for i in range(len(upperbounds)):\n",
    "#     for j in range(len(upperbounds[i])):\n",
    "#         plt.axvline(upperbounds[i][j], color = color[i], label = percents[i])\n",
    "\n",
    "# # plt.legend(loc = 'upper right')\n",
    "# plt.xlabel(\"Bpole (G)\")\n",
    "# plt.ylabel(\"Probability Distribution\")\n",
    "\n",
    "# plt.show()"
   ]
  },
  {
   "cell_type": "markdown",
   "metadata": {},
   "source": [
    "# Version 7"
   ]
  },
  {
   "cell_type": "code",
   "execution_count": 26,
   "metadata": {},
   "outputs": [],
   "source": [
    "# def interpolate_normalize(Bpole_arr, mar, refinement):\n",
    "#     # INTERPOLATE VALUES\n",
    "#     n = len(Bpole_arr) * refinement                 # number of bins\n",
    "#     dn = (Bpole_arr[-1] - Bpole_arr[0]) / n         # width of bin\n",
    "#     Bpole = np.linspace(Bpole_arr[0], Bpole_arr[-1], num = n )      # range over which prob density will be interpolated\n",
    "#     pD = np.interp(Bpole, Bpole_arr, mar)                           # interpolation of prob density\n",
    "\n",
    "#     # RENORNMALIZE DISTRIBUTION\n",
    "#     integral = np.sum(pD) * dn   # integral of prob density\n",
    "#     norm_pD = pD / integral      # to normalize integral, divide prob density values by integral\n",
    "\n",
    "#     return(norm_pD, Bpole)\n",
    "\n",
    "\n",
    "\n",
    "# def upperbound(norm_pD, Bpole, percents):\n",
    "\n",
    "#     norm_pD = np.pad(norm_pD, (0,1), 'constant', constant_values=0)\n",
    "#     Bpole = np.pad(Bpole, (0,1), 'constant', constant_values=0)\n",
    "\n",
    "#     all_bounds = []\n",
    "\n",
    "#     # SORTING\n",
    "#     sorted_indices = np.argsort(norm_pD)                   # indicies that sort prob density from lowest to highest value\n",
    "#     norm_pD_sorted = norm_pD[sorted_indices][::-1]         # sorting prob density with reverse of sorted_indices (now highest to lowest)\n",
    "\n",
    "#     cumsort = np.cumsum(norm_pD_sorted)                    # cumulative sum of normalized sorted prob densities\n",
    "\n",
    "#     i = 0\n",
    "#     for i in range(len(percents)):\n",
    "#         indices = np.argmax(cumsort > (percents[i]*cumsort[-1]))   # indices where cumsort goes over the percent\n",
    "#         bound = norm_pD_sorted[indices]                            # prob density values above which, the percent of data lays\n",
    "\n",
    "#         boolarr = norm_pD >= bound                  # array that gives True within bounds, Falso outside of bounds\n",
    "#         transitions = np.logical_xor(boolarr, np.roll(boolarr,-1))      # transitions are where the boolarr and the boolarr shifted by one \n",
    "#         flips = np.nonzero(transitions)                                 # do not agree; this line gives the indicies of the Bpole bounds\n",
    "\n",
    "#         j = 0\n",
    "#         bounds = np.zeros(len(flips[0]))\n",
    "#         for j in range(len(flips[0])):\n",
    "#             bounds[j] = Bpole[flips[0][j]]\n",
    "#         all_bounds.append(bounds)\n",
    "\n",
    "#     return all_bounds\n",
    "\n",
    "# def refinement(Bpole_arr, mar, percents, min_diff, refinements):\n",
    "\n",
    "#     both_bounds = []\n",
    "\n",
    "#     for k in range(len(refinements)):\n",
    "#         norm_pd, Bpole = interpolate_normalize(Bpole_arr, mar, refinements[k])\n",
    "#         upperbounds = upperbound(norm_pd, Bpole, percents)\n",
    "#         both_bounds.append(upperbounds)\n",
    "\n",
    "#     all_bounds = np.array(both_bounds)\n",
    "\n",
    "#     avg_diff = np.zeros(all_bounds.shape[0]-1)\n",
    "\n",
    "#     for j in range(all_bounds.shape[0]-1):\n",
    "#         diff = (all_bounds[j][0] - all_bounds[j+1][0])\n",
    "#         avg_diff[j] = np.mean(diff)\n",
    "\n",
    "\n",
    "#     best_refinement = refinements[np.argwhere(np.absolute(avg_diff) < min_diff)[0]]\n",
    "\n",
    "#     return best_refinement\n",
    "    "
   ]
  },
  {
   "cell_type": "code",
   "execution_count": 27,
   "metadata": {},
   "outputs": [],
   "source": [
    "# Bpole_arr = domain\n",
    "# mar = bimodal2\n",
    "# percents = [0.68, 0.95, 0.997]\n",
    "\n",
    "# min_diff = 0.5\n",
    "\n",
    "# refinements = np.arange(1, 200, 1)\n",
    "\n",
    "# best_refinement = refinement(Bpole_arr, mar, percents, min_diff, refinements)\n",
    "\n",
    "# print(best_refinement)"
   ]
  },
  {
   "cell_type": "markdown",
   "metadata": {},
   "source": [
    "# Version 8"
   ]
  },
  {
   "cell_type": "code",
   "execution_count": 28,
   "metadata": {},
   "outputs": [],
   "source": [
    "def interpolate_normalize(Bpole_arr, mar, refinement):\n",
    "    # INTERPOLATE VALUES\n",
    "    n = len(Bpole_arr) * refinement                 # number of bins\n",
    "    dn = (Bpole_arr[-1] - Bpole_arr[0]) / n         # width of bin\n",
    "    Bpole = np.linspace(Bpole_arr[0], Bpole_arr[-1], num = n )      # range over which prob density will be interpolated\n",
    "    pD = np.interp(Bpole, Bpole_arr, mar)                           # interpolation of prob density\n",
    "\n",
    "    # RENORNMALIZE DISTRIBUTION\n",
    "    integral = np.sum(pD) * dn   # integral of prob density\n",
    "    norm_pD = pD / integral      # to normalize integral, divide prob density values by integral\n",
    "\n",
    "    return(norm_pD, Bpole)\n",
    "\n",
    "\n",
    "\n",
    "def upperbound(norm_pD, Bpole, percents):\n",
    "\n",
    "    norm_pD = np.pad(norm_pD, (0,1), 'constant', constant_values=0)\n",
    "    Bpole = np.pad(Bpole, (0,1), 'constant', constant_values=0)\n",
    "\n",
    "    all_bounds = []\n",
    "\n",
    "    # SORTING\n",
    "    sorted_indices = np.argsort(norm_pD)                   # indicies that sort prob density from lowest to highest value\n",
    "    norm_pD_sorted = norm_pD[sorted_indices][::-1]         # sorting prob density with reverse of sorted_indices (now highest to lowest)\n",
    "\n",
    "    cumsort = np.cumsum(norm_pD_sorted)                    # cumulative sum of normalized sorted prob densities\n",
    "\n",
    "    i = 0\n",
    "    for i in range(len(percents)):\n",
    "        indices = np.argmax(cumsort > (percents[i]*cumsort[-1]))   # indices where cumsort goes over the percent\n",
    "        bound = norm_pD_sorted[indices]                            # prob density values above which, the percent of data lays\n",
    "\n",
    "        boolarr = norm_pD >= bound                  # array that gives True within bounds, Falso outside of bounds\n",
    "        transitions = np.logical_xor(boolarr, np.roll(boolarr,-1))      # transitions are where the boolarr and the boolarr shifted by one \n",
    "        flips = np.nonzero(transitions)                                 # do not agree; this line gives the indicies of the Bpole bounds\n",
    "\n",
    "        j = 0\n",
    "        bounds = np.zeros(len(flips[0]))\n",
    "        for j in range(len(flips[0])):\n",
    "            bounds[j] = Bpole[flips[0][j]]\n",
    "        all_bounds.append(bounds)\n",
    "\n",
    "    return all_bounds\n",
    "\n",
    "\n",
    "\n",
    "def refinement(Bpole_arr, mar, percents, min_diff, refinements):\n",
    "\n",
    "    both_bounds = []\n",
    "\n",
    "    for k in range(len(refinements)):\n",
    "        norm_pd, Bpole = interpolate_normalize(Bpole_arr, mar, refinements[k])\n",
    "        upperbounds = upperbound(norm_pd, Bpole, percents)\n",
    "        both_bounds.append(upperbounds)\n",
    "\n",
    "    all_bounds = np.array(both_bounds)\n",
    "\n",
    "    avg_diff = np.zeros(all_bounds.shape[0]-1)\n",
    "\n",
    "    for j in range(all_bounds.shape[0]-1):\n",
    "        diff = (all_bounds[j][0] - all_bounds[j+1][0])\n",
    "        avg_diff[j] = np.mean(diff)\n",
    "\n",
    "\n",
    "    best_refinement = refinements[np.argwhere(np.absolute(avg_diff) < min_diff)[0]]\n",
    "\n",
    "    return best_refinement\n",
    "\n",
    "\n",
    "\n",
    "def figure(Bpole, norm_pd, upperbounds, percents):\n",
    "\n",
    "    fig, ax = plt.subplots(1,1)\n",
    "\n",
    "    ax.plot(Bpole, norm_pd, c = \"k\")\n",
    "\n",
    "    linestyle = [':', '-.', '--']\n",
    "\n",
    "    for i in range(len(upperbounds)):\n",
    "        for j in range(len(upperbounds[i])):\n",
    "            if j == 0:\n",
    "                ax.axvline(upperbounds[i][j], color = 'k', label = percents[i], linestyle = linestyle[i])\n",
    "\n",
    "            ax.axvline(upperbounds[i][j], color = 'k', linestyle = linestyle[i])\n",
    "\n",
    "    upperbounds2=np.array(upperbounds).T\n",
    "\n",
    "    if upperbounds2[0][0] > upperbounds2[1][0]:\n",
    "        upperbounds = np.flip(upperbounds, axis = 1)\n",
    "\n",
    "    for i in range(int(len(upperbounds2)/2)):\n",
    "        for j in range(len(upperbounds2[i])): \n",
    "            ax.fill_between(Bpole, norm_pd, 0, where = (Bpole >= upperbounds[j][2*i]) & (Bpole <= upperbounds[j][2*i+1]), color = 'indigo', alpha = 0.5, zorder = 10)\n",
    "\n",
    "    ax.legend(loc = 'upper right')\n",
    "    ax.set_xlabel(\"Bpole (G)\")\n",
    "    ax.set_ylabel(\"Probability Distribution\")\n",
    "\n",
    "    plt.show()\n",
    "\n",
    "    return fig"
   ]
  },
  {
   "cell_type": "code",
   "execution_count": 29,
   "metadata": {},
   "outputs": [],
   "source": [
    "# Bpole_arr = domain\n",
    "# mar = bimodal2\n",
    "# percents = [0.68, 0.95, 0.997]\n",
    "\n",
    "# min_diff = 0.5\n",
    "\n",
    "# refinements = np.arange(1, 200, 1)\n",
    "\n",
    "# best_refinement = refinement(Bpole_arr, mar, percents, min_diff, refinements)\n",
    "\n",
    "# print(best_refinement)"
   ]
  },
  {
   "cell_type": "code",
   "execution_count": 30,
   "metadata": {},
   "outputs": [],
   "source": [
    "# Read in the probabilities\n",
    "lnP = rav.BayesObjects.read_lnP_mar('Patrick_lnpost_PARS_mar_wprior_V.h5')\n",
    "# get the grid spacing (useful for integration)\n",
    "lnd_beta, lnd_Bpole, lnd_incl = lnP.get_deltas(ln=True)\n",
    "# marginalize the probability over beta and inclination, to get the probability just for Bpole\n",
    "lnmar = rav.BayesObjects.ln_mar_check(lnP.data, axis=(0,2)) + lnd_beta + lnd_incl\n",
    "mar = rav.BayesObjects.exp_check(lnmar)\n",
    "\n",
    "Bpole_arr = lnP.Bpole_arr\n",
    "mar = mar\n",
    "\n",
    "#Bpole_arr = domain\n",
    "#mar = bimodal2\n",
    "\n",
    "percents = [0.68, 0.95, 0.997]\n",
    "refinement = 200\n",
    "norm_pd, Bpole = interpolate_normalize(Bpole_arr, mar, refinement)\n",
    "upperbounds = upperbound(norm_pd, Bpole, percents)\n"
   ]
  },
  {
   "cell_type": "code",
   "execution_count": 31,
   "metadata": {},
   "outputs": [
    {
     "data": {
      "text/plain": [
       "array([   0,  100,  200,  300,  400,  500,  600,  700,  800,  900, 1000,\n",
       "       1100, 1200, 1300, 1400, 1500, 1600, 1700, 1800, 1900, 2000, 2100,\n",
       "       2200, 2300, 2400, 2500, 2600, 2700, 2800, 2900, 3000, 3100, 3200,\n",
       "       3300, 3400, 3500, 3600, 3700, 3800, 3900, 4000, 4100, 4200, 4300,\n",
       "       4400, 4500, 4600, 4700, 4800, 4900, 5000])"
      ]
     },
     "execution_count": 31,
     "metadata": {},
     "output_type": "execute_result"
    }
   ],
   "source": [
    "bins=np.arange(0,5100,100)\n",
    "bins"
   ]
  },
  {
   "cell_type": "code",
   "execution_count": 32,
   "metadata": {},
   "outputs": [
    {
     "data": {
      "text/plain": [
       "1.0000248762407027"
      ]
     },
     "execution_count": 32,
     "metadata": {},
     "output_type": "execute_result"
    }
   ],
   "source": [
    "np.sum(norm_pd)*(Bpole[1]-Bpole[0])"
   ]
  },
  {
   "cell_type": "code",
   "execution_count": 33,
   "metadata": {},
   "outputs": [],
   "source": [
    "hist=[]\n",
    "for i in range(1,bins.size):\n",
    "    hist.append(sum(norm_pd[np.where((Bpole<bins[i]) & (Bpole>=bins[i-1]))]*(Bpole[1]-Bpole[0])))"
   ]
  },
  {
   "cell_type": "code",
   "execution_count": 41,
   "metadata": {},
   "outputs": [
    {
     "data": {
      "text/plain": [
       "50"
      ]
     },
     "execution_count": 41,
     "metadata": {},
     "output_type": "execute_result"
    },
    {
     "data": {
      "image/png": "[encoded data removed]",
      "text/plain": [
       "<Figure size 640x480 with 1 Axes>"
      ]
     },
     "metadata": {},
     "output_type": "display_data"
    }
   ],
   "source": [
    "plt.plot(bins[1:],hist)\n",
    "np.array(hist).size"
   ]
  },
  {
   "cell_type": "code",
   "execution_count": 91,
   "metadata": {},
   "outputs": [
    {
     "data": {
      "image/png": "[encoded data removed]",
      "text/plain": [
       "<Figure size 640x480 with 1 Axes>"
      ]
     },
     "metadata": {},
     "output_type": "display_data"
    },
    {
     "data": {
      "image/png": "[encoded data removed]",
      "text/plain": [
       "<Figure size 640x480 with 1 Axes>"
      ]
     },
     "execution_count": 91,
     "metadata": {},
     "output_type": "execute_result"
    }
   ],
   "source": [
    "figure(Bpole2, norm_pd2, upperbounds, percents)"
   ]
  },
  {
   "cell_type": "code",
   "execution_count": null,
   "metadata": {},
   "outputs": [],
   "source": []
  }
 ],
 "metadata": {
  "interpreter": {
   "hash": "294a0b9bfc79ce88e29f56e11670a78bb3a231581d3d3954ad0b1fa1a01a617d"
  },
  "kernelspec": {
   "display_name": "Python 3.9.7 64-bit ('base': conda)",
   "name": "python3"
  },
  "language_info": {
   "codemirror_mode": {
    "name": "ipython",
    "version": 3
   },
   "file_extension": ".py",
   "mimetype": "text/x-python",
   "name": "python",
   "nbconvert_exporter": "python",
   "pygments_lexer": "ipython3",
   "version": "3.11.3"
  },
  "orig_nbformat": 4
 },
 "nbformat": 4,
 "nbformat_minor": 2
}
