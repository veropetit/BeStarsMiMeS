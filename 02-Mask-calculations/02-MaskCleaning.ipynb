{
  "cells": [
    {
      "cell_type": "markdown",
      "metadata": {
        "id": "rDDLQJ7HKt4S"
      },
      "source": [
        "# Python calculation to be made for individual models"
      ]
    },
    {
      "cell_type": "markdown",
      "metadata": {
        "id": "gb6qqojjLVAf"
      },
      "source": [
        "## 0. Packages and data"
      ]
    },
    {
      "cell_type": "code",
      "execution_count": null,
      "metadata": {
        "colab": {
          "base_uri": "https://localhost:8080/"
        },
        "id": "FUtJ9cc12MKL",
        "outputId": "f87309c3-0400-45eb-c072-7a895966322e"
      },
      "outputs": [
        {
          "name": "stdout",
          "output_type": "stream",
          "text": [
            "/content\n"
          ]
        }
      ],
      "source": [
        "cd /content"
      ]
    },
    {
      "cell_type": "code",
      "execution_count": null,
      "metadata": {
        "colab": {
          "base_uri": "https://localhost:8080/"
        },
        "id": "2jqc0WoGLatH",
        "outputId": "092b89b7-70a8-42dc-a5cf-6055dd3e55f8"
      },
      "outputs": [
        {
          "name": "stdout",
          "output_type": "stream",
          "text": [
            "fatal: destination path 'specpolFlow' already exists and is not an empty directory.\n"
          ]
        }
      ],
      "source": [
        "!git clone https://github.com/folsomcp/specpolFlow"
      ]
    },
    {
      "cell_type": "code",
      "execution_count": null,
      "metadata": {
        "id": "Ob-aghRQLiwJ"
      },
      "outputs": [],
      "source": [
        "import specpolFlow as pol\n",
        "import numpy as np\n",
        "import pandas as pd"
      ]
    },
    {
      "cell_type": "code",
      "execution_count": null,
      "metadata": {
        "colab": {
          "base_uri": "https://localhost:8080/"
        },
        "id": "FzwLzvUwLuxi",
        "outputId": "3d8237ef-d675-432a-f87d-ef3de2572a55"
      },
      "outputs": [
        {
          "name": "stdout",
          "output_type": "stream",
          "text": [
            "Drive already mounted at /content/drive; to attempt to forcibly remount, call drive.mount(\"/content/drive\", force_remount=True).\n"
          ]
        }
      ],
      "source": [
        "from google.colab import drive\n",
        "drive.mount('/content/drive')"
      ]
    },
    {
      "cell_type": "code",
      "execution_count": null,
      "metadata": {
        "colab": {
          "base_uri": "https://localhost:8080/"
        },
        "id": "yeW2te_eMLGb",
        "outputId": "0aae7afc-646a-4423-919d-4b9f919cb0ab"
      },
      "outputs": [
        {
          "name": "stdout",
          "output_type": "stream",
          "text": [
            "/content/drive/Shareddrives/BeStarsMiMeS\n"
          ]
        }
      ],
      "source": [
        "cd /content/drive/Shareddrives/BeStarsMiMeS/"
      ]
    },
    {
      "cell_type": "markdown",
      "metadata": {
        "id": "tMXY1C61sPKy"
      },
      "source": [
        "## 1 Remove lines in the mask that are in regions of heavy telluric contamination - Federico"
      ]
    },
    {
      "cell_type": "markdown",
      "metadata": {
        "id": "3AwQmklG6TKg"
      },
      "source": [
        "### Based on the _04-Telluric contamination_ notebook:\n",
        "\n",
        "In the _04-Telluric contamination_ notebook, a code was written to use only spectral lines which are not in the contaminated regions of the spectrum. These regions were identified visually and put in the spreadsheet _04-ContaminationregionsWL_. \n",
        "\n",
        "In this notebook we create a loop over all the individual models, with different mask values to 'clean' them.\n"
      ]
    },
    {
      "cell_type": "markdown",
      "metadata": {
        "id": "Ye1LUyE87fEg"
      },
      "source": [
        "The two next code blocks just makes sure we are located correctly and authenticates the user. However we change the directory to the _/Masks_ folder. "
      ]
    },
    {
      "cell_type": "code",
      "execution_count": null,
      "metadata": {
        "colab": {
          "base_uri": "https://localhost:8080/"
        },
        "id": "EDnJ3_SRu6ar",
        "outputId": "edd93e7a-4953-4b35-9327-7d93050ed8ec"
      },
      "outputs": [
        {
          "name": "stdout",
          "output_type": "stream",
          "text": [
            "Drive already mounted at /content/drive; to attempt to forcibly remount, call drive.mount(\"/content/drive\", force_remount=True).\n"
          ]
        }
      ],
      "source": [
        "from google.colab import drive\n",
        "drive.mount('/content/drive')\n",
        "\n",
        "from google.colab import auth\n",
        "auth.authenticate_user()\n",
        "\n",
        "import gspread\n",
        "from google.auth import default\n",
        "creds, _ = default()\n",
        "\n",
        "gc = gspread.authorize(creds)\n"
      ]
    },
    {
      "cell_type": "code",
      "execution_count": null,
      "metadata": {
        "colab": {
          "base_uri": "https://localhost:8080/"
        },
        "id": "IzY8mS8cyhc1",
        "outputId": "85493b48-9479-4e29-e115-9d257433981d"
      },
      "outputs": [
        {
          "name": "stdout",
          "output_type": "stream",
          "text": [
            "/content/drive/Shareddrives/BeStarsMiMeS/Masks\n"
          ]
        }
      ],
      "source": [
        "cd /content/drive/Shareddrives/BeStarsMiMeS/Masks"
      ]
    },
    {
      "cell_type": "markdown",
      "metadata": {
        "id": "azX-_oi778TB"
      },
      "source": [
        "The next line creates a new folder called __depth0.02_tellClean__, where the new masks will be stored. "
      ]
    },
    {
      "cell_type": "code",
      "execution_count": null,
      "metadata": {
        "id": "tdORAzQK3ZU_"
      },
      "outputs": [],
      "source": [
        "#!mkdir depth0.02_tellClean"
      ]
    },
    {
      "cell_type": "markdown",
      "metadata": {
        "id": "M0AClgAf8evp"
      },
      "source": [
        "The next code block gathers information from the _00InputInformation_ and _04-ContaminationregionsWL_ spreadsheets using pandas. "
      ]
    },
    {
      "cell_type": "code",
      "execution_count": null,
      "metadata": {
        "colab": {
          "base_uri": "https://localhost:8080/"
        },
        "id": "qeDpEuBFsXaO",
        "outputId": "93e94440-daf5-4e7b-8588-afac9af8fef8"
      },
      "outputs": [
        {
          "name": "stdout",
          "output_type": "stream",
          "text": [
            "[<Worksheet 'WLRegions' id:0>]\n",
            "[{'WLStart': 587.5, 'WLFinish': 592, 'Type': 'Telluric'}, {'WLStart': 627.5, 'WLFinish': 632.5, 'Type': 'Telluric'}, {'WLStart': 684, 'WLFinish': 705.3, 'Type': 'Telluric'}, {'WLStart': 717, 'WLFinish': 735, 'Type': 'Telluric'}, {'WLStart': 757, 'WLFinish': 771, 'Type': 'Telluric'}, {'WLStart': 790, 'WLFinish': 794, 'Type': 'Telluric'}, {'WLStart': 809, 'WLFinish': 990, 'Type': 'Telluric'}, {'WLStart': 360, 'WLFinish': 392, 'Type': 'Hjump'}, {'WLStart': 654.1123333, 'WLFinish': 658.4876667, 'Type': 'Halpha'}, {'WLStart': 484.5195333, 'WLFinish': 487.7604667, 'Type': 'Hbeta'}, {'WLStart': 432.6031667, 'WLFinish': 435.4968333, 'Type': 'Hgamma'}, {'WLStart': 408.8027667, 'WLFinish': 411.5372333, 'Type': 'Hdelta'}, {'WLStart': 395.6866333, 'WLFinish': 398.3333667, 'Type': 'Hepsilon'}]\n"
          ]
        }
      ],
      "source": [
        "\n",
        "gc = gspread.authorize(creds)\n",
        "# Using pandas to read spreadsheet\n",
        "spreadsheet = gc.open_by_url('https://docs.google.com/spreadsheets/d/1M6y1Wnsrc-w5FjUMfKaSFa_-foIDAaMe8W4lYNWnWyk/edit?usp=sharing')\n",
        "wsheet = spreadsheet.worksheet(\"Stars\")\n",
        "\n",
        "lom = pd.DataFrame(wsheet.get_all_records())\n",
        "\n",
        "#Regions\n",
        "spreadsheet = gc.open_by_url('https://docs.google.com/spreadsheets/d/19lS0Xg-2ZUs0ps8jZ-JM3pR1YIuC_lWvRMpFAM5VUYI/edit?usp=sharing')\n",
        "\n",
        "# Get the name of all of the sheets in the spreadsheet file\n",
        "print(spreadsheet.worksheets())\n",
        "\n",
        "# Select the sheet that we want\n",
        "worksheet = spreadsheet.worksheet(\"WLRegions\")\n",
        "\n",
        "# get_all_values gives a list of rows.\n",
        "rows = worksheet.get_all_records()\n",
        "print(rows[:])\n",
        "\n",
        "# Put the sheet containing the target information into a \n",
        "\n",
        "WLRegions = pd.DataFrame.from_records(rows)\n"
      ]
    },
    {
      "cell_type": "markdown",
      "metadata": {
        "id": "Ott0rf2O8z18"
      },
      "source": [
        "This last code block uses the code from _04-Telluric contamination_ notebook, but loops for all model masks and finally saves the masks with the same name, but located in a the new folder that was created previously. "
      ]
    },
    {
      "cell_type": "code",
      "execution_count": null,
      "metadata": {
        "id": "mvAKQAJW8b1g"
      },
      "outputs": [],
      "source": [
        "#Place the regions into a matrix\n",
        "\n",
        "L = np.shape(WLRegions.loc[:,'WLStart'])[0]\n",
        "\n",
        "regions = np.zeros((L,2))\n",
        "\n",
        "regions[:,0] = WLRegions.loc[:,'WLStart']\n",
        "regions[:,1] = WLRegions.loc[:,'WLFinish']\n",
        "\n",
        "#Getting masks\n",
        "for i in range(len(lom[\"Name\"])): \n",
        "  star = lom[\"Name\"][i]\n",
        "  modelcode =lom[\"ModelCode\"][i].upper()\n",
        "  \n",
        "  #The next loop loops over every observation, which is needed\n",
        "  #for Asif's masks, so better leave it this way to change\n",
        "  #easier between masks although our masks only depende on the\n",
        "  #modelcode\n",
        "  for j in range(1,int(lom[\"Nobs\"][i])+1):\n",
        "    name = '/content/drive/Shareddrives/BeStarsMiMeS/02-Mask-calculations/VALDlist2mask/depth0.1/{}_depth0.1.mask'.format(modelcode)\n",
        "    #name= 'Asif_tweak/{}_clean_{}.mask_auto_twk'.format(star,j)\n",
        "    mask_i = pol.iolsd.mask(fname=name)\n",
        "\n",
        "    #Identifying if a line is inside or outside the regions\n",
        "    dcard = []\n",
        "    for lines in mask_i.wl:\n",
        "      for i in range(0,np.size(regions[:,0])):\n",
        "        if regions[i,0] < lines < regions[i,1]:\n",
        "          dcard.append(lines)\n",
        "\n",
        "    #Creating a list with the mask.wl elements\n",
        "    mask_list = mask_i.wl.tolist()\n",
        "\n",
        "    for line in dcard:\n",
        "      index = (mask_list).index(line)\n",
        "      mask_i.iuse[index]=0\n",
        "\n",
        "    l = np.size(mask_i.wl)\n",
        "    spec_lines = []\n",
        "    for i in range(0,l):\n",
        "      if mask_i.iuse[i]==1:\n",
        "        spec_lines.append(mask_i.wl[i])\n",
        "    mask_i.save('/content/drive/Shareddrives/BeStarsMiMeS/02-Mask-calculations/MaskCleaning/depth0.1_tellClean/{}_depth0.1.mask'.format(modelcode))\n",
        "    #mask_i.save('Asif_tweak_tellClean/{}_clean_{}.mask_auto_twk'.format(star,j))"
      ]
    },
    {
      "cell_type": "code",
      "execution_count": null,
      "metadata": {
        "id": "VwPKVib0KXa1"
      },
      "outputs": [],
      "source": []
    }
  ],
  "metadata": {
    "colab": {
      "collapsed_sections": [
        "gb6qqojjLVAf"
      ],
      "provenance": []
    },
    "kernelspec": {
      "display_name": "Python 3",
      "name": "python3"
    },
    "language_info": {
      "name": "python"
    }
  },
  "nbformat": 4,
  "nbformat_minor": 0
}
