{
  "cells": [
    {
      "attachments": {},
      "cell_type": "markdown",
      "metadata": {
        "id": "rDDLQJ7HKt4S"
      },
      "source": [
        "# Python calculation to be made for individual models"
      ]
    },
    {
      "attachments": {},
      "cell_type": "markdown",
      "metadata": {
        "id": "gb6qqojjLVAf"
      },
      "source": [
        "## 0. Packages and data"
      ]
    },
    {
      "cell_type": "code",
      "execution_count": 1,
      "metadata": {
        "colab": {
          "base_uri": "https://localhost:8080/"
        },
        "id": "FUtJ9cc12MKL",
        "outputId": "f87309c3-0400-45eb-c072-7a895966322e"
      },
      "outputs": [],
      "source": [
        "path='G:/Shared drives/BeStarsMiMeS/UpdatedFiles/' #Patrick's google file stream path"
      ]
    },
    {
      "cell_type": "code",
      "execution_count": 2,
      "metadata": {
        "id": "Ob-aghRQLiwJ"
      },
      "outputs": [],
      "source": [
        "import specpolFlow as pol\n",
        "import numpy as np\n",
        "import pandas as pd"
      ]
    },
    {
      "attachments": {},
      "cell_type": "markdown",
      "metadata": {},
      "source": [
        "## 0.5 Calculation of LSD Parameters\n",
        "\n",
        "The next block code calculates the adequate parameters for LSD calculations, given a velocity factor (`vel_fact`) for vsini. For example if vel_fact=5, then the profiles are calculated in the range [-5*vsini,5*vsini]. After the calculations, the parameters are stored in the file *'Params-LSDProfiles-CalculatedByPython.csv'* inside the LSD folder. \n",
        "\n",
        "After that, there are different codes for different sets of LSD profile calculations. The first cell in all of them reads the *'Params-LSDProfiles-CalculatedByPython.csv'* file to get the parameters. The next loop calculates the LSD profiles for a given **spectra** and **mask**. The calculations are saved in *'.lsd'* files in respective folders inside the LSD folder, and a pdf containing all plots is saved in a file in the LSD folder. \n",
        "\n",
        "We have opted to calculate the profiles in a range corresponding to $\\pm3 \\times v\\sin i$, allowing some extra room in case of large radial velocity. The pixel size is set to 20 pixels per $v\\sin i$, with a minimum of 2.6 km/s.  \n",
        "\n",
        "> Add the extra explanation from Federico's slide deck, or add a link to it?"
      ]
    },
    {
      "cell_type": "code",
      "execution_count": 3,
      "metadata": {},
      "outputs": [],
      "source": [
        "import pandas as pd\n",
        "\n",
        "# Using pandas to read spreadsheet\n",
        "\n",
        "sheet_id='1M6y1Wnsrc-w5FjUMfKaSFa_-foIDAaMe8W4lYNWnWyk'\n",
        "sheet_name = 'Observations'\n",
        "url = f'https://docs.google.com/spreadsheets/d/{sheet_id}/gviz/tq?tqx=out:csv&sheet={sheet_name}'\n",
        "Observations=pd.read_csv(url)\n",
        "\n",
        "sheet_name = 'Stars'\n",
        "url = f'https://docs.google.com/spreadsheets/d/{sheet_id}/gviz/tq?tqx=out:csv&sheet={sheet_name}'\n",
        "StarData=pd.read_csv(url)\n"
      ]
    },
    {
      "cell_type": "code",
      "execution_count": 4,
      "metadata": {},
      "outputs": [],
      "source": [
        "vel_fac = 3\n",
        "data_per_vsini = 20"
      ]
    },
    {
      "cell_type": "code",
      "execution_count": 5,
      "metadata": {},
      "outputs": [],
      "source": [
        "maxv={} #finding the maximum radial velocity for each observation. \n",
        "for i, ObsInfo in Observations.iterrows():\n",
        "  star = ObsInfo[\"Name\"]\n",
        "  try:\n",
        "    maxv[star]\n",
        "  except:\n",
        "    maxv.update({star: abs(ObsInfo[\"Unnamed: 11\"])})\n",
        "  else:\n",
        "    if maxv[star] < abs(ObsInfo[\"Unnamed: 11\"]):\n",
        "      maxv[star] = abs(ObsInfo[\"Unnamed: 11\"])\n",
        "\n",
        "data = {}\n",
        "starA = []\n",
        "velSA = []\n",
        "velFA = []\n",
        "velPA = []"
      ]
    },
    {
      "cell_type": "code",
      "execution_count": 12,
      "metadata": {},
      "outputs": [],
      "source": [
        "for i, ObsInfo in Observations.iterrows():\n",
        "  star = ObsInfo[\"Name\"]\n",
        "  obs = ObsInfo[\"Unnamed: 2\"]\n",
        "  for j in range(0,len(StarData[\"Name\"])):\n",
        "    if StarData[\"Name\"][j] == star:\n",
        "      modelcode = StarData[\"ModelCode\"][j].upper()\n",
        "      if StarData['vsini-estimate'][j]=='very bad' or np.isnan(StarData['vsini-estimate'][j]):\n",
        "        vsini=StarData['Adopted-vsini'][j]\n",
        "      else:\n",
        "        vsini = float(StarData['vsini-estimate'][j])      \n",
        "\n",
        "  if maxv[star] + vsini < vel_fac*vsini:\n",
        "    velS , velF = (- vel_fac*vsini,vel_fac*vsini) \n",
        "  else:\n",
        "    velS , velF = (- vel_fac*vsini - maxv[star],vel_fac*vsini + maxv[star])\n",
        "  \n",
        "  velP = vsini / data_per_vsini\n",
        "  if velP < 2.6:\n",
        "    velP = 2.6\n",
        "\n",
        "  if star not in starA:\n",
        "    starA.append(star)\n",
        "    velSA.append(velS)\n",
        "    velFA.append(velF)\n",
        "    velPA.append(velP)\n",
        "\n",
        "dat = {'Name': starA,\n",
        "       'VelStart':velSA,\n",
        "       'VelEnd':velFA,\n",
        "       'VelPixel':velPA}\n",
        "\n",
        "df = pd.DataFrame(data=dat)\n",
        "df.to_csv('{}03-LSD-calculations/LSD/Params-LSDProfiles-CalculatedByPython.csv'.format(path))\n"
      ]
    },
    {
      "cell_type": "markdown",
      "metadata": {},
      "source": [
        "## 1. Cleaning 0.02 Depth Masks"
      ]
    },
    {
      "cell_type": "code",
      "execution_count": 6,
      "metadata": {},
      "outputs": [],
      "source": [
        "## masks a mask for each MODEL where the balmer exclusion region is 800+2*vsini km/s\n",
        "for i, ObsInfo in Observations.iterrows():\n",
        "    star = ObsInfo[\"Name\"]\n",
        "    obs = ObsInfo[\"Unnamed: 2\"]\n",
        "    for j in range(0,len(StarData[\"Name\"])):\n",
        "        if StarData[\"Name\"][j] == star:\n",
        "            modelcode = StarData[\"ModelCode\"][j].upper()\n",
        "            if StarData['vsini-estimate'][j]=='very bad' or np.isnan(StarData['vsini-estimate'][j]):\n",
        "                vsini=StarData['Adopted-vsini'][j]\n",
        "            else:\n",
        "                vsini = float(StarData['vsini-estimate'][j])      \n",
        "\n",
        "    velrange = 800+2*vsini # units are in km/s\n",
        "    excluded_regions = pol.get_Balmer_regions_default(velrange) + pol.get_telluric_regions_default()\n",
        "\n",
        "    clean_Mask_filename = '{}02-Mask-calculations/MaskCleaning/depth0.02_tellClean/{}_{}_depth0.02.mask'.format(path,modelcode,star)\n",
        "\n",
        "    mask_filename= '{}02-Mask-calculations/VALDlist2mask/depth0.02/{}_depth0.02.mask'.format(path,modelcode)\n",
        "    mask = pol.read_mask(fname=mask_filename)\n",
        "\n",
        "    mask.clean(excluded_regions).save(clean_Mask_filename)"
      ]
    },
    {
      "cell_type": "markdown",
      "metadata": {},
      "source": [
        "## 2. Cleaning Asif Masks"
      ]
    },
    {
      "cell_type": "code",
      "execution_count": 7,
      "metadata": {},
      "outputs": [],
      "source": [
        "## masks a mask for each MODEL where the balmer exclusion region is 800+2*vsini km/s\n",
        "for i, ObsInfo in Observations.iterrows():\n",
        "    star = ObsInfo[\"Name\"]\n",
        "    obs = ObsInfo[\"Unnamed: 2\"]\n",
        "    for j in range(0,len(StarData[\"Name\"])):\n",
        "        if StarData[\"Name\"][j] == star:\n",
        "            modelcode = StarData[\"ModelCode\"][j].upper()\n",
        "            if StarData['vsini-estimate'][j]=='very bad' or np.isnan(StarData['vsini-estimate'][j]):\n",
        "                vsini=StarData['Adopted-vsini'][j]\n",
        "            else:\n",
        "                vsini = float(StarData['vsini-estimate'][j])      \n",
        "\n",
        "    velrange = 800+2*vsini # units are in km/s\n",
        "    excluded_regions = pol.get_Balmer_regions_default(velrange) + pol.get_telluric_regions_default()\n",
        "\n",
        "    clean_Mask_filename = '{}02-Mask-calculations/MaskCleaning/AsifMaskClean_tellClean/{}_clean_{}.mask'.format(path,star,obs)\n",
        "\n",
        "    mask_filename= '{}00-InputMaterial/AsifMaskClean/{}_clean_{}.mask'.format(path,star,obs)\n",
        "    mask = pol.read_mask(fname=mask_filename)\n",
        "    mask.iuse[np.where(mask.depth<=0.0001)]=0\n",
        "\n",
        "    mask.clean(excluded_regions).save(clean_Mask_filename)"
      ]
    },
    {
      "cell_type": "code",
      "execution_count": 8,
      "metadata": {},
      "outputs": [],
      "source": [
        "## masks a mask for each MODEL where the balmer exclusion region is 800+2*vsini km/s\n",
        "for i, ObsInfo in Observations.iterrows():\n",
        "    star = ObsInfo[\"Name\"]\n",
        "    obs = ObsInfo[\"Unnamed: 2\"]\n",
        "    for j in range(0,len(StarData[\"Name\"])):\n",
        "        if StarData[\"Name\"][j] == star:\n",
        "            modelcode = StarData[\"ModelCode\"][j].upper()\n",
        "            if StarData['vsini-estimate'][j]=='very bad' or np.isnan(StarData['vsini-estimate'][j]):\n",
        "                vsini=StarData['Adopted-vsini'][j]\n",
        "            else:\n",
        "                vsini = float(StarData['vsini-estimate'][j])      \n",
        "\n",
        "    velrange = 800+2*vsini # units are in km/s\n",
        "    excluded_regions = pol.get_Balmer_regions_default(velrange) + pol.get_telluric_regions_default()\n",
        "\n",
        "    clean_Mask_filename = '{}02-Mask-calculations/MaskCleaning/AsifMaskCleanTweak_tellClean/{}_clean_{}.mask_auto_twk'.format(path,star,obs)\n",
        "\n",
        "    mask_filename= '{}00-InputMaterial/AsifMaskCleanTweak/{}_clean_{}.mask_auto_twk'.format(path,star,obs)\n",
        "    mask = pol.read_mask(fname=mask_filename)\n",
        "    mask.iuse[np.where(mask.depth<=0.0001)]=0\n",
        "\n",
        "    mask.clean(excluded_regions).save(clean_Mask_filename)"
      ]
    },
    {
      "cell_type": "markdown",
      "metadata": {},
      "source": [
        "## 3. Super Cleaning Asif Masks"
      ]
    },
    {
      "cell_type": "code",
      "execution_count": 9,
      "metadata": {},
      "outputs": [],
      "source": [
        "## masks a mask for each MODEL where the balmer exclusion region is 800+2*vsini km/s\n",
        "for i, ObsInfo in Observations.iterrows():\n",
        "    star = ObsInfo[\"Name\"]\n",
        "    obs = ObsInfo[\"Unnamed: 2\"]\n",
        "    for j in range(0,len(StarData[\"Name\"])):\n",
        "        if StarData[\"Name\"][j] == star:\n",
        "            modelcode = StarData[\"ModelCode\"][j].upper()\n",
        "            if StarData['vsini-estimate'][j]=='very bad' or np.isnan(StarData['vsini-estimate'][j]):\n",
        "                vsini=StarData['Adopted-vsini'][j]\n",
        "            else:\n",
        "                vsini = float(StarData['vsini-estimate'][j])      \n",
        "\n",
        "    velrange = 800+2*vsini # units are in km/s\n",
        "    excluded_regions = pol.get_Balmer_regions_default(velrange) + pol.get_telluric_regions_default()\n",
        "\n",
        "    clean_Mask_filename = '{}02-Mask-calculations/MaskCleaning/AsifMaskSuperClean_tellClean/{}_clean_{}.mask'.format(path,star,obs)\n",
        "\n",
        "    mask_filename= '{}00-InputMaterial/AsifMaskClean/{}_clean_{}.mask'.format(path,star,obs)\n",
        "    mask = pol.read_mask(fname=mask_filename)\n",
        "    mask.iuse[np.where(mask.depth<0.02)]=0\n",
        "\n",
        "    mask.clean(excluded_regions).save(clean_Mask_filename)"
      ]
    },
    {
      "cell_type": "code",
      "execution_count": 10,
      "metadata": {},
      "outputs": [],
      "source": [
        "## masks a mask for each MODEL where the balmer exclusion region is 800+2*vsini km/s\n",
        "for i, ObsInfo in Observations.iterrows():\n",
        "    star = ObsInfo[\"Name\"]\n",
        "    obs = ObsInfo[\"Unnamed: 2\"]\n",
        "    for j in range(0,len(StarData[\"Name\"])):\n",
        "        if StarData[\"Name\"][j] == star:\n",
        "            modelcode = StarData[\"ModelCode\"][j].upper()\n",
        "            if StarData['vsini-estimate'][j]=='very bad' or np.isnan(StarData['vsini-estimate'][j]):\n",
        "                vsini=StarData['Adopted-vsini'][j]\n",
        "            else:\n",
        "                vsini = float(StarData['vsini-estimate'][j])      \n",
        "\n",
        "    velrange = 800+2*vsini # units are in km/s\n",
        "    excluded_regions = pol.get_Balmer_regions_default(velrange) + pol.get_telluric_regions_default()\n",
        "\n",
        "    clean_Mask_filename = '{}02-Mask-calculations/MaskCleaning/AsifMaskSuperCleanTweak_tellClean/{}_clean_{}.mask_auto_twk'.format(path,star,obs)\n",
        "\n",
        "    mask_filename= '{}00-InputMaterial/AsifMaskCleanTweak/{}_clean_{}.mask_auto_twk'.format(path,star,obs)\n",
        "    mask = pol.read_mask(fname=mask_filename)\n",
        "    mask.iuse[np.where(mask.depth<0.02)]=0\n",
        "\n",
        "    mask.clean(excluded_regions).save(clean_Mask_filename)"
      ]
    },
    {
      "cell_type": "code",
      "execution_count": 11,
      "metadata": {},
      "outputs": [
        {
          "data": {
            "text/html": [
              "<div>\n",
              "<style scoped>\n",
              "    .dataframe tbody tr th:only-of-type {\n",
              "        vertical-align: middle;\n",
              "    }\n",
              "\n",
              "    .dataframe tbody tr th {\n",
              "        vertical-align: top;\n",
              "    }\n",
              "\n",
              "    .dataframe thead th {\n",
              "        text-align: right;\n",
              "    }\n",
              "</style>\n",
              "<table border=\"1\" class=\"dataframe\">\n",
              "  <thead>\n",
              "    <tr style=\"text-align: right;\">\n",
              "      <th></th>\n",
              "      <th>start</th>\n",
              "      <th>stop</th>\n",
              "      <th>type</th>\n",
              "    </tr>\n",
              "  </thead>\n",
              "  <tbody>\n",
              "    <tr>\n",
              "      <th>0</th>\n",
              "      <td>653.478929</td>\n",
              "      <td>659.083071</td>\n",
              "      <td>Halpha</td>\n",
              "    </tr>\n",
              "    <tr>\n",
              "      <th>1</th>\n",
              "      <td>484.064367</td>\n",
              "      <td>488.215633</td>\n",
              "      <td>Hbeta</td>\n",
              "    </tr>\n",
              "    <tr>\n",
              "      <th>2</th>\n",
              "      <td>432.196771</td>\n",
              "      <td>435.903229</td>\n",
              "      <td>Hgamma</td>\n",
              "    </tr>\n",
              "    <tr>\n",
              "      <th>3</th>\n",
              "      <td>408.418730</td>\n",
              "      <td>411.921270</td>\n",
              "      <td>Hdelta</td>\n",
              "    </tr>\n",
              "    <tr>\n",
              "      <th>4</th>\n",
              "      <td>395.314918</td>\n",
              "      <td>398.705082</td>\n",
              "      <td>Hepsilon</td>\n",
              "    </tr>\n",
              "    <tr>\n",
              "      <th>5</th>\n",
              "      <td>360.000000</td>\n",
              "      <td>392.000000</td>\n",
              "      <td>Hjump</td>\n",
              "    </tr>\n",
              "    <tr>\n",
              "      <th>6</th>\n",
              "      <td>587.500000</td>\n",
              "      <td>592.000000</td>\n",
              "      <td>telluric</td>\n",
              "    </tr>\n",
              "    <tr>\n",
              "      <th>7</th>\n",
              "      <td>627.500000</td>\n",
              "      <td>632.500000</td>\n",
              "      <td>telluric</td>\n",
              "    </tr>\n",
              "    <tr>\n",
              "      <th>8</th>\n",
              "      <td>684.000000</td>\n",
              "      <td>705.300000</td>\n",
              "      <td>telluric</td>\n",
              "    </tr>\n",
              "    <tr>\n",
              "      <th>9</th>\n",
              "      <td>717.000000</td>\n",
              "      <td>735.000000</td>\n",
              "      <td>telluric</td>\n",
              "    </tr>\n",
              "    <tr>\n",
              "      <th>10</th>\n",
              "      <td>757.000000</td>\n",
              "      <td>771.000000</td>\n",
              "      <td>telluric</td>\n",
              "    </tr>\n",
              "    <tr>\n",
              "      <th>11</th>\n",
              "      <td>790.000000</td>\n",
              "      <td>795.000000</td>\n",
              "      <td>telluric</td>\n",
              "    </tr>\n",
              "    <tr>\n",
              "      <th>12</th>\n",
              "      <td>809.000000</td>\n",
              "      <td>990.000000</td>\n",
              "      <td>telluric</td>\n",
              "    </tr>\n",
              "  </tbody>\n",
              "</table>\n",
              "</div>"
            ],
            "text/plain": [
              "         start        stop      type\n",
              "0   653.478929  659.083071    Halpha\n",
              "1   484.064367  488.215633     Hbeta\n",
              "2   432.196771  435.903229    Hgamma\n",
              "3   408.418730  411.921270    Hdelta\n",
              "4   395.314918  398.705082  Hepsilon\n",
              "5   360.000000  392.000000     Hjump\n",
              "6   587.500000  592.000000  telluric\n",
              "7   627.500000  632.500000  telluric\n",
              "8   684.000000  705.300000  telluric\n",
              "9   717.000000  735.000000  telluric\n",
              "10  757.000000  771.000000  telluric\n",
              "11  790.000000  795.000000  telluric\n",
              "12  809.000000  990.000000  telluric"
            ]
          },
          "execution_count": 11,
          "metadata": {},
          "output_type": "execute_result"
        }
      ],
      "source": [
        "pd.DataFrame(excluded_regions.to_dict())"
      ]
    },
    {
      "cell_type": "markdown",
      "metadata": {},
      "source": [
        "## OLD"
      ]
    },
    {
      "attachments": {},
      "cell_type": "markdown",
      "metadata": {
        "id": "tMXY1C61sPKy"
      },
      "source": [
        "### 1 Remove lines in the mask that are in regions of heavy telluric contamination - Federico"
      ]
    },
    {
      "attachments": {},
      "cell_type": "markdown",
      "metadata": {
        "id": "3AwQmklG6TKg"
      },
      "source": [
        "### Based on the _04-Telluric contamination_ notebook:\n",
        "\n",
        "In the _04-Telluric contamination_ notebook, a code was written to use only spectral lines which are not in the contaminated regions of the spectrum. These regions were identified visually and put in the spreadsheet _04-ContaminationregionsWL_. \n",
        "\n",
        "In this notebook we create a loop over all the individual models, with different mask values to 'clean' them.\n"
      ]
    },
    {
      "attachments": {},
      "cell_type": "markdown",
      "metadata": {
        "id": "Ye1LUyE87fEg"
      },
      "source": [
        "The two next code blocks just makes sure we are located correctly and authenticates the user. However we change the directory to the _/Masks_ folder. "
      ]
    },
    {
      "attachments": {},
      "cell_type": "markdown",
      "metadata": {
        "id": "azX-_oi778TB"
      },
      "source": [
        "The next line creates a new folder called __depth0.02_tellClean__, where the new masks will be stored. "
      ]
    },
    {
      "cell_type": "code",
      "execution_count": null,
      "metadata": {
        "id": "tdORAzQK3ZU_"
      },
      "outputs": [],
      "source": [
        "#!mkdir depth0.02_tellClean"
      ]
    },
    {
      "attachments": {},
      "cell_type": "markdown",
      "metadata": {
        "id": "M0AClgAf8evp"
      },
      "source": [
        "The next code block gathers information from the _00InputInformation_ and _04-ContaminationregionsWL_ spreadsheets using pandas. "
      ]
    },
    {
      "cell_type": "code",
      "execution_count": 14,
      "metadata": {
        "colab": {
          "base_uri": "https://localhost:8080/"
        },
        "id": "qeDpEuBFsXaO",
        "outputId": "93e94440-daf5-4e7b-8588-afac9af8fef8"
      },
      "outputs": [],
      "source": [
        "import pandas as pd\n",
        "\n",
        "# Using pandas to read spreadsheet\n",
        "\n",
        "sheet_id='1M6y1Wnsrc-w5FjUMfKaSFa_-foIDAaMe8W4lYNWnWyk'\n",
        "sheet_name = 'ListOfModels'\n",
        "url = f'https://docs.google.com/spreadsheets/d/{sheet_id}/gviz/tq?tqx=out:csv&sheet={sheet_name}'\n",
        "lom=pd.read_csv(url)\n",
        "\n",
        "\n",
        "#Regions\n",
        "\n",
        "sheet_id='19lS0Xg-2ZUs0ps8jZ-JM3pR1YIuC_lWvRMpFAM5VUYI'\n",
        "sheet_name = 'WLRegions'\n",
        "url = f'https://docs.google.com/spreadsheets/d/{sheet_id}/gviz/tq?tqx=out:csv&sheet={sheet_name}'\n",
        "WLRegions=pd.read_csv(url)\n"
      ]
    },
    {
      "cell_type": "code",
      "execution_count": 15,
      "metadata": {},
      "outputs": [
        {
          "data": {
            "text/html": [
              "<div>\n",
              "<style scoped>\n",
              "    .dataframe tbody tr th:only-of-type {\n",
              "        vertical-align: middle;\n",
              "    }\n",
              "\n",
              "    .dataframe tbody tr th {\n",
              "        vertical-align: top;\n",
              "    }\n",
              "\n",
              "    .dataframe thead th {\n",
              "        text-align: right;\n",
              "    }\n",
              "</style>\n",
              "<table border=\"1\" class=\"dataframe\">\n",
              "  <thead>\n",
              "    <tr style=\"text-align: right;\">\n",
              "      <th></th>\n",
              "      <th>WLStart</th>\n",
              "      <th>WLFinish</th>\n",
              "      <th>Type</th>\n",
              "    </tr>\n",
              "  </thead>\n",
              "  <tbody>\n",
              "    <tr>\n",
              "      <th>0</th>\n",
              "      <td>587.500000</td>\n",
              "      <td>592.000000</td>\n",
              "      <td>Telluric</td>\n",
              "    </tr>\n",
              "    <tr>\n",
              "      <th>1</th>\n",
              "      <td>627.500000</td>\n",
              "      <td>632.500000</td>\n",
              "      <td>Telluric</td>\n",
              "    </tr>\n",
              "    <tr>\n",
              "      <th>2</th>\n",
              "      <td>684.000000</td>\n",
              "      <td>705.300000</td>\n",
              "      <td>Telluric</td>\n",
              "    </tr>\n",
              "    <tr>\n",
              "      <th>3</th>\n",
              "      <td>717.000000</td>\n",
              "      <td>735.000000</td>\n",
              "      <td>Telluric</td>\n",
              "    </tr>\n",
              "    <tr>\n",
              "      <th>4</th>\n",
              "      <td>757.000000</td>\n",
              "      <td>771.000000</td>\n",
              "      <td>Telluric</td>\n",
              "    </tr>\n",
              "    <tr>\n",
              "      <th>5</th>\n",
              "      <td>790.000000</td>\n",
              "      <td>794.000000</td>\n",
              "      <td>Telluric</td>\n",
              "    </tr>\n",
              "    <tr>\n",
              "      <th>6</th>\n",
              "      <td>809.000000</td>\n",
              "      <td>990.000000</td>\n",
              "      <td>Telluric</td>\n",
              "    </tr>\n",
              "    <tr>\n",
              "      <th>7</th>\n",
              "      <td>360.000000</td>\n",
              "      <td>392.000000</td>\n",
              "      <td>Hjump</td>\n",
              "    </tr>\n",
              "    <tr>\n",
              "      <th>8</th>\n",
              "      <td>654.112333</td>\n",
              "      <td>658.487667</td>\n",
              "      <td>Halpha</td>\n",
              "    </tr>\n",
              "    <tr>\n",
              "      <th>9</th>\n",
              "      <td>484.519533</td>\n",
              "      <td>487.760467</td>\n",
              "      <td>Hbeta</td>\n",
              "    </tr>\n",
              "    <tr>\n",
              "      <th>10</th>\n",
              "      <td>432.603167</td>\n",
              "      <td>435.496833</td>\n",
              "      <td>Hgamma</td>\n",
              "    </tr>\n",
              "    <tr>\n",
              "      <th>11</th>\n",
              "      <td>408.802767</td>\n",
              "      <td>411.537233</td>\n",
              "      <td>Hdelta</td>\n",
              "    </tr>\n",
              "    <tr>\n",
              "      <th>12</th>\n",
              "      <td>395.686633</td>\n",
              "      <td>398.333367</td>\n",
              "      <td>Hepsilon</td>\n",
              "    </tr>\n",
              "  </tbody>\n",
              "</table>\n",
              "</div>"
            ],
            "text/plain": [
              "       WLStart    WLFinish      Type\n",
              "0   587.500000  592.000000  Telluric\n",
              "1   627.500000  632.500000  Telluric\n",
              "2   684.000000  705.300000  Telluric\n",
              "3   717.000000  735.000000  Telluric\n",
              "4   757.000000  771.000000  Telluric\n",
              "5   790.000000  794.000000  Telluric\n",
              "6   809.000000  990.000000  Telluric\n",
              "7   360.000000  392.000000     Hjump\n",
              "8   654.112333  658.487667    Halpha\n",
              "9   484.519533  487.760467     Hbeta\n",
              "10  432.603167  435.496833    Hgamma\n",
              "11  408.802767  411.537233    Hdelta\n",
              "12  395.686633  398.333367  Hepsilon"
            ]
          },
          "execution_count": 15,
          "metadata": {},
          "output_type": "execute_result"
        }
      ],
      "source": [
        "WLRegions"
      ]
    },
    {
      "attachments": {},
      "cell_type": "markdown",
      "metadata": {
        "id": "Ott0rf2O8z18"
      },
      "source": [
        "This last code block uses the code from _04-Telluric contamination_ notebook, but loops for all model masks and finally saves the masks with the same name, but located in a the new folder that was created previously. "
      ]
    },
    {
      "cell_type": "code",
      "execution_count": null,
      "metadata": {
        "id": "mvAKQAJW8b1g"
      },
      "outputs": [],
      "source": [
        "#note: this function is now included within specpolFlow\n",
        "def clean_model_mask(name_in, name_out):\n",
        "  '''Function that cleans the mask by model code'''\n",
        "  #Place the regions into a matrix\n",
        "  L = np.shape(WLRegions.loc[:,'WLStart'])[0]\n",
        "\n",
        "  regions = np.zeros((L,2))\n",
        "\n",
        "  regions[:,0] = WLRegions.loc[:,'WLStart']\n",
        "  regions[:,1] = WLRegions.loc[:,'WLFinish']\n",
        "\n",
        "  #looping over all the model codes\n",
        "  for i in range(0,len(lom)): \n",
        "  #for i in range(1):\n",
        "    modelcode =lom[\"Model Code\"][i].upper()\n",
        "    \n",
        "    #The next loop loops over every observation, which is needed\n",
        "    #for Asif's masks, so better leave it this way to change\n",
        "    #easier between masks although our masks only depende on the\n",
        "    #modelcode\n",
        "\n",
        "    name = '{}02-Mask-calculations/VALDlist2mask/'+name_in.format(path,modelcode)\n",
        "    mask_i = pol.read_mask(fname=name)\n",
        "\n",
        "    #Identifying if a line is inside or outside the regions\n",
        "    dcard = []\n",
        "    for lines in mask_i.wl:\n",
        "      for i in range(0,np.size(regions[:,0])):\n",
        "        if regions[i,0] < lines < regions[i,1]:\n",
        "          dcard.append(lines)\n",
        "\n",
        "    #Creating a list with the mask.wl elements\n",
        "    mask_list = mask_i.wl.tolist()\n",
        "\n",
        "    for line in dcard:\n",
        "      index = (mask_list).index(line)\n",
        "      mask_i.iuse[index]=0\n",
        "\n",
        "    for j in range(mask_i.wl.size):\n",
        "      if mask_i.wl[j]==370.5001 or mask_i.wl[j]==381.9603 or mask_i.wl[j]==387.9772:\n",
        "        mask_i.iuse[j]=0\n",
        "\n",
        "    l = np.size(mask_i.wl)\n",
        "    spec_lines = []\n",
        "    for i in range(0,l):\n",
        "      if mask_i.iuse[i]==1:\n",
        "        spec_lines.append(mask_i.wl[i])\n",
        "    mask_i.save('{}02-Mask-calculations/MaskCleaning/'+name_out.format(path,modelcode))\n",
        "  return()\n"
      ]
    },
    {
      "cell_type": "code",
      "execution_count": null,
      "metadata": {
        "id": "VwPKVib0KXa1"
      },
      "outputs": [],
      "source": [
        "clean_model_mask('depth0.1/{}_depth0.1.mask', 'depth0.1_tellClean/{}_depth0.1.mask')\n",
        "\n",
        "clean_model_mask('depth0.02/{}_depth0.02.mask', 'depth0.02_tellClean/{}_depth0.02.mask')"
      ]
    },
    {
      "attachments": {},
      "cell_type": "markdown",
      "metadata": {},
      "source": [
        "### 2. Remove the lines in Asif's and Coralie's masks that are in regions of contamination (and also fix some lines with zero depth but in use in the tweaked masks)\n",
        "\n",
        "Their masks have tailored masks for each individual observations. So we loop over all of these below. \n",
        "\n",
        "Furthermore, some of the tweaked masks have lines that are used, but have the depth set to zero. We remove these lines (by setting the last column to zero). "
      ]
    },
    {
      "cell_type": "code",
      "execution_count": 111,
      "metadata": {},
      "outputs": [],
      "source": [
        "import pandas as pd\n",
        "\n",
        "# Using pandas to read spreadsheet\n",
        "\n",
        "sheet_id='1M6y1Wnsrc-w5FjUMfKaSFa_-foIDAaMe8W4lYNWnWyk'\n",
        "sheet_name = 'Observations'\n",
        "url = f'https://docs.google.com/spreadsheets/d/{sheet_id}/gviz/tq?tqx=out:csv&sheet={sheet_name}'\n",
        "obs=pd.read_csv(url)\n",
        "\n",
        "\n",
        "#Regions\n",
        "\n",
        "sheet_id='19lS0Xg-2ZUs0ps8jZ-JM3pR1YIuC_lWvRMpFAM5VUYI'\n",
        "sheet_name = 'WLRegions'\n",
        "url = f'https://docs.google.com/spreadsheets/d/{sheet_id}/gviz/tq?tqx=out:csv&sheet={sheet_name}'\n",
        "WLRegions=pd.read_csv(url)\n"
      ]
    },
    {
      "cell_type": "code",
      "execution_count": 108,
      "metadata": {},
      "outputs": [],
      "source": [
        "#note: this function is now included within specpolFlow\n",
        "def clean_obs_mask(name_in, name_out):\n",
        "  '''Function to clean the mask by observation'''\n",
        "\n",
        "  #Place the regions into a matrix\n",
        "  L = np.shape(WLRegions.loc[:,'WLStart'])[0]\n",
        "\n",
        "  regions = np.zeros((L,2))\n",
        "\n",
        "  regions[:,0] = WLRegions.loc[:,'WLStart']\n",
        "  regions[:,1] = WLRegions.loc[:,'WLFinish']\n",
        "\n",
        "  #Getting masks\n",
        "  for i in range(0,len(obs)): \n",
        "    star = obs[\"Name\"][i]\n",
        "    o = obs[\"Unnamed: 2\"][i]\n",
        "    \n",
        "    #The next loop loops over every observation\n",
        "    name = '{}00-InputMaterial/'.format(path)+name_in.format(star,o)\n",
        "    mask_i = pol.read_mask(fname=name)\n",
        "\n",
        "    #Identifying if a line is inside or outside the regions\n",
        "    dcard = []\n",
        "    for lines in mask_i.wl:\n",
        "      for i in range(0,np.size(regions[:,0])):\n",
        "        if regions[i,0] < lines < regions[i,1]:\n",
        "          dcard.append(lines)\n",
        "\n",
        "    #Creating a list with the mask.wl elements\n",
        "    mask_list = mask_i.wl.tolist()\n",
        "\n",
        "    for line in dcard:\n",
        "      index = (mask_list).index(line)\n",
        "      mask_i.iuse[index]=0\n",
        "\n",
        "    l = np.size(mask_i.wl)\n",
        "    spec_lines = []\n",
        "    for i in range(0,l):\n",
        "      if mask_i.iuse[i]==1:\n",
        "        spec_lines.append(mask_i.wl[i])\n",
        "\n",
        "    ## Check for lines that have zero depth\n",
        "    # (the depths have 3 decimal places)\n",
        "    mask_i.iuse[mask_i.depth <= 0.0001] = 0.0\n",
        "\n",
        "    mask_i.save('{}02-Mask-calculations/MaskCleaning/'.format(path)+name_out.format(star,o))\n",
        "\n",
        "  return"
      ]
    },
    {
      "cell_type": "code",
      "execution_count": 34,
      "metadata": {},
      "outputs": [],
      "source": [
        "clean_obs_mask('AsifMaskClean/{}_clean_{}.mask', 'AsifMaskClean_tellClean/{}_clean_{}.mask')\n",
        "\n",
        "clean_obs_mask('AsifMaskCleanTweak/{}_clean_{}.mask_auto_twk', 'AsifMaskCleanTweak_tellClean/{}_clean_{}.mask_auto_twk')\n"
      ]
    },
    {
      "cell_type": "code",
      "execution_count": 114,
      "metadata": {},
      "outputs": [],
      "source": [
        "#THIS FUNCTION SETS THE DEPTH CUTOFF TO 0.02. WHICH IS EQUAL TO OUR FULL MASK\n",
        "\n",
        "def super_clean_obs_mask(name_in, name_out):\n",
        "  '''Function to clean the mask by observation'''\n",
        "\n",
        "  #Place the regions into a matrix\n",
        "  L = np.shape(WLRegions.loc[:,'WLStart'])[0]\n",
        "\n",
        "  regions = np.zeros((L,2))\n",
        "\n",
        "  regions[:,0] = WLRegions.loc[:,'WLStart']\n",
        "  regions[:,1] = WLRegions.loc[:,'WLFinish']\n",
        "\n",
        "  #regions[:,0]=pd.DataFrame(excluded_regions.to_dict())['start']\n",
        "  #regions[:,1]=pd.DataFrame(excluded_regions.to_dict())['stop']\n",
        "\n",
        "  #Getting masks\n",
        "  for i in range(0,len(obs)): \n",
        "    star = obs[\"Name\"][i]\n",
        "    o = obs[\"Unnamed: 2\"][i]\n",
        "    \n",
        "    #The next loop loops over every observation\n",
        "    name = '{}00-InputMaterial/'.format(path)+name_in.format(star,o)\n",
        "    mask_i = pol.read_mask(fname=name)\n",
        "\n",
        "    #Identifying if a line is inside or outside the regions\n",
        "    dcard = []\n",
        "    for lines in mask_i.wl:\n",
        "      for i in range(0,np.size(regions[:,0])):\n",
        "        if regions[i,0] < lines < regions[i,1]:\n",
        "          dcard.append(lines)\n",
        "\n",
        "    #Creating a list with the mask.wl elements\n",
        "    mask_list = mask_i.wl.tolist()\n",
        "\n",
        "    for line in dcard:\n",
        "      index = (mask_list).index(line)\n",
        "      mask_i.iuse[index]=0\n",
        "\n",
        "    l = np.size(mask_i.wl)\n",
        "    spec_lines = []\n",
        "    for i in range(0,l):\n",
        "      if mask_i.iuse[i]==1:\n",
        "        spec_lines.append(mask_i.wl[i])\n",
        "\n",
        "    ## Check for lines that have zero depth\n",
        "    # (the depths have 3 decimal places)\n",
        "    mask_i.iuse[mask_i.depth <= 0.02] = 0.0\n",
        "\n",
        "    mask_i.save('{}02-Mask-calculations/MaskCleaning/'.format(path)+name_out.format(star,o))\n",
        "\n",
        "  return"
      ]
    },
    {
      "cell_type": "code",
      "execution_count": 115,
      "metadata": {},
      "outputs": [],
      "source": [
        "super_clean_obs_mask('AsifMaskClean/{}_clean_{}.mask', 'AsifMaskSuperClean_tellClean/{}_clean_{}.mask')\n",
        "\n",
        "#super_clean_obs_mask('AsifMaskCleanTweak/{}_clean_{}.mask_auto_twk', 'AsifMaskSuperCleanTweak_tellClean/{}_clean_{}.mask_auto_twk')"
      ]
    },
    {
      "attachments": {},
      "cell_type": "markdown",
      "metadata": {},
      "source": [
        "### 3. Extended H lines"
      ]
    },
    {
      "cell_type": "code",
      "execution_count": 7,
      "metadata": {},
      "outputs": [
        {
          "data": {
            "text/plain": [
              "array(['hd20336', 'hd33328', 'hd45725', 'hd58978', 'hd77320', 'hd89884',\n",
              "       'hd138749', 'hd164284', 'hd164906', 'hd191610', 'hd217050'],\n",
              "      dtype=object)"
            ]
          },
          "execution_count": 7,
          "metadata": {},
          "output_type": "execute_result"
        }
      ],
      "source": [
        "##Retrieving Calculated LSD Parameters\n",
        "df = pd.read_csv('{}03-LSD-calculations/LSD/Params-LSDProfiles-CalculatedByPython.csv'.format(path))\n",
        "\n",
        "blend=np.array(df['Name'][df['VelEnd']>=900])\n",
        "blend\n"
      ]
    },
    {
      "cell_type": "code",
      "execution_count": 8,
      "metadata": {},
      "outputs": [],
      "source": [
        "import astropy.units as u\n",
        "import astropy.constants as const\n",
        "import numpy as np"
      ]
    },
    {
      "cell_type": "code",
      "execution_count": 13,
      "metadata": {},
      "outputs": [],
      "source": [
        "Halpha=656.3\n",
        "Hbeta=486.14\n",
        "Hgamma=434.05\n",
        "Hdelta=410.17\n",
        "Hepsilon=397.01\n",
        "\n",
        "#inputs.\n",
        "lines=np.array([Halpha,Hbeta,Hgamma,Hdelta,Hepsilon])*u.nm\n",
        "Hjump=np.array([360,392])*u.nm\n",
        "tellstart=np.array([587.5,627.5,684.0,717.0,757.0,790.0,809.0])#*u.nm\n",
        "tellend=np.array([592.0,632.5,705.3,735.0,771.0,795.0,990.0])#*u.nm\n",
        "\n",
        "\n",
        "def exclude_regions(lines,Hjump,velrange,tellstart,tellend):\n",
        "    jumpend=(velrange/const.c*Hjump+Hjump).to(u.nm)/u.nm\n",
        "    linestart=(-velrange/const.c*lines+lines).to(u.nm)/u.nm\n",
        "    lineend=(velrange/const.c*lines+lines).to(u.nm)/u.nm\n",
        "    linestart=np.append(linestart,jumpend[0])\n",
        "    lineend=np.append(lineend,jumpend[1])\n",
        "\n",
        "    data=pd.DataFrame(data={\"WLStart\": np.concatenate((tellstart,linestart)), 'WLFinish': np.concatenate((tellend,lineend))})\n",
        "    return data\n",
        "    \n",
        "for i in range(len(blend)):\n",
        "    hd=blend[i]\n",
        "    starstart=np.array(df['VelStart'][df['Name']==hd])[0]\n",
        "    starend=np.array(df['VelEnd'][df['Name']==hd])[0]\n",
        "\n",
        "    lom=np.array(StarData['ModelCode'][StarData['Name']==hd])[0]\n",
        "\n",
        "    velrange=(starend+700)*u.km/u.s\n",
        "    data=exclude_regions(lines,Hjump,velrange,tellstart,tellend)\n",
        "\n",
        "    def clean_model_mask(name_in, name_out):\n",
        "        '''Function that cleans the mask by model code'''\n",
        "        #Place the regions into a matrix\n",
        "        L = np.shape(data.loc[:,'WLStart'])[0]\n",
        "\n",
        "        regions = np.zeros((L,2))\n",
        "\n",
        "        regions[:,0] = data.loc[:,'WLStart']\n",
        "        regions[:,1] = data.loc[:,'WLFinish']\n",
        "\n",
        "        #looping over all the model codes\n",
        "        #for i in range(0,len(lom)): \n",
        "        for i in range(1):\n",
        "            modelcode =lom.upper()\n",
        "    \n",
        "        #The next loop loops over every observation, which is needed\n",
        "        #for Asif's masks, so better leave it this way to change\n",
        "        #easier between masks although our masks only depende on the\n",
        "        #modelcode\n",
        "\n",
        "        name = '{}02-Mask-calculations/VALDlist2mask/'.format(path)+name_in.format(modelcode)\n",
        "        mask_i = pol.read_mask(fname=name)\n",
        "\n",
        "        #Identifying if a line is inside or outside the regions\n",
        "        dcard = []\n",
        "        for lines in mask_i.wl:\n",
        "            for j in range(0,np.size(regions[:,0])):\n",
        "                if regions[j,0] < lines < regions[j,1]:\n",
        "                    dcard.append(lines)\n",
        "\n",
        "        #Creating a list with the mask.wl elements\n",
        "        mask_list = mask_i.wl.tolist()\n",
        "\n",
        "        for line in dcard:\n",
        "            index = (mask_list).index(line)\n",
        "            mask_i.iuse[index]=0\n",
        "\n",
        "        for j in range(mask_i.wl.size):\n",
        "            if mask_i.wl[j]==370.5001 or mask_i.wl[j]==381.9603 or mask_i.wl[j]==387.9772:\n",
        "                mask_i.iuse[j]=0\n",
        "    \n",
        "        l = np.size(mask_i.wl)\n",
        "        spec_lines = []\n",
        "        for j in range(0,l):\n",
        "            if mask_i.iuse[j]==1:\n",
        "                spec_lines.append(mask_i.wl[j])\n",
        "        mask_i.save('{}02-Mask-calculations/MaskCleaning/'.format(path)+name_out.format(hd))\n",
        "        return()\n",
        "    clean_model_mask('depth0.1/{}_depth0.1.mask', '{}_depth0.1.mask')\n",
        "    clean_model_mask('depth0.02/{}_depth0.02.mask', '{}_depth0.02.mask')"
      ]
    },
    {
      "cell_type": "code",
      "execution_count": null,
      "metadata": {},
      "outputs": [],
      "source": []
    }
  ],
  "metadata": {
    "colab": {
      "collapsed_sections": [
        "gb6qqojjLVAf"
      ],
      "provenance": []
    },
    "kernelspec": {
      "display_name": "Python 3",
      "name": "python3"
    },
    "language_info": {
      "codemirror_mode": {
        "name": "ipython",
        "version": 3
      },
      "file_extension": ".py",
      "mimetype": "text/x-python",
      "name": "python",
      "nbconvert_exporter": "python",
      "pygments_lexer": "ipython3",
      "version": "3.11.3"
    }
  },
  "nbformat": 4,
  "nbformat_minor": 0
}
