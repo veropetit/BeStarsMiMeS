{
  "nbformat": 4,
  "nbformat_minor": 0,
  "metadata": {
    "colab": {
      "provenance": [],
      "collapsed_sections": [
        "gb6qqojjLVAf"
      ]
    },
    "kernelspec": {
      "name": "python3",
      "display_name": "Python 3"
    },
    "language_info": {
      "name": "python"
    }
  },
  "cells": [
    {
      "cell_type": "markdown",
      "source": [
        "# Python calculation to be made for individual models"
      ],
      "metadata": {
        "id": "rDDLQJ7HKt4S"
      }
    },
    {
      "cell_type": "markdown",
      "source": [
        "## 0. Packages and data"
      ],
      "metadata": {
        "id": "gb6qqojjLVAf"
      }
    },
    {
      "cell_type": "code",
      "source": [
        "cd /content"
      ],
      "metadata": {
        "colab": {
          "base_uri": "https://localhost:8080/"
        },
        "id": "FUtJ9cc12MKL",
        "outputId": "be506874-9812-4686-928c-80b4d61bba34"
      },
      "execution_count": null,
      "outputs": [
        {
          "output_type": "stream",
          "name": "stdout",
          "text": [
            "/content\n"
          ]
        }
      ]
    },
    {
      "cell_type": "code",
      "source": [
        "!git clone https://github.com/folsomcp/specpolFlow"
      ],
      "metadata": {
        "colab": {
          "base_uri": "https://localhost:8080/"
        },
        "id": "2jqc0WoGLatH",
        "outputId": "5fc65b65-0cfe-4639-8f22-b1300b7c15c5"
      },
      "execution_count": null,
      "outputs": [
        {
          "output_type": "stream",
          "name": "stdout",
          "text": [
            "Cloning into 'specpolFlow'...\n",
            "remote: Enumerating objects: 323, done.\u001b[K\n",
            "remote: Counting objects: 100% (323/323), done.\u001b[K\n",
            "remote: Compressing objects: 100% (229/229), done.\u001b[K\n",
            "remote: Total 323 (delta 136), reused 259 (delta 85), pack-reused 0\u001b[K\n",
            "Receiving objects: 100% (323/323), 6.20 MiB | 15.82 MiB/s, done.\n",
            "Resolving deltas: 100% (136/136), done.\n"
          ]
        }
      ]
    },
    {
      "cell_type": "code",
      "source": [
        "import specpolFlow as pol\n",
        "import numpy as np\n",
        "import pandas as pd"
      ],
      "metadata": {
        "id": "Ob-aghRQLiwJ",
        "colab": {
          "base_uri": "https://localhost:8080/"
        },
        "outputId": "fc75ae24-8345-44a0-a8e6-47804a311435"
      },
      "execution_count": null,
      "outputs": [
        {
          "output_type": "stream",
          "name": "stdout",
          "text": [
            "loading specpolFlow package\n",
            "importing specpolFlow.iolsd\n"
          ]
        }
      ]
    },
    {
      "cell_type": "code",
      "source": [
        "from google.colab import drive\n",
        "drive.mount('/content/drive')"
      ],
      "metadata": {
        "id": "FzwLzvUwLuxi",
        "colab": {
          "base_uri": "https://localhost:8080/"
        },
        "outputId": "c43303ed-8cb4-442b-ece5-aeb0d53815c6"
      },
      "execution_count": null,
      "outputs": [
        {
          "output_type": "stream",
          "name": "stdout",
          "text": [
            "Mounted at /content/drive\n"
          ]
        }
      ]
    },
    {
      "cell_type": "code",
      "source": [
        "cd /content/drive/Shareddrives/BeStarsMiMeS/"
      ],
      "metadata": {
        "id": "yeW2te_eMLGb",
        "colab": {
          "base_uri": "https://localhost:8080/"
        },
        "outputId": "e6ca3131-3925-44c6-ff11-7498e21dd9d0"
      },
      "execution_count": null,
      "outputs": [
        {
          "output_type": "stream",
          "name": "stdout",
          "text": [
            "/content/drive/Shareddrives/BeStarsMiMeS\n"
          ]
        }
      ]
    },
    {
      "cell_type": "markdown",
      "source": [
        "## 1. Creating LSD line masks"
      ],
      "metadata": {
        "id": "t1w1r6zAK4Hb"
      }
    },
    {
      "cell_type": "markdown",
      "source": [
        "### 1.1 Demo with a single model"
      ],
      "metadata": {
        "id": "Tozzo3VyK-AH"
      }
    },
    {
      "cell_type": "code",
      "source": [
        "ModelCode = 'T15000G40'\n",
        "# careful -- check whether it is g or G in the spreadsheet...\n",
        "\n",
        "# Note: It is 'g' in the spreadsheet"
      ],
      "metadata": {
        "id": "pyIJS0a_K1rL"
      },
      "execution_count": null,
      "outputs": []
    },
    {
      "cell_type": "code",
      "source": [
        "# We use a VALD long format line list to generate a LSD mask file. \n",
        "\n",
        "filename = '/content/drive/Shareddrives/BeStarsMiMeS/00-InputMaterials/VALD-LongList/LongList_{}.dat'.format(ModelCode)\n",
        "output = '/content/drive/Shareddrives/BeStarsMiMeS/02-Mask-calculations/VALDlist2mask/Test/{}_depth0.1.mask'.format(ModelCode)\n",
        "\n",
        "# atomsOnly=True excludes H lines. \n",
        "# saves the mask in the output file specified\n",
        "mask = pol.makeMask.make_mask(filename, output, depthCutoff=0.1, atomsOnly=True)\n"
      ],
      "metadata": {
        "colab": {
          "base_uri": "https://localhost:8080/"
        },
        "id": "f4ihCAKnLLb-",
        "outputId": "5323f6de-6219-4b41-f2fe-bbeb6141dec7"
      },
      "execution_count": null,
      "outputs": [
        {
          "output_type": "stream",
          "name": "stdout",
          "text": [
            "skipped all lines for species:\n",
            "['H 1']\n"
          ]
        }
      ]
    },
    {
      "cell_type": "code",
      "source": [
        "output"
      ],
      "metadata": {
        "colab": {
          "base_uri": "https://localhost:8080/",
          "height": 35
        },
        "id": "egXoV8hjiRPR",
        "outputId": "0665ef56-d23f-4b29-e3e5-11164be38163"
      },
      "execution_count": null,
      "outputs": [
        {
          "output_type": "execute_result",
          "data": {
            "text/plain": [
              "'Masks/Test/T15000G40_depth0.1.mask'"
            ],
            "application/vnd.google.colaboratory.intrinsic+json": {
              "type": "string"
            }
          },
          "metadata": {},
          "execution_count": 37
        }
      ]
    },
    {
      "cell_type": "markdown",
      "source": [
        "### 1.2 Loop over all models\n",
        "\n",
        "**TODO**: In the 00-information Google spreadsheet, there is a sheet called \"List of models\". Write a cell of code that will:\n",
        "1. Get Panda to retrieve that information\n",
        "2. Make a loop over all the model codes in that spreadsheet and use the make_mask function. "
      ],
      "metadata": {
        "id": "tTKjdFSSezgJ"
      }
    },
    {
      "cell_type": "code",
      "source": [
        "from google.colab import auth\n",
        "auth.authenticate_user()\n",
        "\n",
        "import gspread\n",
        "from google.auth import default\n",
        "creds, _ = default()\n",
        "\n",
        "import pandas as pd\n",
        "\n",
        "gc = gspread.authorize(creds)\n",
        "\n",
        "# Using pandas to read spreadsheet\n",
        "spreadsheet = gc.open_by_url('https://docs.google.com/spreadsheets/d/1M6y1Wnsrc-w5FjUMfKaSFa_-foIDAaMe8W4lYNWnWyk/edit?usp=sharing')\n",
        "wsheet = spreadsheet.worksheet(\"ListOfModels\")\n",
        "\n",
        "lom = pd.DataFrame(wsheet.get_all_records())"
      ],
      "metadata": {
        "id": "fmxK89fu0XRa"
      },
      "execution_count": null,
      "outputs": []
    },
    {
      "cell_type": "code",
      "source": [
        "# Code by Marisol Catalan Olais\n",
        "\n",
        "for mc in lom[\"Model Code\"]: \n",
        "  model_code = mc.upper()   #The lowercase g must be uppercase to match the file name\n",
        "  file_name = '/content/drive/Shareddrives/BeStarsMiMeS/00-InputMaterial/VALD-LongList/LongList_{}.dat'.format(model_code)\n",
        "  file_output = '/content/drive/Shareddrives/BeStarsMiMeS/02-Mask-calculations/VALDlist2mask/{}_depth0.02.mask'.format(model_code)\n",
        "  mask_file = pol.makeMask.make_mask(file_name, file_output, depthCutoff=0.02, atomsOnly=True)\n"
      ],
      "metadata": {
        "id": "cpG6j-ePb1Nc",
        "colab": {
          "base_uri": "https://localhost:8080/"
        },
        "outputId": "6b842d50-7907-43b2-e99b-2604c3dd0621"
      },
      "execution_count": null,
      "outputs": [
        {
          "output_type": "stream",
          "name": "stdout",
          "text": [
            "skipped all lines for species:\n",
            "['H 1']\n",
            "skipped all lines for species:\n",
            "['H 1']\n",
            "skipped all lines for species:\n",
            "['H 1']\n",
            "skipped all lines for species:\n",
            "['H 1']\n",
            "skipped all lines for species:\n",
            "['H 1']\n",
            "skipped all lines for species:\n",
            "['H 1']\n",
            "missing Lande factors for 3 lines (skipped) from:\n",
            "['O 2']\n",
            "skipped all lines for species:\n",
            "['H 1']\n",
            "missing Lande factors for 1 lines (skipped) from:\n",
            "['O 2']\n",
            "skipped all lines for species:\n",
            "['H 1']\n",
            "skipped all lines for species:\n",
            "['H 1']\n",
            "missing Lande factors for 10 lines (skipped) from:\n",
            "['O 2']\n",
            "skipped all lines for species:\n",
            "['H 1']\n",
            "missing Lande factors for 7 lines (skipped) from:\n",
            "['O 2']\n",
            "skipped all lines for species:\n",
            "['H 1']\n",
            "missing Lande factors for 1 lines (skipped) from:\n",
            "['O 2']\n",
            "skipped all lines for species:\n",
            "['H 1']\n",
            "missing Lande factors for 32 lines (skipped) from:\n",
            "['O 2']\n",
            "skipped all lines for species:\n",
            "['H 1']\n",
            "missing Lande factors for 8 lines (skipped) from:\n",
            "['O 2']\n",
            "skipped all lines for species:\n",
            "['H 1']\n",
            "missing Lande factors for 33 lines (skipped) from:\n",
            "['O 2']\n",
            "skipped all lines for species:\n",
            "['H 1']\n",
            "missing Lande factors for 34 lines (skipped) from:\n",
            "['O 2']\n",
            "skipped all lines for species:\n",
            "['H 1']\n",
            "missing Lande factors for 54 lines (skipped) from:\n",
            "['O 2']\n",
            "skipped all lines for species:\n",
            "['H 1']\n",
            "missing Lande factors for 88 lines (skipped) from:\n",
            "['O 2']\n",
            "skipped all lines for species:\n",
            "['H 1']\n",
            "missing Lande factors for 68 lines (skipped) from:\n",
            "['O 2']\n",
            "skipped all lines for species:\n",
            "['H 1']\n",
            "missing Lande factors for 105 lines (skipped) from:\n",
            "['O 2']\n",
            "skipped all lines for species:\n",
            "['H 1']\n",
            "missing Lande factors for 82 lines (skipped) from:\n",
            "['O 2']\n",
            "skipped all lines for species:\n",
            "['H 1']\n",
            "missing Lande factors for 117 lines (skipped) from:\n",
            "['O 2', 'He 2']\n",
            "skipped all lines for species:\n",
            "['H 1']\n",
            "missing Lande factors for 104 lines (skipped) from:\n",
            "['O 2']\n",
            "skipped all lines for species:\n",
            "['H 1']\n",
            "missing Lande factors for 129 lines (skipped) from:\n",
            "['O 2', 'He 2']\n",
            "skipped all lines for species:\n",
            "['H 1']\n",
            "missing Lande factors for 115 lines (skipped) from:\n",
            "['O 2', 'He 2']\n",
            "skipped all lines for species:\n",
            "['H 1']\n",
            "missing Lande factors for 140 lines (skipped) from:\n",
            "['O 2', 'He 2']\n",
            "skipped all lines for species:\n",
            "['H 1']\n",
            "missing Lande factors for 125 lines (skipped) from:\n",
            "['O 2', 'He 2']\n",
            "skipped all lines for species:\n",
            "['H 1']\n",
            "missing Lande factors for 149 lines (skipped) from:\n",
            "['He 2', 'O 2']\n",
            "skipped all lines for species:\n",
            "['H 1']\n",
            "missing Lande factors for 136 lines (skipped) from:\n",
            "['O 2', 'He 2']\n",
            "skipped all lines for species:\n",
            "['H 1']\n",
            "missing Lande factors for 160 lines (skipped) from:\n",
            "['He 2', 'O 2']\n",
            "skipped all lines for species:\n",
            "['H 1']\n",
            "missing Lande factors for 160 lines (skipped) from:\n",
            "['He 2', 'O 2']\n",
            "skipped all lines for species:\n",
            "['H 1']\n",
            "missing Lande factors for 159 lines (skipped) from:\n",
            "['He 2', 'O 2']\n",
            "skipped all lines for species:\n",
            "['H 1']\n",
            "missing Lande factors for 158 lines (skipped) from:\n",
            "['He 2', 'O 2']\n",
            "skipped all lines for species:\n",
            "['H 1']\n"
          ]
        }
      ]
    }
  ]
}