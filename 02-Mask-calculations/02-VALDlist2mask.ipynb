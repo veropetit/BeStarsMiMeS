{
  "cells": [
    {
      "attachments": {},
      "cell_type": "markdown",
      "metadata": {
        "id": "rDDLQJ7HKt4S"
      },
      "source": [
        "# Python calculation to be made for individual models"
      ]
    },
    {
      "attachments": {},
      "cell_type": "markdown",
      "metadata": {
        "id": "gb6qqojjLVAf"
      },
      "source": [
        "## 0. Packages and data"
      ]
    },
    {
      "cell_type": "code",
      "execution_count": 1,
      "metadata": {
        "colab": {
          "base_uri": "https://localhost:8080/"
        },
        "id": "FUtJ9cc12MKL",
        "outputId": "be506874-9812-4686-928c-80b4d61bba34"
      },
      "outputs": [],
      "source": [
        "path='G:/Shared drives/BeStarsMiMeS/UpdatedFiles/' #Patrick's google file stream path"
      ]
    },
    {
      "cell_type": "code",
      "execution_count": 3,
      "metadata": {
        "colab": {
          "base_uri": "https://localhost:8080/"
        },
        "id": "Ob-aghRQLiwJ",
        "outputId": "fc75ae24-8345-44a0-a8e6-47804a311435"
      },
      "outputs": [
        {
          "name": "stdout",
          "output_type": "stream",
          "text": [
            "loading specpolFlow package\n"
          ]
        }
      ],
      "source": [
        "import specpolFlow as pol\n",
        "import numpy as np\n",
        "import pandas as pd"
      ]
    },
    {
      "attachments": {},
      "cell_type": "markdown",
      "metadata": {
        "id": "t1w1r6zAK4Hb"
      },
      "source": [
        "## 1. Creating LSD line masks"
      ]
    },
    {
      "attachments": {},
      "cell_type": "markdown",
      "metadata": {
        "id": "Tozzo3VyK-AH"
      },
      "source": [
        "### 1.1 Demo with a single model"
      ]
    },
    {
      "cell_type": "code",
      "execution_count": null,
      "metadata": {
        "id": "pyIJS0a_K1rL"
      },
      "outputs": [],
      "source": [
        "ModelCode = 'T15000G40'\n",
        "# careful -- check whether it is g or G in the spreadsheet...\n",
        "\n",
        "# Note: It is 'g' in the spreadsheet"
      ]
    },
    {
      "cell_type": "code",
      "execution_count": null,
      "metadata": {
        "colab": {
          "base_uri": "https://localhost:8080/"
        },
        "id": "f4ihCAKnLLb-",
        "outputId": "5323f6de-6219-4b41-f2fe-bbeb6141dec7"
      },
      "outputs": [],
      "source": [
        "# We use a VALD long format line list to generate a LSD mask file. \n",
        "\n",
        "filename = '{}00-InputMaterial/VALD-LongList/LongList_{}.dat'.format(path,ModelCode)\n",
        "output = '{}02-Mask-calculations/VALDlist2mask/Test/{}_depth0.1.mask'.format(path,ModelCode)\n",
        "\n",
        "# atomsOnly=True excludes H lines. \n",
        "# saves the mask in the output file specified\n",
        "mask = pol.make_mask(filename, output, depthCutoff=0.1, atomsOnly=True)\n"
      ]
    },
    {
      "attachments": {},
      "cell_type": "markdown",
      "metadata": {
        "id": "tTKjdFSSezgJ"
      },
      "source": [
        "### 1.2 Loop over all models\n",
        "\n",
        "**TODO**: In the 00-information Google spreadsheet, there is a sheet called \"List of models\". Write a cell of code that will:\n",
        "1. Get Panda to retrieve that information\n",
        "2. Make a loop over all the model codes in that spreadsheet and use the make_mask function. "
      ]
    },
    {
      "cell_type": "code",
      "execution_count": null,
      "metadata": {
        "id": "fmxK89fu0XRa"
      },
      "outputs": [],
      "source": [
        "import pandas as pd\n",
        "\n",
        "\n",
        "# Using pandas to read spreadsheet\n",
        "\n",
        "sheet_id='1M6y1Wnsrc-w5FjUMfKaSFa_-foIDAaMe8W4lYNWnWyk'\n",
        "sheet_name = 'ListofModels'\n",
        "url = f'https://docs.google.com/spreadsheets/d/{sheet_id}/gviz/tq?tqx=out:csv&sheet={sheet_name}'\n",
        "lom=pd.read_csv(url)\n"
      ]
    },
    {
      "cell_type": "code",
      "execution_count": null,
      "metadata": {
        "colab": {
          "base_uri": "https://localhost:8080/"
        },
        "id": "cpG6j-ePb1Nc",
        "outputId": "6b842d50-7907-43b2-e99b-2604c3dd0621"
      },
      "outputs": [],
      "source": [
        "# Code by Marisol Catalan Olais\n",
        "\n",
        "for mc in lom[\"Model Code\"]: \n",
        "  model_code = mc.upper()   #The lowercase g must be uppercase to match the file name\n",
        "  file_name = '{}00-InputMaterial/VALD-LongList/LongList_{}.dat'.format(path,model_code)\n",
        "  file_output = '{}02-Mask-calculations/VALDlist2mask/depth0.02/{}_depth0.02.mask'.format(path,model_code)\n",
        "  mask_file = pol.make_mask(file_name, file_output, depthCutoff=0.02, atomsOnly=True)\n"
      ]
    },
    {
      "cell_type": "code",
      "execution_count": null,
      "metadata": {},
      "outputs": [],
      "source": [
        "# Code by Marisol Catalan Olais\n",
        "\n",
        "for mc in lom[\"Model Code\"]: \n",
        "  model_code = mc.upper()   #The lowercase g must be uppercase to match the file name\n",
        "  file_name = '{}00-InputMaterial/VALD-LongList/LongList_{}.dat'.format(path,model_code)\n",
        "  file_output = '{}02-Mask-calculations/VALDlist2mask/depth0.1/{}_depth0.1.mask'.format(path,model_code)\n",
        "  mask_file = pol.make_mask(file_name, file_output, depthCutoff=0.1, atomsOnly=True)\n"
      ]
    },
    {
      "cell_type": "code",
      "execution_count": null,
      "metadata": {},
      "outputs": [],
      "source": []
    }
  ],
  "metadata": {
    "colab": {
      "collapsed_sections": [
        "gb6qqojjLVAf"
      ],
      "provenance": []
    },
    "kernelspec": {
      "display_name": "Python 3",
      "name": "python3"
    },
    "language_info": {
      "codemirror_mode": {
        "name": "ipython",
        "version": 3
      },
      "file_extension": ".py",
      "mimetype": "text/x-python",
      "name": "python",
      "nbconvert_exporter": "python",
      "pygments_lexer": "ipython3",
      "version": "3.9.7"
    }
  },
  "nbformat": 4,
  "nbformat_minor": 0
}
