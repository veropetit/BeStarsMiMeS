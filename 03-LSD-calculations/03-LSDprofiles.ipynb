{
 "cells": [
  {
   "cell_type": "markdown",
   "metadata": {
    "id": "rDDLQJ7HKt4S"
   },
   "source": [
    "# Calculating the LSD profiles "
   ]
  },
  {
   "cell_type": "markdown",
   "metadata": {
    "id": "gb6qqojjLVAf"
   },
   "source": [
    "## 0 Packages and data"
   ]
  },
  {
   "cell_type": "code",
   "execution_count": 1,
   "metadata": {
    "colab": {
     "base_uri": "https://localhost:8080/"
    },
    "executionInfo": {
     "elapsed": 217,
     "status": "ok",
     "timestamp": 1675259911517,
     "user": {
      "displayName": "Patrick Stanley",
      "userId": "13506334151389315964"
     },
     "user_tz": 300
    },
    "id": "lN4OwRi4y-M3",
    "outputId": "88dfe92a-712c-4895-fad1-f326954f0a2a"
   },
   "outputs": [
    {
     "name": "stdout",
     "output_type": "stream",
     "text": [
      "c:\\Users\\pjsta\\GitHub\\BeStarsMiMeS\n"
     ]
    }
   ],
   "source": [
    "cd .."
   ]
  },
  {
   "cell_type": "code",
   "execution_count": 2,
   "metadata": {
    "colab": {
     "base_uri": "https://localhost:8080/"
    },
    "executionInfo": {
     "elapsed": 2831,
     "status": "ok",
     "timestamp": 1675259914342,
     "user": {
      "displayName": "Patrick Stanley",
      "userId": "13506334151389315964"
     },
     "user_tz": 300
    },
    "id": "2jqc0WoGLatH",
    "outputId": "3a71e5af-efcb-4745-edde-0c72eb640cdb"
   },
   "outputs": [
    {
     "name": "stderr",
     "output_type": "stream",
     "text": [
      "fatal: destination path 'specpolFlow' already exists and is not an empty directory.\n"
     ]
    }
   ],
   "source": [
    "!git clone https://github.com/folsomcp/specpolFlow"
   ]
  },
  {
   "cell_type": "code",
   "execution_count": 3,
   "metadata": {
    "colab": {
     "base_uri": "https://localhost:8080/"
    },
    "executionInfo": {
     "elapsed": 4675,
     "status": "ok",
     "timestamp": 1675259919008,
     "user": {
      "displayName": "Patrick Stanley",
      "userId": "13506334151389315964"
     },
     "user_tz": 300
    },
    "id": "xAtXCj6UbXkA",
    "outputId": "94affba7-4fc4-485f-898e-6484bd661669"
   },
   "outputs": [
    {
     "name": "stderr",
     "output_type": "stream",
     "text": [
      "fatal: destination path 'LSDpy' already exists and is not an empty directory.\n"
     ]
    }
   ],
   "source": [
    "!git clone https://github.com/folsomcp/LSDpy"
   ]
  },
  {
   "cell_type": "code",
   "execution_count": 4,
   "metadata": {},
   "outputs": [
    {
     "name": "stdout",
     "output_type": "stream",
     "text": [
      " Volume in drive C is OS\n",
      " Volume Serial Number is 7846-38DD\n",
      "\n",
      " Directory of c:\\Users\\pjsta\\GitHub\\BeStarsMiMeS\n",
      "\n",
      "03/29/2023  03:47 PM    <DIR>          .\n",
      "03/29/2023  03:47 PM    <DIR>          ..\n",
      "03/29/2023  12:26 PM            10,244 .DS_Store\n",
      "03/29/2023  12:26 PM             5,081 00-InputInformation.md\n",
      "03/29/2023  02:21 PM    <DIR>          00-InputMaterial\n",
      "03/29/2023  02:12 PM    <DIR>          01-Synth-calculations\n",
      "03/29/2023  12:26 PM             5,650 01-SyntheticProfileCalculation.md\n",
      "03/29/2023  12:26 PM             4,097 02-LSDMaskCalculation.md\n",
      "03/29/2023  03:07 PM    <DIR>          02-Mask-calculations\n",
      "03/30/2023  11:43 AM    <DIR>          03-LSD-calculations\n",
      "03/29/2023  12:26 PM             2,503 03-LSDProfileCalculation.md\n",
      "03/29/2023  12:26 PM    <DIR>          04-Bz-calculations\n",
      "03/29/2023  12:26 PM               952 04-LongitudinalFieldCalculation.md\n",
      "03/29/2023  12:26 PM    <DIR>          10-Spectra-Data-vs-hybrid-plots and Halpha and TESS\n",
      "03/29/2023  12:26 PM             5,962 10-WhatDoTheSpectraLookLike.md\n",
      "03/29/2023  12:26 PM    <DIR>          11-MaskComparison\n",
      "03/29/2023  12:26 PM             2,038 11-MaskComparison.md\n",
      "03/29/2023  12:26 PM               980 12-LSDProfileComparison.md\n",
      "03/29/2023  12:26 PM             2,674 13-WhatDoTheBzLookLike.md\n",
      "03/29/2023  12:26 PM    <DIR>          DocumentationImages\n",
      "03/29/2023  12:26 PM               376 get_input_info.py\n",
      "03/29/2023  12:26 PM             1,798 get_symlink_info.py\n",
      "03/29/2023  04:07 PM    <DIR>          LSDpy\n",
      "03/29/2023  12:26 PM             2,819 readme.md\n",
      "03/29/2023  02:44 PM    <DIR>          specpolFlow\n",
      "03/29/2023  12:26 PM               739 starList.dat\n",
      "              14 File(s)         45,913 bytes\n",
      "              12 Dir(s)  34,216,255,488 bytes free\n"
     ]
    }
   ],
   "source": [
    "ls"
   ]
  },
  {
   "cell_type": "code",
   "execution_count": 5,
   "metadata": {},
   "outputs": [
    {
     "name": "stdout",
     "output_type": "stream",
     "text": [
      "c:\\Users\\pjsta\\GitHub\\BeStarsMiMeS\\LSDpy\n"
     ]
    }
   ],
   "source": [
    "cd LSDpy"
   ]
  },
  {
   "cell_type": "code",
   "execution_count": 6,
   "metadata": {},
   "outputs": [],
   "source": [
    "\n",
    "import lsdpy\n"
   ]
  },
  {
   "cell_type": "code",
   "execution_count": 7,
   "metadata": {},
   "outputs": [
    {
     "name": "stdout",
     "output_type": "stream",
     "text": [
      "c:\\Users\\pjsta\\GitHub\\BeStarsMiMeS\n"
     ]
    }
   ],
   "source": [
    "cd .."
   ]
  },
  {
   "cell_type": "code",
   "execution_count": 8,
   "metadata": {
    "colab": {
     "base_uri": "https://localhost:8080/"
    },
    "executionInfo": {
     "elapsed": 2436,
     "status": "ok",
     "timestamp": 1675259922588,
     "user": {
      "displayName": "Patrick Stanley",
      "userId": "13506334151389315964"
     },
     "user_tz": 300
    },
    "id": "Ob-aghRQLiwJ",
    "outputId": "7d5920eb-44b4-480f-8f2d-015da6a42307"
   },
   "outputs": [
    {
     "name": "stdout",
     "output_type": "stream",
     "text": [
      "loading specpolFlow package\n"
     ]
    }
   ],
   "source": [
    "import specpolFlow as pol\n",
    "import numpy as np\n",
    "import matplotlib.pyplot as plt\n",
    "import astropy.units as u\n",
    "import astropy.constants as const"
   ]
  },
  {
   "cell_type": "code",
   "execution_count": 9,
   "metadata": {
    "id": "q27lsHB5a2RO"
   },
   "outputs": [],
   "source": [
    "from matplotlib.backends.backend_pdf import PdfPages\n",
    "\n",
    "import pandas as pd\n",
    "import itertools\n",
    "\n",
    "### This gets rid of the warnings in the cells where it is creating more than 20 figures (i.e. 1.2)\n",
    "#### Not needed for this notebook but could be useful in the future\n",
    "#import warnings\n",
    "#warnings.filterwarnings(\"default\", message=\"More than 20 figures have been opened.\")"
   ]
  },
  {
   "cell_type": "code",
   "execution_count": 10,
   "metadata": {
    "id": "JzN4RVJna92W"
   },
   "outputs": [],
   "source": [
    "import pandas as pd\n",
    "sheet_id = '1M6y1Wnsrc-w5FjUMfKaSFa_-foIDAaMe8W4lYNWnWyk'\n",
    "sheet_name = 'Stars'\n",
    "url = f'https://docs.google.com/spreadsheets/d/{sheet_id}/gviz/tq?tqx=out:csv&sheet={sheet_name}'\n",
    "StarData=pd.read_csv(url)\n",
    "\n",
    "sheet_name = 'Observations'\n",
    "url = f'https://docs.google.com/spreadsheets/d/{sheet_id}/gviz/tq?tqx=out:csv&sheet={sheet_name}'\n",
    "Observations=pd.read_csv(url)"
   ]
  },
  {
   "cell_type": "markdown",
   "metadata": {
    "id": "fOTxMUoFb0cY"
   },
   "source": [
    "## 0.1 Demo with a single observation\n"
   ]
  },
  {
   "cell_type": "code",
   "execution_count": 11,
   "metadata": {
    "id": "jZNhassLaXZ7"
   },
   "outputs": [],
   "source": [
    "#star = 'hd6226'\n",
    "#obs = '1'\n",
    "#modelcode = 'T15000G40'\n",
    "## careful, check whether it is g or G in the spreadsheet....\n",
    "#vsini = 120.0\n",
    "#vradCorrected = -70.0 *u.km/u.s\n",
    "\n",
    "#folderMask='depth0.1_tellClean'\n",
    "\n",
    "#obsFolder='Synth-hybrid-spectra'\n",
    "#obsnamecode = '_noise'\n",
    "\n",
    "#lsdfolder = 'hybrid__maskdepth0.1_tellClean'\n",
    "\n",
    "#mask = 'Masks/{}/{}_depth0.1.mask'.format(folderMask,modelcode)\n",
    "\n",
    "#file = '{}/{}_{}{}.s'.format(obsFolder, star, obs, obsnamecode)\n",
    "#outfile = 'LSD/{}/{}_{}.lsd'.format(lsdfolder, star,obs)\n",
    "\n",
    "\n",
    "#toto = lsdpy.main(observation=file, mask=mask, outName=outfile, \n",
    "#           velStart=-400.0, velEnd=400.0, velPixel=2.6, \n",
    "#           normDepth=0.2, normLande=1.2, normWave=500.0,\n",
    "#           removeContPol=1, trimMask=0, sigmaClipIter=0, sigmaClip=500, \n",
    "#           interpMode=1, fSaveModelS=0, outModelName='',\n",
    "#           fLSDPlotImg=0, fSavePlotImg=0, outPlotImgName='')\n"
   ]
  },
  {
   "cell_type": "code",
   "execution_count": 12,
   "metadata": {
    "id": "98InOji1UXKN"
   },
   "outputs": [],
   "source": [
    "#lsd = pol.iolsd.read_lsd(outfile)\n",
    "#lsd.plot()"
   ]
  },
  {
   "cell_type": "markdown",
   "metadata": {
    "id": "GT7u_oAfGKSt"
   },
   "source": [
    "### 2.1 **Spectra**: Synth-hybrid-spectra\n",
    "reran - Patrick\n"
   ]
  },
  {
   "cell_type": "code",
   "execution_count": 15,
   "metadata": {
    "colab": {
     "base_uri": "https://localhost:8080/"
    },
    "executionInfo": {
     "elapsed": 194,
     "status": "ok",
     "timestamp": 1675263379133,
     "user": {
      "displayName": "Patrick Stanley",
      "userId": "13506334151389315964"
     },
     "user_tz": 300
    },
    "id": "auGgWyxIOOXH",
    "outputId": "31931a50-85ac-4620-9c79-4939d6576ddc"
   },
   "outputs": [
    {
     "data": {
      "text/plain": [
       "array(['hd20336', 'hd33328', 'hd45725', 'hd58978', 'hd77320', 'hd89884',\n",
       "       'hd138749', 'hd164284', 'hd164906', 'hd191610', 'hd217050'],\n",
       "      dtype=object)"
      ]
     },
     "execution_count": 15,
     "metadata": {},
     "output_type": "execute_result"
    }
   ],
   "source": [
    "df = pd.read_csv('03-LSD-calculations/LSD/Params-LSDProfiles-CalculatedByPython.csv')\n",
    "blend=np.array(df['Name'][df['VelEnd']>=900])\n",
    "blend"
   ]
  },
  {
   "cell_type": "code",
   "execution_count": 16,
   "metadata": {},
   "outputs": [
    {
     "data": {
      "text/html": [
       "<div>\n",
       "<style scoped>\n",
       "    .dataframe tbody tr th:only-of-type {\n",
       "        vertical-align: middle;\n",
       "    }\n",
       "\n",
       "    .dataframe tbody tr th {\n",
       "        vertical-align: top;\n",
       "    }\n",
       "\n",
       "    .dataframe thead th {\n",
       "        text-align: right;\n",
       "    }\n",
       "</style>\n",
       "<table border=\"1\" class=\"dataframe\">\n",
       "  <thead>\n",
       "    <tr style=\"text-align: right;\">\n",
       "      <th></th>\n",
       "      <th>1</th>\n",
       "      <th>Unnamed: 1</th>\n",
       "      <th>Unnamed: 2</th>\n",
       "      <th>Name</th>\n",
       "      <th>LSDfileName</th>\n",
       "      <th>NameAsif</th>\n",
       "      <th>NameOfMask</th>\n",
       "      <th>Unnamed: 7</th>\n",
       "      <th>NameOfSymbolicLinkToData</th>\n",
       "      <th>Unnamed: 9</th>\n",
       "      <th>Unnamed: 10</th>\n",
       "      <th>Unnamed: 11</th>\n",
       "    </tr>\n",
       "  </thead>\n",
       "  <tbody>\n",
       "    <tr>\n",
       "      <th>0</th>\n",
       "      <td>185</td>\n",
       "      <td>1.0</td>\n",
       "      <td>1</td>\n",
       "      <td>hd6226</td>\n",
       "      <td>hd6226_1.lsd.s</td>\n",
       "      <td>hd6226_1</td>\n",
       "      <td>mask_T15000g40lamb3700_9000.dat</td>\n",
       "      <td>0</td>\n",
       "      <td>hd6226_11AP14_1310132pnv.s</td>\n",
       "      <td>110.34</td>\n",
       "      <td>-60.297909</td>\n",
       "      <td>-70.000000</td>\n",
       "    </tr>\n",
       "    <tr>\n",
       "      <th>1</th>\n",
       "      <td>193</td>\n",
       "      <td>2.0</td>\n",
       "      <td>1</td>\n",
       "      <td>hd7636</td>\n",
       "      <td>hd7636_1.lsd.s</td>\n",
       "      <td>hd7636_1</td>\n",
       "      <td>mask_T15000g40lamb3700_9000.dat</td>\n",
       "      <td>0</td>\n",
       "      <td>hd7636_11AP14_1314767pnv.s</td>\n",
       "      <td>230.00</td>\n",
       "      <td>0.000000</td>\n",
       "      <td>0.000000</td>\n",
       "    </tr>\n",
       "    <tr>\n",
       "      <th>2</th>\n",
       "      <td>194</td>\n",
       "      <td>2.0</td>\n",
       "      <td>2</td>\n",
       "      <td>hd7636</td>\n",
       "      <td>hd7636_2.lsd.s</td>\n",
       "      <td>hd7636_2</td>\n",
       "      <td>mask_T15000g40lamb3700_9000.dat</td>\n",
       "      <td>0</td>\n",
       "      <td>hd7636_11AP14_1316457pnv.s</td>\n",
       "      <td>230.00</td>\n",
       "      <td>0.000000</td>\n",
       "      <td>0.000000</td>\n",
       "    </tr>\n",
       "    <tr>\n",
       "      <th>3</th>\n",
       "      <td>2</td>\n",
       "      <td>3.0</td>\n",
       "      <td>1</td>\n",
       "      <td>hd10144</td>\n",
       "      <td>hd10144_1.lsd.s</td>\n",
       "      <td>hd10144_1</td>\n",
       "      <td>mask_T20000g35lamb3700_9000.dat</td>\n",
       "      <td>1</td>\n",
       "      <td>hd10144_187.D-0917A_2011-12-11_01_pnv.s</td>\n",
       "      <td>245.31</td>\n",
       "      <td>12.981952</td>\n",
       "      <td>12.981952</td>\n",
       "    </tr>\n",
       "    <tr>\n",
       "      <th>4</th>\n",
       "      <td>3</td>\n",
       "      <td>4.0</td>\n",
       "      <td>1</td>\n",
       "      <td>hd10516</td>\n",
       "      <td>hd10516_1.lsd.s</td>\n",
       "      <td>hd10516_1</td>\n",
       "      <td>mask_T25000g40lamb3700_9000.dat</td>\n",
       "      <td>0</td>\n",
       "      <td>hd10516_11AP14_1311181pnv.s</td>\n",
       "      <td>382.04</td>\n",
       "      <td>-60.990786</td>\n",
       "      <td>-60.990786</td>\n",
       "    </tr>\n",
       "    <tr>\n",
       "      <th>...</th>\n",
       "      <td>...</td>\n",
       "      <td>...</td>\n",
       "      <td>...</td>\n",
       "      <td>...</td>\n",
       "      <td>...</td>\n",
       "      <td>...</td>\n",
       "      <td>...</td>\n",
       "      <td>...</td>\n",
       "      <td>...</td>\n",
       "      <td>...</td>\n",
       "      <td>...</td>\n",
       "      <td>...</td>\n",
       "    </tr>\n",
       "    <tr>\n",
       "      <th>196</th>\n",
       "      <td>137</td>\n",
       "      <td>74.0</td>\n",
       "      <td>1</td>\n",
       "      <td>hd221507</td>\n",
       "      <td>hd221507_1.lsd.s</td>\n",
       "      <td>hd221507_1</td>\n",
       "      <td>mask_T10500g40lamb3700_9000.dat</td>\n",
       "      <td>1</td>\n",
       "      <td>hd221507_187.D-0917A_2012-07-19_01_pnv.s</td>\n",
       "      <td>20.00</td>\n",
       "      <td>0.000072</td>\n",
       "      <td>0.000072</td>\n",
       "    </tr>\n",
       "    <tr>\n",
       "      <th>197</th>\n",
       "      <td>140</td>\n",
       "      <td>75.0</td>\n",
       "      <td>1</td>\n",
       "      <td>hd224686</td>\n",
       "      <td>hd224686_1.lsd.s</td>\n",
       "      <td>hd224686_1</td>\n",
       "      <td>mask_T13000g40lamb3700_9000.dat</td>\n",
       "      <td>1</td>\n",
       "      <td>hd224686_187.D-0917A_2011-12-09_01_pnv.s</td>\n",
       "      <td>286.16</td>\n",
       "      <td>11.694301</td>\n",
       "      <td>11.694301</td>\n",
       "    </tr>\n",
       "    <tr>\n",
       "      <th>198</th>\n",
       "      <td>141</td>\n",
       "      <td>75.0</td>\n",
       "      <td>2</td>\n",
       "      <td>hd224686</td>\n",
       "      <td>hd224686_2.lsd.s</td>\n",
       "      <td>hd224686_2</td>\n",
       "      <td>mask_T13000g40lamb3700_9000.dat</td>\n",
       "      <td>1</td>\n",
       "      <td>hd224686_187.D-0917A_2011-12-12_01_pnv.s</td>\n",
       "      <td>286.16</td>\n",
       "      <td>8.724928</td>\n",
       "      <td>8.724928</td>\n",
       "    </tr>\n",
       "    <tr>\n",
       "      <th>199</th>\n",
       "      <td>145</td>\n",
       "      <td>76.0</td>\n",
       "      <td>1</td>\n",
       "      <td>hd239712</td>\n",
       "      <td>hd239712_1.lsd.s</td>\n",
       "      <td>hd239712_1</td>\n",
       "      <td>mask_T21000g40lamb3700_9000.dat</td>\n",
       "      <td>0</td>\n",
       "      <td>hd239712_11BP14_1331344pnv.s</td>\n",
       "      <td>304.86</td>\n",
       "      <td>-0.002959</td>\n",
       "      <td>-0.002959</td>\n",
       "    </tr>\n",
       "    <tr>\n",
       "      <th>200</th>\n",
       "      <td>1</td>\n",
       "      <td>77.0</td>\n",
       "      <td>1</td>\n",
       "      <td>bd-134933</td>\n",
       "      <td>bd-134933_1.lsd.s</td>\n",
       "      <td>bd-134933_1</td>\n",
       "      <td>mask_T30000g40lamb3700_9000.dat</td>\n",
       "      <td>0</td>\n",
       "      <td>bd-134933_06BF15_861711pnv.s</td>\n",
       "      <td>239.56</td>\n",
       "      <td>-0.001092</td>\n",
       "      <td>-0.001092</td>\n",
       "    </tr>\n",
       "  </tbody>\n",
       "</table>\n",
       "<p>201 rows × 12 columns</p>\n",
       "</div>"
      ],
      "text/plain": [
       "       1  Unnamed: 1  Unnamed: 2       Name        LSDfileName     NameAsif  \\\n",
       "0    185         1.0           1     hd6226     hd6226_1.lsd.s     hd6226_1   \n",
       "1    193         2.0           1     hd7636     hd7636_1.lsd.s     hd7636_1   \n",
       "2    194         2.0           2     hd7636     hd7636_2.lsd.s     hd7636_2   \n",
       "3      2         3.0           1    hd10144    hd10144_1.lsd.s    hd10144_1   \n",
       "4      3         4.0           1    hd10516    hd10516_1.lsd.s    hd10516_1   \n",
       "..   ...         ...         ...        ...                ...          ...   \n",
       "196  137        74.0           1   hd221507   hd221507_1.lsd.s   hd221507_1   \n",
       "197  140        75.0           1   hd224686   hd224686_1.lsd.s   hd224686_1   \n",
       "198  141        75.0           2   hd224686   hd224686_2.lsd.s   hd224686_2   \n",
       "199  145        76.0           1   hd239712   hd239712_1.lsd.s   hd239712_1   \n",
       "200    1        77.0           1  bd-134933  bd-134933_1.lsd.s  bd-134933_1   \n",
       "\n",
       "                          NameOfMask  Unnamed: 7  \\\n",
       "0    mask_T15000g40lamb3700_9000.dat           0   \n",
       "1    mask_T15000g40lamb3700_9000.dat           0   \n",
       "2    mask_T15000g40lamb3700_9000.dat           0   \n",
       "3    mask_T20000g35lamb3700_9000.dat           1   \n",
       "4    mask_T25000g40lamb3700_9000.dat           0   \n",
       "..                               ...         ...   \n",
       "196  mask_T10500g40lamb3700_9000.dat           1   \n",
       "197  mask_T13000g40lamb3700_9000.dat           1   \n",
       "198  mask_T13000g40lamb3700_9000.dat           1   \n",
       "199  mask_T21000g40lamb3700_9000.dat           0   \n",
       "200  mask_T30000g40lamb3700_9000.dat           0   \n",
       "\n",
       "                     NameOfSymbolicLinkToData  Unnamed: 9  Unnamed: 10  \\\n",
       "0                  hd6226_11AP14_1310132pnv.s      110.34   -60.297909   \n",
       "1                  hd7636_11AP14_1314767pnv.s      230.00     0.000000   \n",
       "2                  hd7636_11AP14_1316457pnv.s      230.00     0.000000   \n",
       "3     hd10144_187.D-0917A_2011-12-11_01_pnv.s      245.31    12.981952   \n",
       "4                 hd10516_11AP14_1311181pnv.s      382.04   -60.990786   \n",
       "..                                        ...         ...          ...   \n",
       "196  hd221507_187.D-0917A_2012-07-19_01_pnv.s       20.00     0.000072   \n",
       "197  hd224686_187.D-0917A_2011-12-09_01_pnv.s      286.16    11.694301   \n",
       "198  hd224686_187.D-0917A_2011-12-12_01_pnv.s      286.16     8.724928   \n",
       "199              hd239712_11BP14_1331344pnv.s      304.86    -0.002959   \n",
       "200              bd-134933_06BF15_861711pnv.s      239.56    -0.001092   \n",
       "\n",
       "     Unnamed: 11  \n",
       "0     -70.000000  \n",
       "1       0.000000  \n",
       "2       0.000000  \n",
       "3      12.981952  \n",
       "4     -60.990786  \n",
       "..           ...  \n",
       "196     0.000072  \n",
       "197    11.694301  \n",
       "198     8.724928  \n",
       "199    -0.002959  \n",
       "200    -0.001092  \n",
       "\n",
       "[201 rows x 12 columns]"
      ]
     },
     "execution_count": 16,
     "metadata": {},
     "output_type": "execute_result"
    }
   ],
   "source": [
    "Observations"
   ]
  },
  {
   "cell_type": "markdown",
   "metadata": {
    "id": "AwhTBf2cs5B5"
   },
   "source": [
    "#### **Mask**: tellClean Mask depth 0.02:"
   ]
  },
  {
   "cell_type": "code",
   "execution_count": null,
   "metadata": {
    "id": "s0YY-R2dKljZ"
   },
   "outputs": [],
   "source": [
    "%%capture\n",
    "with PdfPages('03-LSD-calculations/hybrid__maskdepth0.02_tellClean.pdf') as pdf:\n",
    "\n",
    "  for i, ObsInfo in Observations.iterrows():\n",
    "    star = ObsInfo[\"Name\"]\n",
    "    obs = ObsInfo[\"Unnamed: 2\"]\n",
    "    for j in range(0,len(StarData[\"Name\"])):\n",
    "      if StarData[\"Name\"][j] == star:\n",
    "        modelcode = StarData[\"ModelCode\"][j].upper()\n",
    "        if StarData['vsini-estimate'][j]=='very bad':\n",
    "          vsini = StarData[\"Adopted-vsini\"][j]\n",
    "        else:\n",
    "          vsini = StarData['vsini-estimate'][j]\n",
    "        velS = df[\"VelStart\"][j]\n",
    "        velE = df[\"VelEnd\"][j]\n",
    "        velP = df[\"VelPixel\"][j]\n",
    "\n",
    "    for j in range(0,len(blend)):\n",
    "      if blend[j]==star:\n",
    "        mask = '02-Mask-calculations/MaskCleaning/{}_depth0.02.mask'.format(star)\n",
    "        break\n",
    "      if blend[j]!=star:\n",
    "        mask = '02-Mask-calculations/MaskCleaning/depth0.02_tellClean/{}_depth0.02.mask'.format(modelcode)\n",
    "\n",
    "    file = '01-Synth-calculations/Synth-hybrid-spectra/{}_{}_noise.s'.format(star, obs)\n",
    "    outfile = '03-LSD-calculations/LSD/hybrid_maskdepth0.02_tellClean/{}_{}.lsd'.format(star,obs)\n",
    "\n",
    "    toto = lsdpy.main(observation=file, mask=mask, outName=outfile, \n",
    "            velStart=velS, velEnd=velE, velPixel=velP, \n",
    "            normDepth=0.2, normLande=1.2, normWave=500.0,\n",
    "            removeContPol=1, trimMask=0, sigmaClipIter=0, sigmaClip=500, \n",
    "            interpMode=1, fSaveModelS=0, outModelName='',\n",
    "            fLSDPlotImg=0, fSavePlotImg=0, outPlotImgName='')\n",
    "    lsd = pol.iolsd.read_lsd(outfile)\n",
    "    \n",
    "    fig, ax = plt.subplots(4,1, figsize=(10,10))\n",
    "\n",
    "    ax[3].errorbar(lsd.vel, lsd.specI, yerr=lsd.specSigI, xerr=None, fmt='o', ms=3,ecolor='0.5',c='k')\n",
    "    ax[2].errorbar(lsd.vel, lsd.specN1, yerr=lsd.specSigN1, xerr=None, fmt='o', ms=3,ecolor='0.5',c='k')\n",
    "    ax[1].errorbar(lsd.vel, lsd.specN2, yerr=lsd.specSigN2, xerr=None, fmt='o', ms=3,ecolor='0.5',c='k')\n",
    "    ax[0].errorbar(lsd.vel, lsd.specV, yerr=lsd.specSigV, xerr=None, fmt='o', ms=3, ecolor='0.5',c='k')\n",
    "    plt.subplots_adjust(hspace=.0)\n",
    "    ax[3].set_xlabel('Velocity (km/s)')\n",
    "    ax[3].set_ylabel('I')\n",
    "    ax[2].set_ylabel('N1')\n",
    "    ax[1].set_ylabel('N2')\n",
    "    ax[0].set_ylabel('V')\n",
    "    fig.suptitle(star + '-'+ str(obs),y=0.92)\n",
    "\n",
    "    pdf.savefig(fig)\n",
    "\n",
    "##~30min"
   ]
  },
  {
   "cell_type": "markdown",
   "metadata": {
    "id": "BfitRF29s9QP"
   },
   "source": [
    "#### **Mask**: tellClean Mask depth 0.1:"
   ]
  },
  {
   "cell_type": "code",
   "execution_count": null,
   "metadata": {
    "id": "NnnaMucas8qd"
   },
   "outputs": [],
   "source": [
    "%%capture\n",
    "with PdfPages('03-LSD-calculations/hybrid__maskdepth0.1_tellClean.pdf') as pdf:\n",
    "\n",
    "  for i, ObsInfo in Observations.iterrows():\n",
    "    star = ObsInfo[\"Name\"]\n",
    "    obs = ObsInfo[\"Unnamed: 2\"]\n",
    "    for j in range(0,len(StarData[\"Name\"])):\n",
    "      if StarData[\"Name\"][j] == star:\n",
    "        modelcode = StarData[\"ModelCode\"][j].upper()\n",
    "        if StarData['vsini-estimate'][j]=='very bad':\n",
    "          vsini = StarData[\"Adopted-vsini\"][j]\n",
    "        else:\n",
    "          vsini = StarData['vsini-estimate'][j]\n",
    "        velS = df[\"VelStart\"][j]\n",
    "        velE = df[\"VelEnd\"][j]\n",
    "        velP = df[\"VelPixel\"][j]\n",
    "\n",
    "    for j in range(0,len(blend)):\n",
    "      if blend[j]==star:\n",
    "        mask = '02-Mask-calculations/MaskCleaning/{}_depth0.1.mask'.format(star)\n",
    "        break\n",
    "      if blend[j]!=star:\n",
    "        mask = '02-Mask-calculations/MaskCleaning/depth0.1_tellClean/{}_depth0.1.mask'.format(modelcode)\n",
    "\n",
    "    file = '01-Synth-calculations/Synth-hybrid-spectra/{}_{}_noise.s'.format(star, obs)\n",
    "    outfile = '03-LSD-calculations/LSD/hybrid_maskdepth0.1_tellClean/{}_{}.lsd'.format(star,obs)\n",
    "\n",
    "    toto = lsdpy.main(observation=file, mask=mask, outName=outfile, \n",
    "            velStart=velS, velEnd=velE, velPixel=velP, \n",
    "            normDepth=0.2, normLande=1.2, normWave=500.0,\n",
    "            removeContPol=1, trimMask=0, sigmaClipIter=0, sigmaClip=500, \n",
    "            interpMode=1, fSaveModelS=0, outModelName='',\n",
    "            fLSDPlotImg=0, fSavePlotImg=0, outPlotImgName='')\n",
    "    lsd = pol.iolsd.read_lsd(outfile)\n",
    "    \n",
    "    fig, ax = plt.subplots(4,1, figsize=(10,10))\n",
    "\n",
    "    ax[3].errorbar(lsd.vel, lsd.specI, yerr=lsd.specSigI, xerr=None, fmt='o', ms=3,ecolor='0.5',c='k')\n",
    "    ax[2].errorbar(lsd.vel, lsd.specN1, yerr=lsd.specSigN1, xerr=None, fmt='o', ms=3,ecolor='0.5',c='k')\n",
    "    ax[1].errorbar(lsd.vel, lsd.specN2, yerr=lsd.specSigN2, xerr=None, fmt='o', ms=3,ecolor='0.5',c='k')\n",
    "    ax[0].errorbar(lsd.vel, lsd.specV, yerr=lsd.specSigV, xerr=None, fmt='o', ms=3, ecolor='0.5',c='k')\n",
    "    plt.subplots_adjust(hspace=.0)\n",
    "    ax[3].set_xlabel('Velocity (km/s)')\n",
    "    ax[3].set_ylabel('I')\n",
    "    ax[2].set_ylabel('N1')\n",
    "    ax[1].set_ylabel('N2')\n",
    "    ax[0].set_ylabel('V')\n",
    "    fig.suptitle(star + '-'+ str(obs),y=0.92)\n",
    "\n",
    "    pdf.savefig(fig)\n",
    "\n",
    "##~30min"
   ]
  },
  {
   "cell_type": "markdown",
   "metadata": {
    "id": "tOEpujP_id-R"
   },
   "source": [
    "#### **Mask**: tellClean CleanAsifTweak"
   ]
  },
  {
   "cell_type": "code",
   "execution_count": null,
   "metadata": {
    "id": "oRk0ASOTiweV"
   },
   "outputs": [],
   "source": [
    "%%capture\n",
    "with PdfPages('03-LSD-calculations/hybrid_CleanAsifTweak_tellClean.pdf') as pdf:\n",
    "\n",
    "  for i, ObsInfo in Observations.iterrows():\n",
    "    star = ObsInfo[\"Name\"]\n",
    "    obs = ObsInfo[\"Unnamed: 2\"]\n",
    "    for j in range(0,len(StarData[\"Name\"])):\n",
    "      if StarData[\"Name\"][j] == star:\n",
    "        modelcode = StarData[\"ModelCode\"][j].upper()\n",
    "        vsini = StarData[\"Adopted-vsini\"][j]\n",
    "        velS = df[\"VelStart\"][j]\n",
    "        velE = df[\"VelEnd\"][j]\n",
    "        velP = df[\"VelPixel\"][j]\n",
    "\n",
    "    mask = '02-Mask-calculations/MaskCleaning/AsifMaskCleanTweak_tellClean/{}_clean_{}.mask_auto_twk'.format(star,obs)\n",
    "\n",
    "    file = '01-Synth-calculations/Synth-hybrid-spectra/{}_{}_noise.s'.format(star, obs)\n",
    "    outfile = '03-LSD-calculations/LSD/hybrid_CleanAsifTweak+tellClean/{}_{}.lsd'.format(star,obs)\n",
    "\n",
    "    toto = lsdpy.main(observation=file, mask=mask, outName=outfile, \n",
    "            velStart=velS, velEnd=velE, velPixel=velP, \n",
    "            normDepth=0.2, normLande=1.2, normWave=500.0,\n",
    "            removeContPol=1, trimMask=0, sigmaClipIter=0, sigmaClip=500, \n",
    "            interpMode=1, fSaveModelS=0, outModelName='',\n",
    "            fLSDPlotImg=0, fSavePlotImg=0, outPlotImgName='')\n",
    "    lsd = pol.iolsd.read_lsd(outfile)\n",
    "    \n",
    "    fig, ax = plt.subplots(4,1, figsize=(10,10))\n",
    "\n",
    "    ax[3].errorbar(lsd.vel, lsd.specI, yerr=lsd.specSigI, xerr=None, fmt='o', ms=3,ecolor='0.5',c='k')\n",
    "    ax[2].errorbar(lsd.vel, lsd.specN1, yerr=lsd.specSigN1, xerr=None, fmt='o', ms=3,ecolor='0.5',c='k')\n",
    "    ax[1].errorbar(lsd.vel, lsd.specN2, yerr=lsd.specSigN2, xerr=None, fmt='o', ms=3,ecolor='0.5',c='k')\n",
    "    ax[0].errorbar(lsd.vel, lsd.specV, yerr=lsd.specSigV, xerr=None, fmt='o', ms=3, ecolor='0.5',c='k')\n",
    "    plt.subplots_adjust(hspace=.0)\n",
    "    ax[3].set_xlabel('Velocity (km/s)')\n",
    "    ax[3].set_ylabel('I')\n",
    "    ax[2].set_ylabel('N1')\n",
    "    ax[1].set_ylabel('N2')\n",
    "    ax[0].set_ylabel('V')\n",
    "    fig.suptitle(star + '-'+ str(obs),y=0.92)\n",
    "\n",
    "    pdf.savefig(fig)\n",
    "\n",
    "##~30min"
   ]
  },
  {
   "cell_type": "markdown",
   "metadata": {
    "id": "qyClzE3qEUGP"
   },
   "source": [
    "#### **Mask**: tellClean AsifClean"
   ]
  },
  {
   "cell_type": "code",
   "execution_count": 17,
   "metadata": {
    "id": "JMY27LVhEdJo"
   },
   "outputs": [],
   "source": [
    "%%capture\n",
    "with PdfPages('03-LSD-calculations/hybrid_CleanAsif_tellClean.pdf') as pdf:\n",
    "\n",
    "  for i, ObsInfo in Observations.iterrows():\n",
    "    star = ObsInfo[\"Name\"]\n",
    "    obs = ObsInfo[\"Unnamed: 2\"]\n",
    "    for j in range(0,len(StarData[\"Name\"])):\n",
    "      if StarData[\"Name\"][j] == star:\n",
    "        modelcode = StarData[\"ModelCode\"][j].upper()\n",
    "        vsini = StarData[\"Adopted-vsini\"][j]\n",
    "        velS = df[\"VelStart\"][j]\n",
    "        velE = df[\"VelEnd\"][j]\n",
    "        velP = df[\"VelPixel\"][j]\n",
    "\n",
    "    mask = '02-Mask-calculations/MaskCleaning/AsifMaskClean_tellClean/{}_clean_{}.mask'.format(star,obs)\n",
    "\n",
    "    file = '01-Synth-calculations/Synth-hybrid-spectra/{}_{}_noise.s'.format(star, obs)\n",
    "    outfile = '03-LSD-calculations/LSD/hybrid_CleanAsif+tellClean/{}_{}.lsd'.format(star,obs)\n",
    "\n",
    "    toto = lsdpy.main(observation=file, mask=mask, outName=outfile, \n",
    "            velStart=velS, velEnd=velE, velPixel=velP, \n",
    "            normDepth=0.2, normLande=1.2, normWave=500.0,\n",
    "            removeContPol=1, trimMask=0, sigmaClipIter=0, sigmaClip=500, \n",
    "            interpMode=1, fSaveModelS=0, outModelName='',\n",
    "            fLSDPlotImg=0, fSavePlotImg=0, outPlotImgName='')\n",
    "    lsd = pol.iolsd.read_lsd(outfile)\n",
    "    \n",
    "    fig, ax = plt.subplots(4,1, figsize=(10,10))\n",
    "\n",
    "    ax[3].errorbar(lsd.vel, lsd.specI, yerr=lsd.specSigI, xerr=None, fmt='o', ms=3,ecolor='0.5',c='k')\n",
    "    ax[2].errorbar(lsd.vel, lsd.specN1, yerr=lsd.specSigN1, xerr=None, fmt='o', ms=3,ecolor='0.5',c='k')\n",
    "    ax[1].errorbar(lsd.vel, lsd.specN2, yerr=lsd.specSigN2, xerr=None, fmt='o', ms=3,ecolor='0.5',c='k')\n",
    "    ax[0].errorbar(lsd.vel, lsd.specV, yerr=lsd.specSigV, xerr=None, fmt='o', ms=3, ecolor='0.5',c='k')\n",
    "    plt.subplots_adjust(hspace=.0)\n",
    "    ax[3].set_xlabel('Velocity (km/s)')\n",
    "    ax[3].set_ylabel('I')\n",
    "    ax[2].set_ylabel('N1')\n",
    "    ax[1].set_ylabel('N2')\n",
    "    ax[0].set_ylabel('V')\n",
    "    fig.suptitle(star + '-'+ str(obs),y=0.92)\n",
    "\n",
    "    pdf.savefig(fig)\n",
    "\n",
    "##~30min"
   ]
  },
  {
   "cell_type": "markdown",
   "metadata": {
    "id": "CL1oG2AVJ77u"
   },
   "source": [
    "### 2.2 **Spectra**: Normalized-Spectra\n",
    "reran - Patrick\n"
   ]
  },
  {
   "cell_type": "code",
   "execution_count": 13,
   "metadata": {
    "id": "iMrrHWMgJ77v"
   },
   "outputs": [
    {
     "data": {
      "text/plain": [
       "array(['hd20336', 'hd33328', 'hd45725', 'hd58978', 'hd77320', 'hd89884',\n",
       "       'hd138749', 'hd164284', 'hd164906', 'hd191610', 'hd217050'],\n",
       "      dtype=object)"
      ]
     },
     "execution_count": 13,
     "metadata": {},
     "output_type": "execute_result"
    }
   ],
   "source": [
    "df = pd.read_csv('03-LSD-calculations/LSD/Params-LSDProfiles-CalculatedByPython.csv')\n",
    "blend=np.array(df['Name'][df['VelEnd']>=900])\n",
    "blend"
   ]
  },
  {
   "cell_type": "markdown",
   "metadata": {
    "id": "QIzx1jS0J77v"
   },
   "source": [
    "#### **Mask**: tellClean Mask depth 0.02:"
   ]
  },
  {
   "cell_type": "code",
   "execution_count": 14,
   "metadata": {
    "id": "207PZYKHJ77v"
   },
   "outputs": [],
   "source": [
    "%%capture\n",
    "\n",
    "with PdfPages('03-LSD-calculations/normalized_maskdepth0.02_tellClean.pdf') as pdf:\n",
    "\n",
    "  for i, ObsInfo in Observations.iterrows():\n",
    "    star = ObsInfo[\"Name\"]\n",
    "    obs = ObsInfo[\"Unnamed: 2\"]\n",
    "    for j in range(0,len(StarData[\"Name\"])):\n",
    "      if StarData[\"Name\"][j] == star:\n",
    "        modelcode = StarData[\"ModelCode\"][j].upper()\n",
    "        if StarData['vsini-estimate'][j]=='very bad':\n",
    "          vsini = StarData[\"Adopted-vsini\"][j]\n",
    "        else:\n",
    "          vsini = StarData['vsini-estimate'][j]\n",
    "        velS = df[\"VelStart\"][j]\n",
    "        velE = df[\"VelEnd\"][j]\n",
    "        velP = df[\"VelPixel\"][j]\n",
    "\n",
    "    for j in range(0,len(blend)):\n",
    "      if blend[j]==star:\n",
    "        mask = '02-Mask-calculations/MaskCleaning/{}_depth0.02.mask'.format(star)\n",
    "        break\n",
    "      if blend[j]!=star:\n",
    "        mask = '02-Mask-calculations/MaskCleaning/depth0.02_tellClean/{}_depth0.02.mask'.format(modelcode)\n",
    "\n",
    "    file = '00-InputMaterial/NormalizedSpectra/{}_{}.s'.format(star, obs)\n",
    "    outfile = '03-LSD-calculations/LSD/normalized_maskdepth0.02_tellClean/{}_{}.lsd'.format(star,obs)\n",
    "\n",
    "    toto = lsdpy.main(observation=file, mask=mask, outName=outfile, \n",
    "            velStart=velS, velEnd=velE, velPixel=velP, \n",
    "            normDepth=0.2, normLande=1.2, normWave=500.0,\n",
    "            removeContPol=1, trimMask=0, sigmaClipIter=0, sigmaClip=500, \n",
    "            interpMode=1, fSaveModelS=0, outModelName='',\n",
    "            fLSDPlotImg=0, fSavePlotImg=0, outPlotImgName='')\n",
    "    lsd = pol.iolsd.read_lsd(outfile)\n",
    "    \n",
    "    fig, ax = plt.subplots(4,1, figsize=(10,10))\n",
    "\n",
    "    ax[3].errorbar(lsd.vel, lsd.specI, yerr=lsd.specSigI, xerr=None, fmt='o', ms=3,ecolor='0.5',c='k')\n",
    "    ax[2].errorbar(lsd.vel, lsd.specN1, yerr=lsd.specSigN1, xerr=None, fmt='o', ms=3,ecolor='0.5',c='k')\n",
    "    ax[1].errorbar(lsd.vel, lsd.specN2, yerr=lsd.specSigN2, xerr=None, fmt='o', ms=3,ecolor='0.5',c='k')\n",
    "    ax[0].errorbar(lsd.vel, lsd.specV, yerr=lsd.specSigV, xerr=None, fmt='o', ms=3, ecolor='0.5',c='k')\n",
    "    plt.subplots_adjust(hspace=.0)\n",
    "    ax[3].set_xlabel('Velocity (km/s)')\n",
    "    ax[3].set_ylabel('I')\n",
    "    ax[2].set_ylabel('N1')\n",
    "    ax[1].set_ylabel('N2')\n",
    "    ax[0].set_ylabel('V')\n",
    "    fig.suptitle(star + '-'+ str(obs),y=0.92)\n",
    "\n",
    "    pdf.savefig(fig)\n",
    "\n",
    "##~30min"
   ]
  },
  {
   "cell_type": "markdown",
   "metadata": {
    "id": "cD1bDws8J77v"
   },
   "source": [
    "#### **Mask**: tellClean Mask depth 0.1:"
   ]
  },
  {
   "cell_type": "code",
   "execution_count": 15,
   "metadata": {
    "id": "9IYDGqReJ77v"
   },
   "outputs": [],
   "source": [
    "%%capture\n",
    "\n",
    "with PdfPages('03-LSD-calculations/normalized_maskdepth0.1_tellClean.pdf') as pdf:\n",
    "\n",
    "  for i, ObsInfo in Observations.iterrows():\n",
    "    star = ObsInfo[\"Name\"]\n",
    "    obs = ObsInfo[\"Unnamed: 2\"]\n",
    "    for j in range(0,len(StarData[\"Name\"])):\n",
    "      if StarData[\"Name\"][j] == star:\n",
    "        modelcode = StarData[\"ModelCode\"][j].upper()\n",
    "        if StarData['vsini-estimate'][j]=='very bad':\n",
    "          vsini = StarData[\"Adopted-vsini\"][j]\n",
    "        else:\n",
    "          vsini = StarData['vsini-estimate'][j]\n",
    "        velS = df[\"VelStart\"][j]\n",
    "        velE = df[\"VelEnd\"][j]\n",
    "        velP = df[\"VelPixel\"][j]\n",
    "\n",
    "    for j in range(0,len(blend)):\n",
    "      if blend[j]==star:\n",
    "        mask = '02-Mask-calculations/MaskCleaning/{}_depth0.1.mask'.format(star)\n",
    "        break\n",
    "      if blend[j]!=star:\n",
    "        mask = '02-Mask-calculations/MaskCleaning/depth0.1_tellClean/{}_depth0.1.mask'.format(modelcode)\n",
    "\n",
    "    file = '00-InputMaterial/NormalizedSpectra/{}_{}.s'.format(star, obs)\n",
    "    outfile = '03-LSD-calculations/LSD/normalized_maskdepth0.1_tellClean/{}_{}.lsd'.format(star,obs)\n",
    "\n",
    "    toto = lsdpy.main(observation=file, mask=mask, outName=outfile, \n",
    "            velStart=velS, velEnd=velE, velPixel=velP, \n",
    "            normDepth=0.2, normLande=1.2, normWave=500.0,\n",
    "            removeContPol=1, trimMask=0, sigmaClipIter=0, sigmaClip=500, \n",
    "            interpMode=1, fSaveModelS=0, outModelName='',\n",
    "            fLSDPlotImg=0, fSavePlotImg=0, outPlotImgName='')\n",
    "    lsd = pol.iolsd.read_lsd(outfile)\n",
    "    \n",
    "    fig, ax = plt.subplots(4,1, figsize=(10,10))\n",
    "\n",
    "    ax[3].errorbar(lsd.vel, lsd.specI, yerr=lsd.specSigI, xerr=None, fmt='o', ms=3,ecolor='0.5',c='k')\n",
    "    ax[2].errorbar(lsd.vel, lsd.specN1, yerr=lsd.specSigN1, xerr=None, fmt='o', ms=3,ecolor='0.5',c='k')\n",
    "    ax[1].errorbar(lsd.vel, lsd.specN2, yerr=lsd.specSigN2, xerr=None, fmt='o', ms=3,ecolor='0.5',c='k')\n",
    "    ax[0].errorbar(lsd.vel, lsd.specV, yerr=lsd.specSigV, xerr=None, fmt='o', ms=3, ecolor='0.5',c='k')\n",
    "    plt.subplots_adjust(hspace=.0)\n",
    "    ax[3].set_xlabel('Velocity (km/s)')\n",
    "    ax[3].set_ylabel('I')\n",
    "    ax[2].set_ylabel('N1')\n",
    "    ax[1].set_ylabel('N2')\n",
    "    ax[0].set_ylabel('V')\n",
    "    fig.suptitle(star + '-'+ str(obs),y=0.92)\n",
    "\n",
    "    pdf.savefig(fig)\n",
    "\n",
    "##~30min"
   ]
  },
  {
   "cell_type": "markdown",
   "metadata": {
    "id": "66mxviwTJ77w"
   },
   "source": [
    "#### **Mask**: tellClean CleanAsifTweak"
   ]
  },
  {
   "cell_type": "code",
   "execution_count": 16,
   "metadata": {
    "id": "CKJLb8bfJ77w"
   },
   "outputs": [],
   "source": [
    "%%capture\n",
    "with PdfPages('03-LSD-calculations/normalized_CleanAsifTweak_tellClean.pdf') as pdf:\n",
    "\n",
    "  for i, ObsInfo in Observations.iterrows():\n",
    "    star = ObsInfo[\"Name\"]\n",
    "    obs = ObsInfo[\"Unnamed: 2\"]\n",
    "    for j in range(0,len(StarData[\"Name\"])):\n",
    "      if StarData[\"Name\"][j] == star:\n",
    "        modelcode = StarData[\"ModelCode\"][j].upper()\n",
    "        vsini = StarData[\"Adopted-vsini\"][j]\n",
    "        velS = df[\"VelStart\"][j]\n",
    "        velE = df[\"VelEnd\"][j]\n",
    "        velP = df[\"VelPixel\"][j]\n",
    "\n",
    "    mask = '02-Mask-calculations/MaskCleaning/AsifMaskCleanTweak_tellClean/{}_clean_{}.mask_auto_twk'.format(star,obs)\n",
    "\n",
    "    file = '00-InputMaterial/NormalizedSpectra/{}_{}.s'.format(star, obs)\n",
    "    outfile = '03-LSD-calculations/LSD/normalized_CleanAsifTweak+tellClean/{}_{}.lsd'.format(star,obs)\n",
    "\n",
    "    toto = lsdpy.main(observation=file, mask=mask, outName=outfile, \n",
    "            velStart=velS, velEnd=velE, velPixel=velP, \n",
    "            normDepth=0.2, normLande=1.2, normWave=500.0,\n",
    "            removeContPol=1, trimMask=0, sigmaClipIter=0, sigmaClip=500, \n",
    "            interpMode=1, fSaveModelS=0, outModelName='',\n",
    "            fLSDPlotImg=0, fSavePlotImg=0, outPlotImgName='')\n",
    "    lsd = pol.iolsd.read_lsd(outfile)\n",
    "    \n",
    "    fig, ax = plt.subplots(4,1, figsize=(10,10))\n",
    "\n",
    "    ax[3].errorbar(lsd.vel, lsd.specI, yerr=lsd.specSigI, xerr=None, fmt='o', ms=3,ecolor='0.5',c='k')\n",
    "    ax[2].errorbar(lsd.vel, lsd.specN1, yerr=lsd.specSigN1, xerr=None, fmt='o', ms=3,ecolor='0.5',c='k')\n",
    "    ax[1].errorbar(lsd.vel, lsd.specN2, yerr=lsd.specSigN2, xerr=None, fmt='o', ms=3,ecolor='0.5',c='k')\n",
    "    ax[0].errorbar(lsd.vel, lsd.specV, yerr=lsd.specSigV, xerr=None, fmt='o', ms=3, ecolor='0.5',c='k')\n",
    "    plt.subplots_adjust(hspace=.0)\n",
    "    ax[3].set_xlabel('Velocity (km/s)')\n",
    "    ax[3].set_ylabel('I')\n",
    "    ax[2].set_ylabel('N1')\n",
    "    ax[1].set_ylabel('N2')\n",
    "    ax[0].set_ylabel('V')\n",
    "    fig.suptitle(star + '-'+ str(obs),y=0.92)\n",
    "\n",
    "    pdf.savefig(fig)\n",
    "\n",
    "##~30min"
   ]
  },
  {
   "cell_type": "markdown",
   "metadata": {
    "id": "A9Gdzs7gJ77w"
   },
   "source": [
    "#### **Mask**: tellClean AsifClean"
   ]
  },
  {
   "cell_type": "code",
   "execution_count": 17,
   "metadata": {
    "id": "6ouxyrp9J77w"
   },
   "outputs": [],
   "source": [
    "%%capture\n",
    "with PdfPages('03-LSD-calculations/normalized_CleanAsif_tellClean.pdf') as pdf:\n",
    "\n",
    "  for i, ObsInfo in Observations.iterrows():\n",
    "    star = ObsInfo[\"Name\"]\n",
    "    obs = ObsInfo[\"Unnamed: 2\"]\n",
    "    for j in range(0,len(StarData[\"Name\"])):\n",
    "      if StarData[\"Name\"][j] == star:\n",
    "        modelcode = StarData[\"ModelCode\"][j].upper()\n",
    "        vsini = StarData[\"Adopted-vsini\"][j]\n",
    "        velS = df[\"VelStart\"][j]\n",
    "        velE = df[\"VelEnd\"][j]\n",
    "        velP = df[\"VelPixel\"][j]\n",
    "\n",
    "    mask = '02-Mask-calculations/MaskCleaning/AsifMaskClean_tellClean/{}_clean_{}.mask'.format(star,obs)\n",
    "\n",
    "    file = '00-InputMaterial/NormalizedSpectra/{}_{}.s'.format(star, obs)\n",
    "    outfile = '03-LSD-calculations/LSD/normalized_CleanAsif+tellClean/{}_{}.lsd'.format(star,obs)\n",
    "\n",
    "    toto = lsdpy.main(observation=file, mask=mask, outName=outfile, \n",
    "            velStart=velS, velEnd=velE, velPixel=velP, \n",
    "            normDepth=0.2, normLande=1.2, normWave=500.0,\n",
    "            removeContPol=1, trimMask=0, sigmaClipIter=0, sigmaClip=500, \n",
    "            interpMode=1, fSaveModelS=0, outModelName='',\n",
    "            fLSDPlotImg=0, fSavePlotImg=0, outPlotImgName='')\n",
    "    lsd = pol.iolsd.read_lsd(outfile)\n",
    "    \n",
    "    fig, ax = plt.subplots(4,1, figsize=(10,10))\n",
    "\n",
    "    ax[3].errorbar(lsd.vel, lsd.specI, yerr=lsd.specSigI, xerr=None, fmt='o', ms=3,ecolor='0.5',c='k')\n",
    "    ax[2].errorbar(lsd.vel, lsd.specN1, yerr=lsd.specSigN1, xerr=None, fmt='o', ms=3,ecolor='0.5',c='k')\n",
    "    ax[1].errorbar(lsd.vel, lsd.specN2, yerr=lsd.specSigN2, xerr=None, fmt='o', ms=3,ecolor='0.5',c='k')\n",
    "    ax[0].errorbar(lsd.vel, lsd.specV, yerr=lsd.specSigV, xerr=None, fmt='o', ms=3, ecolor='0.5',c='k')\n",
    "    plt.subplots_adjust(hspace=.0)\n",
    "    ax[3].set_xlabel('Velocity (km/s)')\n",
    "    ax[3].set_ylabel('I')\n",
    "    ax[2].set_ylabel('N1')\n",
    "    ax[1].set_ylabel('N2')\n",
    "    ax[0].set_ylabel('V')\n",
    "    fig.suptitle(star + '-'+ str(obs),y=0.92)\n",
    "\n",
    "    pdf.savefig(fig)\n",
    "\n",
    "##~30min"
   ]
  },
  {
   "cell_type": "code",
   "execution_count": null,
   "metadata": {},
   "outputs": [],
   "source": []
  }
 ],
 "metadata": {
  "colab": {
   "collapsed_sections": [
    "gb6qqojjLVAf",
    "fOTxMUoFb0cY",
    "sA-4NS_cPriF",
    "AwhTBf2cs5B5",
    "BfitRF29s9QP",
    "tOEpujP_id-R",
    "qyClzE3qEUGP",
    "QIzx1jS0J77v",
    "A9Gdzs7gJ77w",
    "MFKFEfx2DrmZ",
    "SJcUsfxqZcJ-",
    "62UIDhT8GYwU",
    "DDlhcHl5GpTB",
    "4kDbxQFO9HmD",
    "kacHWpF39SKw",
    "hG14l70cf5td",
    "UCcPpqJOh6Mx",
    "8DaTpeDuh_qT",
    "FrYKyNzBKz5G",
    "tkRIZHFILAeQ",
    "iqm47XGeD6BR",
    "apv_oy3fG77F",
    "XUSPvFnEJtGe"
   ],
   "provenance": []
  },
  "kernelspec": {
   "display_name": "Python 3 (ipykernel)",
   "language": "python",
   "name": "python3"
  },
  "language_info": {
   "codemirror_mode": {
    "name": "ipython",
    "version": 3
   },
   "file_extension": ".py",
   "mimetype": "text/x-python",
   "name": "python",
   "nbconvert_exporter": "python",
   "pygments_lexer": "ipython3",
   "version": "3.9.7"
  }
 },
 "nbformat": 4,
 "nbformat_minor": 1
}
