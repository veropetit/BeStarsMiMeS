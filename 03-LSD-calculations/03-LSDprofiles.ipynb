{
 "cells": [
  {
   "attachments": {},
   "cell_type": "markdown",
   "metadata": {
    "id": "rDDLQJ7HKt4S"
   },
   "source": [
    "# Calculating the LSD profiles "
   ]
  },
  {
   "attachments": {},
   "cell_type": "markdown",
   "metadata": {
    "id": "gb6qqojjLVAf"
   },
   "source": [
    "## 0 Packages and data"
   ]
  },
  {
   "cell_type": "code",
   "execution_count": 1,
   "metadata": {
    "colab": {
     "base_uri": "https://localhost:8080/"
    },
    "executionInfo": {
     "elapsed": 217,
     "status": "ok",
     "timestamp": 1675259911517,
     "user": {
      "displayName": "Patrick Stanley",
      "userId": "13506334151389315964"
     },
     "user_tz": 300
    },
    "id": "lN4OwRi4y-M3",
    "metadata": {},
    "outputId": "88dfe92a-712c-4895-fad1-f326954f0a2a"
   },
   "outputs": [],
   "source": [
    "path='G:/Shared drives/BeStarsMiMeS/ScienceFiles/' #Patrick's google file stream path"
   ]
  },
  {
   "cell_type": "code",
   "execution_count": 2,
   "metadata": {
    "metadata": {}
   },
   "outputs": [],
   "source": [
    "\n",
    "import LSDpy.lsdpy as lsdpy\n"
   ]
  },
  {
   "cell_type": "code",
   "execution_count": 3,
   "metadata": {
    "colab": {
     "base_uri": "https://localhost:8080/"
    },
    "executionInfo": {
     "elapsed": 2436,
     "status": "ok",
     "timestamp": 1675259922588,
     "user": {
      "displayName": "Patrick Stanley",
      "userId": "13506334151389315964"
     },
     "user_tz": 300
    },
    "id": "Ob-aghRQLiwJ",
    "metadata": {},
    "outputId": "7d5920eb-44b4-480f-8f2d-015da6a42307"
   },
   "outputs": [],
   "source": [
    "import specpolFlow as pol\n",
    "import numpy as np\n",
    "import matplotlib.pyplot as plt\n",
    "import astropy.units as u\n",
    "import astropy.constants as const"
   ]
  },
  {
   "cell_type": "code",
   "execution_count": 4,
   "metadata": {
    "id": "q27lsHB5a2RO",
    "metadata": {}
   },
   "outputs": [],
   "source": [
    "from matplotlib.backends.backend_pdf import PdfPages\n",
    "\n",
    "import pandas as pd\n",
    "import itertools\n",
    "\n",
    "### This gets rid of the warnings in the cells where it is creating more than 20 figures (i.e. 1.2)\n",
    "#### Not needed for this notebook but could be useful in the future\n",
    "#import warnings\n",
    "#warnings.filterwarnings(\"default\", message=\"More than 20 figures have been opened.\")"
   ]
  },
  {
   "cell_type": "code",
   "execution_count": 5,
   "metadata": {
    "id": "JzN4RVJna92W",
    "metadata": {}
   },
   "outputs": [],
   "source": [
    "import pandas as pd\n",
    "sheet_id = '1M6y1Wnsrc-w5FjUMfKaSFa_-foIDAaMe8W4lYNWnWyk'\n",
    "sheet_name = 'Stars'\n",
    "url = f'https://docs.google.com/spreadsheets/d/{sheet_id}/gviz/tq?tqx=out:csv&sheet={sheet_name}'\n",
    "StarData=pd.read_csv(url)\n",
    "\n",
    "sheet_name = 'Observations'\n",
    "url = f'https://docs.google.com/spreadsheets/d/{sheet_id}/gviz/tq?tqx=out:csv&sheet={sheet_name}'\n",
    "Observations=pd.read_csv(url)"
   ]
  },
  {
   "attachments": {},
   "cell_type": "markdown",
   "metadata": {
    "id": "GT7u_oAfGKSt"
   },
   "source": [
    "### 2.1 **Spectra**: Synth-hybrid-spectra\n",
    "reran - Patrick\n"
   ]
  },
  {
   "cell_type": "code",
   "execution_count": 6,
   "metadata": {
    "colab": {
     "base_uri": "https://localhost:8080/"
    },
    "executionInfo": {
     "elapsed": 194,
     "status": "ok",
     "timestamp": 1675263379133,
     "user": {
      "displayName": "Patrick Stanley",
      "userId": "13506334151389315964"
     },
     "user_tz": 300
    },
    "id": "auGgWyxIOOXH",
    "metadata": {},
    "outputId": "31931a50-85ac-4620-9c79-4939d6576ddc"
   },
   "outputs": [],
   "source": [
    "df = pd.read_csv('{}03-LSD-calculations/LSD/Params-LSDProfiles-CalculatedByPython.csv'.format(path))\n"
   ]
  },
  {
   "attachments": {},
   "cell_type": "markdown",
   "metadata": {
    "id": "AwhTBf2cs5B5"
   },
   "source": [
    "#### **Mask**: tellClean Mask depth 0.02:"
   ]
  },
  {
   "cell_type": "markdown",
   "metadata": {},
   "source": [
    "#### **Mask**: tellClean Mask depth 0.01:"
   ]
  },
  {
   "cell_type": "code",
   "execution_count": 7,
   "metadata": {},
   "outputs": [],
   "source": [
    "%%capture\n",
    "with PdfPages('{}03-LSD-calculations/hybrid_maskdepth0.01_tellClean.pdf'.format(path)) as pdf:\n",
    "\n",
    "  for i, ObsInfo in Observations.iterrows():\n",
    "    star = ObsInfo[\"Name\"]\n",
    "    obs = ObsInfo[\"Unnamed: 2\"]\n",
    "    for j in range(0,len(StarData[\"Name\"])):\n",
    "      if StarData[\"Name\"][j] == star:\n",
    "        modelcode = StarData[\"ModelCode\"][j].upper()\n",
    "        if StarData['vsini-estimate'][j]=='very bad':\n",
    "          vsini = StarData[\"Adopted-vsini\"][j]\n",
    "        else:\n",
    "          vsini = StarData['vsini-estimate'][j]\n",
    "        velS = df[\"VelStart\"][j]\n",
    "        velE = df[\"VelEnd\"][j]\n",
    "        velP = df[\"VelPixel\"][j]\n",
    "\n",
    "    file = '{}01-Synth-calculations/Synth-hybrid-spectra/{}_{}_noise.s'.format(path,star, obs)\n",
    "    outfile = '{}03-LSD-calculations/LSD/hybrid_maskdepth0.01_tellClean/{}_{}.lsd'.format(path,star,obs)\n",
    "    mask='{}02-Mask-calculations/MaskCleaning/depth0.01_tellClean/{}_{}_depth0.01.mask'.format(path,modelcode,star)\n",
    "\n",
    "    lsd, mod = pol.run_lsdpy(obs = file, mask = mask, outLSDName = outfile, \n",
    "            velStart = velS, velEnd = velE, velPixel = velP, \n",
    "            normDepth = 0.2, normLande = 1.2, normWave = 500.0)\n",
    "    \n",
    "    fig, ax = plt.subplots(4,1, figsize=(10,10))\n",
    "\n",
    "    ax[3].errorbar(lsd.vel, lsd.specI, yerr=lsd.specSigI, xerr=None, fmt='o', ms=3,ecolor='0.5',c='k')\n",
    "    ax[2].errorbar(lsd.vel, lsd.specN1, yerr=lsd.specSigN1, xerr=None, fmt='o', ms=3,ecolor='0.5',c='k')\n",
    "    ax[1].errorbar(lsd.vel, lsd.specN2, yerr=lsd.specSigN2, xerr=None, fmt='o', ms=3,ecolor='0.5',c='k')\n",
    "    ax[0].errorbar(lsd.vel, lsd.specV, yerr=lsd.specSigV, xerr=None, fmt='o', ms=3, ecolor='0.5',c='k')\n",
    "    plt.subplots_adjust(hspace=.0)\n",
    "    ax[3].set_xlabel('Velocity (km/s)')\n",
    "    ax[3].set_ylabel('I')\n",
    "    ax[2].set_ylabel('N1')\n",
    "    ax[1].set_ylabel('N2')\n",
    "    ax[0].set_ylabel('V')\n",
    "    fig.suptitle(star + '-'+ str(obs),y=0.92)\n",
    "\n",
    "    pdf.savefig(fig)\n",
    "\n",
    "##~30min"
   ]
  },
  {
   "cell_type": "code",
   "execution_count": 40,
   "metadata": {},
   "outputs": [],
   "source": [
    "%%capture\n",
    "with PdfPages('{}03-LSD-calculations/hybrid_maskdepth0.02_tellClean.pdf'.format(path)) as pdf:\n",
    "\n",
    "  for i, ObsInfo in Observations.iterrows():\n",
    "    star = ObsInfo[\"Name\"]\n",
    "    obs = ObsInfo[\"Unnamed: 2\"]\n",
    "    for j in range(0,len(StarData[\"Name\"])):\n",
    "      if StarData[\"Name\"][j] == star:\n",
    "        modelcode = StarData[\"ModelCode\"][j].upper()\n",
    "        if StarData['vsini-estimate'][j]=='very bad':\n",
    "          vsini = StarData[\"Adopted-vsini\"][j]\n",
    "        else:\n",
    "          vsini = StarData['vsini-estimate'][j]\n",
    "        velS = df[\"VelStart\"][j]\n",
    "        velE = df[\"VelEnd\"][j]\n",
    "        velP = df[\"VelPixel\"][j]\n",
    "\n",
    "    file = '{}01-Synth-calculations/Synth-hybrid-spectra/{}_{}_noise.s'.format(path,star, obs)\n",
    "    outfile = '{}03-LSD-calculations/LSD/hybrid_maskdepth0.02_tellClean/{}_{}.lsd'.format(path,star,obs)\n",
    "    mask='{}02-Mask-calculations/MaskCleaning/depth0.02_tellClean/{}_{}_depth0.02.mask'.format(path,modelcode,star)\n",
    "\n",
    "    lsd, mod = pol.run_lsdpy(obs = file, mask = mask, outName = outfile, \n",
    "            velStart = velS, velEnd = velE, velPixel = velP, \n",
    "            normDepth = 0.2, normLande = 1.2, normWave = 500.0)\n",
    "    \n",
    "    fig, ax = plt.subplots(4,1, figsize=(10,10))\n",
    "\n",
    "    ax[3].errorbar(lsd.vel, lsd.specI, yerr=lsd.specSigI, xerr=None, fmt='o', ms=3,ecolor='0.5',c='k')\n",
    "    ax[2].errorbar(lsd.vel, lsd.specN1, yerr=lsd.specSigN1, xerr=None, fmt='o', ms=3,ecolor='0.5',c='k')\n",
    "    ax[1].errorbar(lsd.vel, lsd.specN2, yerr=lsd.specSigN2, xerr=None, fmt='o', ms=3,ecolor='0.5',c='k')\n",
    "    ax[0].errorbar(lsd.vel, lsd.specV, yerr=lsd.specSigV, xerr=None, fmt='o', ms=3, ecolor='0.5',c='k')\n",
    "    plt.subplots_adjust(hspace=.0)\n",
    "    ax[3].set_xlabel('Velocity (km/s)')\n",
    "    ax[3].set_ylabel('I')\n",
    "    ax[2].set_ylabel('N1')\n",
    "    ax[1].set_ylabel('N2')\n",
    "    ax[0].set_ylabel('V')\n",
    "    fig.suptitle(star + '-'+ str(obs),y=0.92)\n",
    "\n",
    "    pdf.savefig(fig)\n",
    "\n",
    "##~30min"
   ]
  },
  {
   "attachments": {},
   "cell_type": "markdown",
   "metadata": {
    "id": "BfitRF29s9QP"
   },
   "source": [
    "#### **Mask**: tellClean Mask depth 0.1: OLD"
   ]
  },
  {
   "cell_type": "code",
   "execution_count": 9,
   "metadata": {
    "id": "NnnaMucas8qd"
   },
   "outputs": [
    {
     "ename": "FileNotFoundError",
     "evalue": "G:/Shared drives/BeStarsMiMeS/UpdatedFiles/02-Mask-calculations/MaskCleaning/hd6226_depth0.1.mask not found.",
     "output_type": "error",
     "traceback": [
      "\u001b[1;31m---------------------------------------------------------------------------\u001b[0m",
      "\u001b[1;31mFileNotFoundError\u001b[0m                         Traceback (most recent call last)",
      "Cell \u001b[1;32mIn[9], line 21\u001b[0m\n\u001b[0;32m     18\u001b[0m file \u001b[38;5;241m=\u001b[39m \u001b[38;5;124m'\u001b[39m\u001b[38;5;132;01m{}\u001b[39;00m\u001b[38;5;124m01-Synth-calculations/Synth-hybrid-spectra/\u001b[39m\u001b[38;5;132;01m{}\u001b[39;00m\u001b[38;5;124m_\u001b[39m\u001b[38;5;132;01m{}\u001b[39;00m\u001b[38;5;124m_noise.s\u001b[39m\u001b[38;5;124m'\u001b[39m\u001b[38;5;241m.\u001b[39mformat(path,star, obs)\n\u001b[0;32m     19\u001b[0m outfile \u001b[38;5;241m=\u001b[39m \u001b[38;5;124m'\u001b[39m\u001b[38;5;132;01m{}\u001b[39;00m\u001b[38;5;124m03-LSD-calculations/LSD/hybrid_maskdepth0.1_tellClean/\u001b[39m\u001b[38;5;132;01m{}\u001b[39;00m\u001b[38;5;124m_\u001b[39m\u001b[38;5;132;01m{}\u001b[39;00m\u001b[38;5;124m.lsd\u001b[39m\u001b[38;5;124m'\u001b[39m\u001b[38;5;241m.\u001b[39mformat(path,star,obs)\n\u001b[1;32m---> 21\u001b[0m lsd, mod \u001b[38;5;241m=\u001b[39m pol\u001b[38;5;241m.\u001b[39mrun_lsdpy(obs \u001b[38;5;241m=\u001b[39m file, mask \u001b[38;5;241m=\u001b[39m mask, outName \u001b[38;5;241m=\u001b[39m outfile, \n\u001b[0;32m     22\u001b[0m         velStart \u001b[38;5;241m=\u001b[39m velS, velEnd \u001b[38;5;241m=\u001b[39m velE, velPixel \u001b[38;5;241m=\u001b[39m velP, \n\u001b[0;32m     23\u001b[0m         normDepth \u001b[38;5;241m=\u001b[39m \u001b[38;5;241m0.2\u001b[39m, normLande \u001b[38;5;241m=\u001b[39m \u001b[38;5;241m1.2\u001b[39m, normWave \u001b[38;5;241m=\u001b[39m \u001b[38;5;241m500.0\u001b[39m)\n\u001b[0;32m     25\u001b[0m fig, ax \u001b[38;5;241m=\u001b[39m plt\u001b[38;5;241m.\u001b[39msubplots(\u001b[38;5;241m4\u001b[39m,\u001b[38;5;241m1\u001b[39m, figsize\u001b[38;5;241m=\u001b[39m(\u001b[38;5;241m10\u001b[39m,\u001b[38;5;241m10\u001b[39m))\n\u001b[0;32m     27\u001b[0m ax[\u001b[38;5;241m3\u001b[39m]\u001b[38;5;241m.\u001b[39merrorbar(lsd\u001b[38;5;241m.\u001b[39mvel, lsd\u001b[38;5;241m.\u001b[39mspecI, yerr\u001b[38;5;241m=\u001b[39mlsd\u001b[38;5;241m.\u001b[39mspecSigI, xerr\u001b[38;5;241m=\u001b[39m\u001b[38;5;28;01mNone\u001b[39;00m, fmt\u001b[38;5;241m=\u001b[39m\u001b[38;5;124m'\u001b[39m\u001b[38;5;124mo\u001b[39m\u001b[38;5;124m'\u001b[39m, ms\u001b[38;5;241m=\u001b[39m\u001b[38;5;241m3\u001b[39m,ecolor\u001b[38;5;241m=\u001b[39m\u001b[38;5;124m'\u001b[39m\u001b[38;5;124m0.5\u001b[39m\u001b[38;5;124m'\u001b[39m,c\u001b[38;5;241m=\u001b[39m\u001b[38;5;124m'\u001b[39m\u001b[38;5;124mk\u001b[39m\u001b[38;5;124m'\u001b[39m)\n",
      "File \u001b[1;32mC:\\MyPythonPackages\\specpolFlow\\specpolFlow\\profileLSD.py:903\u001b[0m, in \u001b[0;36mrun_lsdpy\u001b[1;34m(obs, mask, outName, velStart, velEnd, velPixel, normDepth, normLande, normWave, removeContPol, trimMask, sigmaClipIter, sigmaClip, interpMode, outModelName, fLSDPlotImg, fSavePlotImg, outPlotImgName)\u001b[0m\n\u001b[0;32m    842\u001b[0m \u001b[38;5;250m\u001b[39m\u001b[38;5;124;03m\"\"\"\u001b[39;00m\n\u001b[0;32m    843\u001b[0m \u001b[38;5;124;03mRun the LSDpy code and return an LSD object  \u001b[39;00m\n\u001b[0;32m    844\u001b[0m \u001b[38;5;124;03m(a convenience wrapper around the lsdpy.main() function)\u001b[39;00m\n\u001b[1;32m   (...)\u001b[0m\n\u001b[0;32m    899\u001b[0m \u001b[38;5;124;03m                      i.e. the convolution of the line mask and LSD profile)\u001b[39;00m\n\u001b[0;32m    900\u001b[0m \u001b[38;5;124;03m\"\"\"\u001b[39;00m\n\u001b[0;32m    901\u001b[0m \u001b[38;5;28;01mimport\u001b[39;00m \u001b[38;5;21;01mLSDpy\u001b[39;00m\n\u001b[1;32m--> 903\u001b[0m vel, sI, sIerr, sV, sVerr, sN1, sN1err, headerTxt, specList \u001b[38;5;241m=\u001b[39m LSDpy\u001b[38;5;241m.\u001b[39mlsdpy\u001b[38;5;241m.\u001b[39mmain(\n\u001b[0;32m    904\u001b[0m     obs, mask, outName, velStart, velEnd, velPixel, \n\u001b[0;32m    905\u001b[0m     normDepth, normLande, normWave, removeContPol, trimMask, \n\u001b[0;32m    906\u001b[0m     sigmaClipIter, sigmaClip, interpMode, \u001b[38;5;241m1\u001b[39m, outModelName, \n\u001b[0;32m    907\u001b[0m     fLSDPlotImg, fSavePlotImg, outPlotImgName)\n\u001b[0;32m    909\u001b[0m prof \u001b[38;5;241m=\u001b[39m LSD(vel, sI, sIerr, sV, sVerr, sN1, sN1err, header\u001b[38;5;241m=\u001b[39mheaderTxt)\n\u001b[0;32m    910\u001b[0m modelSpec \u001b[38;5;241m=\u001b[39m Spectrum(specList[\u001b[38;5;241m0\u001b[39m], specList[\u001b[38;5;241m1\u001b[39m], specList[\u001b[38;5;241m2\u001b[39m], specList[\u001b[38;5;241m3\u001b[39m],\n\u001b[0;32m    911\u001b[0m                         np\u001b[38;5;241m.\u001b[39mzeros_like(specList[\u001b[38;5;241m0\u001b[39m]), np\u001b[38;5;241m.\u001b[39mzeros_like(specList[\u001b[38;5;241m0\u001b[39m]))\n",
      "File \u001b[1;32mC:\\MyPythonPackages\\LSDpy\\lsdpy.py:123\u001b[0m, in \u001b[0;36mmain\u001b[1;34m(observation, mask, outName, velStart, velEnd, velPixel, normDepth, normLande, normWave, removeContPol, trimMask, sigmaClipIter, sigmaClip, interpMode, fSaveModelS, outModelName, fLSDPlotImg, fSavePlotImg, outPlotImgName)\u001b[0m\n\u001b[0;32m    120\u001b[0m obs\u001b[38;5;241m.\u001b[39mspecI \u001b[38;5;241m=\u001b[39m \u001b[38;5;241m1.\u001b[39m\u001b[38;5;241m-\u001b[39mobs\u001b[38;5;241m.\u001b[39mspecI\n\u001b[0;32m    122\u001b[0m \u001b[38;5;66;03m#Read the line mask\u001b[39;00m\n\u001b[1;32m--> 123\u001b[0m mask \u001b[38;5;241m=\u001b[39m lsdpFunc\u001b[38;5;241m.\u001b[39mmask(params\u001b[38;5;241m.\u001b[39minMask)\n\u001b[0;32m    124\u001b[0m \u001b[38;5;66;03m#remove very closely spaced lines in the mask\u001b[39;00m\n\u001b[0;32m    125\u001b[0m \u001b[38;5;28;01mif\u001b[39;00m params\u001b[38;5;241m.\u001b[39mtrimMask \u001b[38;5;241m!=\u001b[39m \u001b[38;5;241m0\u001b[39m: mask\u001b[38;5;241m.\u001b[39mremovePoorLines(params)\n",
      "File \u001b[1;32mC:\\MyPythonPackages\\LSDpy\\lsdpFunc.py:249\u001b[0m, in \u001b[0;36mmask.__init__\u001b[1;34m(self, fname)\u001b[0m\n\u001b[0;32m    242\u001b[0m \u001b[38;5;28;01mdef\u001b[39;00m \u001b[38;5;21m__init__\u001b[39m(\u001b[38;5;28mself\u001b[39m, fname):\n\u001b[0;32m    243\u001b[0m \n\u001b[0;32m    244\u001b[0m     \u001b[38;5;66;03m#Columns should be wavelength (nm), element+ionization*0.01, line depth,\u001b[39;00m\n\u001b[1;32m   (...)\u001b[0m\n\u001b[0;32m    247\u001b[0m     \u001b[38;5;66;03m#self.wl, self.element, self.depth, self.excite, self.lande, tmpiuse \\\u001b[39;00m\n\u001b[0;32m    248\u001b[0m     \u001b[38;5;66;03m#    = np.loadtxt(fname, skiprows=1, unpack=True)\u001b[39;00m\n\u001b[1;32m--> 249\u001b[0m     tmpMask \u001b[38;5;241m=\u001b[39m np\u001b[38;5;241m.\u001b[39mloadtxt(fname, skiprows\u001b[38;5;241m=\u001b[39m\u001b[38;5;241m1\u001b[39m, unpack\u001b[38;5;241m=\u001b[39m\u001b[38;5;28;01mTrue\u001b[39;00m)\n\u001b[0;32m    251\u001b[0m     \u001b[38;5;66;03m#Sort the line mask so wavelength is always increasing\u001b[39;00m\n\u001b[0;32m    252\u001b[0m     \u001b[38;5;28mself\u001b[39m\u001b[38;5;241m.\u001b[39mind \u001b[38;5;241m=\u001b[39m np\u001b[38;5;241m.\u001b[39margsort(tmpMask[\u001b[38;5;241m0\u001b[39m,:])\n",
      "File \u001b[1;32mc:\\Users\\pjsta\\anaconda3\\Lib\\site-packages\\numpy\\lib\\npyio.py:1356\u001b[0m, in \u001b[0;36mloadtxt\u001b[1;34m(fname, dtype, comments, delimiter, converters, skiprows, usecols, unpack, ndmin, encoding, max_rows, quotechar, like)\u001b[0m\n\u001b[0;32m   1353\u001b[0m \u001b[38;5;28;01mif\u001b[39;00m \u001b[38;5;28misinstance\u001b[39m(delimiter, \u001b[38;5;28mbytes\u001b[39m):\n\u001b[0;32m   1354\u001b[0m     delimiter \u001b[38;5;241m=\u001b[39m delimiter\u001b[38;5;241m.\u001b[39mdecode(\u001b[38;5;124m'\u001b[39m\u001b[38;5;124mlatin1\u001b[39m\u001b[38;5;124m'\u001b[39m)\n\u001b[1;32m-> 1356\u001b[0m arr \u001b[38;5;241m=\u001b[39m _read(fname, dtype\u001b[38;5;241m=\u001b[39mdtype, comment\u001b[38;5;241m=\u001b[39mcomment, delimiter\u001b[38;5;241m=\u001b[39mdelimiter,\n\u001b[0;32m   1357\u001b[0m             converters\u001b[38;5;241m=\u001b[39mconverters, skiplines\u001b[38;5;241m=\u001b[39mskiprows, usecols\u001b[38;5;241m=\u001b[39musecols,\n\u001b[0;32m   1358\u001b[0m             unpack\u001b[38;5;241m=\u001b[39munpack, ndmin\u001b[38;5;241m=\u001b[39mndmin, encoding\u001b[38;5;241m=\u001b[39mencoding,\n\u001b[0;32m   1359\u001b[0m             max_rows\u001b[38;5;241m=\u001b[39mmax_rows, quote\u001b[38;5;241m=\u001b[39mquotechar)\n\u001b[0;32m   1361\u001b[0m \u001b[38;5;28;01mreturn\u001b[39;00m arr\n",
      "File \u001b[1;32mc:\\Users\\pjsta\\anaconda3\\Lib\\site-packages\\numpy\\lib\\npyio.py:975\u001b[0m, in \u001b[0;36m_read\u001b[1;34m(fname, delimiter, comment, quote, imaginary_unit, usecols, skiplines, max_rows, converters, ndmin, unpack, dtype, encoding)\u001b[0m\n\u001b[0;32m    973\u001b[0m     fname \u001b[38;5;241m=\u001b[39m os\u001b[38;5;241m.\u001b[39mfspath(fname)\n\u001b[0;32m    974\u001b[0m \u001b[38;5;28;01mif\u001b[39;00m \u001b[38;5;28misinstance\u001b[39m(fname, \u001b[38;5;28mstr\u001b[39m):\n\u001b[1;32m--> 975\u001b[0m     fh \u001b[38;5;241m=\u001b[39m np\u001b[38;5;241m.\u001b[39mlib\u001b[38;5;241m.\u001b[39m_datasource\u001b[38;5;241m.\u001b[39mopen(fname, \u001b[38;5;124m'\u001b[39m\u001b[38;5;124mrt\u001b[39m\u001b[38;5;124m'\u001b[39m, encoding\u001b[38;5;241m=\u001b[39mencoding)\n\u001b[0;32m    976\u001b[0m     \u001b[38;5;28;01mif\u001b[39;00m encoding \u001b[38;5;129;01mis\u001b[39;00m \u001b[38;5;28;01mNone\u001b[39;00m:\n\u001b[0;32m    977\u001b[0m         encoding \u001b[38;5;241m=\u001b[39m \u001b[38;5;28mgetattr\u001b[39m(fh, \u001b[38;5;124m'\u001b[39m\u001b[38;5;124mencoding\u001b[39m\u001b[38;5;124m'\u001b[39m, \u001b[38;5;124m'\u001b[39m\u001b[38;5;124mlatin1\u001b[39m\u001b[38;5;124m'\u001b[39m)\n",
      "File \u001b[1;32mc:\\Users\\pjsta\\anaconda3\\Lib\\site-packages\\numpy\\lib\\_datasource.py:193\u001b[0m, in \u001b[0;36mopen\u001b[1;34m(path, mode, destpath, encoding, newline)\u001b[0m\n\u001b[0;32m    156\u001b[0m \u001b[38;5;250m\u001b[39m\u001b[38;5;124;03m\"\"\"\u001b[39;00m\n\u001b[0;32m    157\u001b[0m \u001b[38;5;124;03mOpen `path` with `mode` and return the file object.\u001b[39;00m\n\u001b[0;32m    158\u001b[0m \n\u001b[1;32m   (...)\u001b[0m\n\u001b[0;32m    189\u001b[0m \n\u001b[0;32m    190\u001b[0m \u001b[38;5;124;03m\"\"\"\u001b[39;00m\n\u001b[0;32m    192\u001b[0m ds \u001b[38;5;241m=\u001b[39m DataSource(destpath)\n\u001b[1;32m--> 193\u001b[0m \u001b[38;5;28;01mreturn\u001b[39;00m ds\u001b[38;5;241m.\u001b[39mopen(path, mode, encoding\u001b[38;5;241m=\u001b[39mencoding, newline\u001b[38;5;241m=\u001b[39mnewline)\n",
      "File \u001b[1;32mc:\\Users\\pjsta\\anaconda3\\Lib\\site-packages\\numpy\\lib\\_datasource.py:533\u001b[0m, in \u001b[0;36mDataSource.open\u001b[1;34m(self, path, mode, encoding, newline)\u001b[0m\n\u001b[0;32m    530\u001b[0m     \u001b[38;5;28;01mreturn\u001b[39;00m _file_openers[ext](found, mode\u001b[38;5;241m=\u001b[39mmode,\n\u001b[0;32m    531\u001b[0m                               encoding\u001b[38;5;241m=\u001b[39mencoding, newline\u001b[38;5;241m=\u001b[39mnewline)\n\u001b[0;32m    532\u001b[0m \u001b[38;5;28;01melse\u001b[39;00m:\n\u001b[1;32m--> 533\u001b[0m     \u001b[38;5;28;01mraise\u001b[39;00m \u001b[38;5;167;01mFileNotFoundError\u001b[39;00m(\u001b[38;5;124mf\u001b[39m\u001b[38;5;124m\"\u001b[39m\u001b[38;5;132;01m{\u001b[39;00mpath\u001b[38;5;132;01m}\u001b[39;00m\u001b[38;5;124m not found.\u001b[39m\u001b[38;5;124m\"\u001b[39m)\n",
      "\u001b[1;31mFileNotFoundError\u001b[0m: G:/Shared drives/BeStarsMiMeS/UpdatedFiles/02-Mask-calculations/MaskCleaning/hd6226_depth0.1.mask not found."
     ]
    }
   ],
   "source": [
    "%%capture\n",
    "with PdfPages('{}03-LSD-calculations/hybrid__maskdepth0.1_tellClean.pdf'.format(path)) as pdf:\n",
    "\n",
    "  for i, ObsInfo in Observations.iterrows():\n",
    "    star = ObsInfo[\"Name\"]\n",
    "    obs = ObsInfo[\"Unnamed: 2\"]\n",
    "    for j in range(0,len(StarData[\"Name\"])):\n",
    "      if StarData[\"Name\"][j] == star:\n",
    "        modelcode = StarData[\"ModelCode\"][j].upper()\n",
    "        if StarData['vsini-estimate'][j]=='very bad':\n",
    "          vsini = StarData[\"Adopted-vsini\"][j]\n",
    "        else:\n",
    "          vsini = StarData['vsini-estimate'][j]\n",
    "        velS = df[\"VelStart\"][j]\n",
    "        velE = df[\"VelEnd\"][j]\n",
    "        velP = df[\"VelPixel\"][j]\n",
    "\n",
    "    for j in range(0,len(blend)):\n",
    "      if blend[j]==star:\n",
    "        mask = '{}02-Mask-calculations/MaskCleaning/{}_depth0.1.mask'.format(path,star)\n",
    "        break\n",
    "      if blend[j]!=star:\n",
    "        mask = '{}02-Mask-calculations/MaskCleaning/depth0.1_tellClean/{}_depth0.1.mask'.format(path,modelcode)\n",
    "\n",
    "    file = '{}01-Synth-calculations/Synth-hybrid-spectra/{}_{}_noise.s'.format(path,star, obs)\n",
    "    outfile = '{}03-LSD-calculations/LSD/hybrid_maskdepth0.1_tellClean/{}_{}.lsd'.format(path,star,obs)\n",
    "\n",
    "    toto = lsdpy.main(observation=file, mask=mask, outName=outfile, \n",
    "            velStart=velS, velEnd=velE, velPixel=velP, \n",
    "            normDepth=0.2, normLande=1.2, normWave=500.0,\n",
    "            removeContPol=1, trimMask=0, sigmaClipIter=0, sigmaClip=500, \n",
    "            interpMode=1, fSaveModelS=0, outModelName='',\n",
    "            fLSDPlotImg=0, fSavePlotImg=0, outPlotImgName='')\n",
    "    lsd = pol.read_lsd(outfile)\n",
    "    \n",
    "    fig, ax = plt.subplots(4,1, figsize=(10,10))\n",
    "\n",
    "    ax[3].errorbar(lsd.vel, lsd.specI, yerr=lsd.specSigI, xerr=None, fmt='o', ms=3,ecolor='0.5',c='k')\n",
    "    ax[2].errorbar(lsd.vel, lsd.specN1, yerr=lsd.specSigN1, xerr=None, fmt='o', ms=3,ecolor='0.5',c='k')\n",
    "    ax[1].errorbar(lsd.vel, lsd.specN2, yerr=lsd.specSigN2, xerr=None, fmt='o', ms=3,ecolor='0.5',c='k')\n",
    "    ax[0].errorbar(lsd.vel, lsd.specV, yerr=lsd.specSigV, xerr=None, fmt='o', ms=3, ecolor='0.5',c='k')\n",
    "    plt.subplots_adjust(hspace=.0)\n",
    "    ax[3].set_xlabel('Velocity (km/s)')\n",
    "    ax[3].set_ylabel('I')\n",
    "    ax[2].set_ylabel('N1')\n",
    "    ax[1].set_ylabel('N2')\n",
    "    ax[0].set_ylabel('V')\n",
    "    fig.suptitle(star + '-'+ str(obs),y=0.92)\n",
    "\n",
    "    pdf.savefig(fig)\n",
    "\n",
    "##~30min"
   ]
  },
  {
   "attachments": {},
   "cell_type": "markdown",
   "metadata": {
    "id": "tOEpujP_id-R"
   },
   "source": [
    "#### **Mask**: tellClean CleanAsifTweak"
   ]
  },
  {
   "cell_type": "code",
   "execution_count": 41,
   "metadata": {
    "id": "oRk0ASOTiweV"
   },
   "outputs": [],
   "source": [
    "%%capture\n",
    "with PdfPages('{}03-LSD-calculations/hybrid_CleanAsifTweak_tellClean.pdf'.format(path)) as pdf:\n",
    "\n",
    "  for i, ObsInfo in Observations.iterrows():\n",
    "    star = ObsInfo[\"Name\"]\n",
    "    obs = ObsInfo[\"Unnamed: 2\"]\n",
    "    for j in range(0,len(StarData[\"Name\"])):\n",
    "      if StarData[\"Name\"][j] == star:\n",
    "        modelcode = StarData[\"ModelCode\"][j].upper()\n",
    "        if StarData['vsini-estimate'][j]=='very bad':\n",
    "          vsini = StarData[\"Adopted-vsini\"][j]\n",
    "        else:\n",
    "          vsini = StarData['vsini-estimate'][j]\n",
    "        velS = df[\"VelStart\"][j]\n",
    "        velE = df[\"VelEnd\"][j]\n",
    "        velP = df[\"VelPixel\"][j]\n",
    "\n",
    "    mask = '{}02-Mask-calculations/MaskCleaning/AsifMaskCleanTweak_tellClean/{}_clean_{}.mask_auto_twk'.format(path,star,obs)\n",
    "    file = '{}01-Synth-calculations/Synth-hybrid-spectra/{}_{}_noise.s'.format(path,star, obs)\n",
    "    outfile = '{}03-LSD-calculations/LSD/hybrid_CleanAsifTweak+tellClean/{}_{}.lsd'.format(path,star,obs)\n",
    "\n",
    "    lsd, mod = pol.run_lsdpy(obs = file, mask = mask, outName = outfile, \n",
    "            velStart = velS, velEnd = velE, velPixel = velP, \n",
    "            normDepth = 0.2, normLande = 1.2, normWave = 500.0)\n",
    "    \n",
    "    fig, ax = plt.subplots(4,1, figsize=(10,10))\n",
    "\n",
    "    ax[3].errorbar(lsd.vel, lsd.specI, yerr=lsd.specSigI, xerr=None, fmt='o', ms=3,ecolor='0.5',c='k')\n",
    "    ax[2].errorbar(lsd.vel, lsd.specN1, yerr=lsd.specSigN1, xerr=None, fmt='o', ms=3,ecolor='0.5',c='k')\n",
    "    ax[1].errorbar(lsd.vel, lsd.specN2, yerr=lsd.specSigN2, xerr=None, fmt='o', ms=3,ecolor='0.5',c='k')\n",
    "    ax[0].errorbar(lsd.vel, lsd.specV, yerr=lsd.specSigV, xerr=None, fmt='o', ms=3, ecolor='0.5',c='k')\n",
    "    plt.subplots_adjust(hspace=.0)\n",
    "    ax[3].set_xlabel('Velocity (km/s)')\n",
    "    ax[3].set_ylabel('I')\n",
    "    ax[2].set_ylabel('N1')\n",
    "    ax[1].set_ylabel('N2')\n",
    "    ax[0].set_ylabel('V')\n",
    "    fig.suptitle(star + '-'+ str(obs),y=0.92)\n",
    "\n",
    "    pdf.savefig(fig)\n",
    "\n",
    "##~30min"
   ]
  },
  {
   "attachments": {},
   "cell_type": "markdown",
   "metadata": {
    "id": "qyClzE3qEUGP"
   },
   "source": [
    "#### **Mask**: tellClean AsifClean"
   ]
  },
  {
   "cell_type": "code",
   "execution_count": 42,
   "metadata": {
    "id": "JMY27LVhEdJo"
   },
   "outputs": [],
   "source": [
    "%%capture\n",
    "with PdfPages('{}03-LSD-calculations/hybrid_CleanAsif_tellClean.pdf'.format(path)) as pdf:\n",
    "\n",
    "  for i, ObsInfo in Observations.iterrows():\n",
    "    star = ObsInfo[\"Name\"]\n",
    "    obs = ObsInfo[\"Unnamed: 2\"]\n",
    "    for j in range(0,len(StarData[\"Name\"])):\n",
    "      if StarData[\"Name\"][j] == star:\n",
    "        modelcode = StarData[\"ModelCode\"][j].upper()\n",
    "        if StarData['vsini-estimate'][j]=='very bad':\n",
    "          vsini = StarData[\"Adopted-vsini\"][j]\n",
    "        else:\n",
    "          vsini = StarData['vsini-estimate'][j]\n",
    "        velS = df[\"VelStart\"][j]\n",
    "        velE = df[\"VelEnd\"][j]\n",
    "        velP = df[\"VelPixel\"][j]\n",
    "\n",
    "    mask = '{}02-Mask-calculations/MaskCleaning/AsifMaskClean_tellClean/{}_clean_{}.mask'.format(path,star,obs)\n",
    "\n",
    "    file = '{}01-Synth-calculations/Synth-hybrid-spectra/{}_{}_noise.s'.format(path,star, obs)\n",
    "    outfile = '{}03-LSD-calculations/LSD/hybrid_CleanAsif+tellClean/{}_{}.lsd'.format(path,star,obs)\n",
    "    \n",
    "    lsd, mod = pol.run_lsdpy(obs = file, mask = mask, outName = outfile, \n",
    "            velStart = velS, velEnd = velE, velPixel = velP, \n",
    "            normDepth = 0.2, normLande = 1.2, normWave = 500.0)\n",
    "    \n",
    "    fig, ax = plt.subplots(4,1, figsize=(10,10))\n",
    "\n",
    "    ax[3].errorbar(lsd.vel, lsd.specI, yerr=lsd.specSigI, xerr=None, fmt='o', ms=3,ecolor='0.5',c='k')\n",
    "    ax[2].errorbar(lsd.vel, lsd.specN1, yerr=lsd.specSigN1, xerr=None, fmt='o', ms=3,ecolor='0.5',c='k')\n",
    "    ax[1].errorbar(lsd.vel, lsd.specN2, yerr=lsd.specSigN2, xerr=None, fmt='o', ms=3,ecolor='0.5',c='k')\n",
    "    ax[0].errorbar(lsd.vel, lsd.specV, yerr=lsd.specSigV, xerr=None, fmt='o', ms=3, ecolor='0.5',c='k')\n",
    "    plt.subplots_adjust(hspace=.0)\n",
    "    ax[3].set_xlabel('Velocity (km/s)')\n",
    "    ax[3].set_ylabel('I')\n",
    "    ax[2].set_ylabel('N1')\n",
    "    ax[1].set_ylabel('N2')\n",
    "    ax[0].set_ylabel('V')\n",
    "    fig.suptitle(star + '-'+ str(obs),y=0.92)\n",
    "\n",
    "    pdf.savefig(fig)\n",
    "\n",
    "##~30min"
   ]
  },
  {
   "cell_type": "markdown",
   "metadata": {},
   "source": [
    "#### **Mask**: tellClean SuperCleanAsifTweak"
   ]
  },
  {
   "cell_type": "code",
   "execution_count": 43,
   "metadata": {},
   "outputs": [],
   "source": [
    "%%capture\n",
    "with PdfPages('{}03-LSD-calculations/hybrid_SuperCleanAsifTweak_tellClean.pdf'.format(path)) as pdf:\n",
    "\n",
    "  for i, ObsInfo in Observations.iterrows():\n",
    "    star = ObsInfo[\"Name\"]\n",
    "    obs = ObsInfo[\"Unnamed: 2\"]\n",
    "    for j in range(0,len(StarData[\"Name\"])):\n",
    "      if StarData[\"Name\"][j] == star:\n",
    "        modelcode = StarData[\"ModelCode\"][j].upper()\n",
    "        if StarData['vsini-estimate'][j]=='very bad':\n",
    "          vsini = StarData[\"Adopted-vsini\"][j]\n",
    "        else:\n",
    "          vsini = StarData['vsini-estimate'][j]\n",
    "        velS = df[\"VelStart\"][j]\n",
    "        velE = df[\"VelEnd\"][j]\n",
    "        velP = df[\"VelPixel\"][j]\n",
    "\n",
    "    mask = '{}02-Mask-calculations/MaskCleaning/AsifMaskSuperCleanTweak_tellClean/{}_clean_{}.mask_auto_twk'.format(path,star,obs)\n",
    "\n",
    "    file = '{}01-Synth-calculations/Synth-hybrid-spectra/{}_{}_noise.s'.format(path,star, obs)\n",
    "    outfile = '{}03-LSD-calculations/LSD/hybrid_SuperCleanAsifTweak+tellClean/{}_{}.lsd'.format(path,star,obs)\n",
    "\n",
    "    lsd, mod = pol.run_lsdpy(obs = file, mask = mask, outName = outfile, \n",
    "            velStart = velS, velEnd = velE, velPixel = velP, \n",
    "            normDepth = 0.2, normLande = 1.2, normWave = 500.0)\n",
    "    \n",
    "    fig, ax = plt.subplots(4,1, figsize=(10,10))\n",
    "\n",
    "    ax[3].errorbar(lsd.vel, lsd.specI, yerr=lsd.specSigI, xerr=None, fmt='o', ms=3,ecolor='0.5',c='k')\n",
    "    ax[2].errorbar(lsd.vel, lsd.specN1, yerr=lsd.specSigN1, xerr=None, fmt='o', ms=3,ecolor='0.5',c='k')\n",
    "    ax[1].errorbar(lsd.vel, lsd.specN2, yerr=lsd.specSigN2, xerr=None, fmt='o', ms=3,ecolor='0.5',c='k')\n",
    "    ax[0].errorbar(lsd.vel, lsd.specV, yerr=lsd.specSigV, xerr=None, fmt='o', ms=3, ecolor='0.5',c='k')\n",
    "    plt.subplots_adjust(hspace=.0)\n",
    "    ax[3].set_xlabel('Velocity (km/s)')\n",
    "    ax[3].set_ylabel('I')\n",
    "    ax[2].set_ylabel('N1')\n",
    "    ax[1].set_ylabel('N2')\n",
    "    ax[0].set_ylabel('V')\n",
    "    fig.suptitle(star + '-'+ str(obs),y=0.92)\n",
    "\n",
    "    pdf.savefig(fig)\n",
    "\n",
    "##~30min"
   ]
  },
  {
   "cell_type": "markdown",
   "metadata": {},
   "source": [
    "#### **Mask**: tellClean AsifSuperClean"
   ]
  },
  {
   "cell_type": "code",
   "execution_count": 8,
   "metadata": {
    "metadata": {}
   },
   "outputs": [],
   "source": [
    "%%capture\n",
    "with PdfPages('{}03-LSD-calculations/hybrid_SuperCleanAsif_tellClean.pdf'.format(path)) as pdf:\n",
    "\n",
    "  for i, ObsInfo in Observations.iterrows():\n",
    "    star = ObsInfo[\"Name\"]\n",
    "    obs = ObsInfo[\"Unnamed: 2\"]\n",
    "    for j in range(0,len(StarData[\"Name\"])):\n",
    "      if StarData[\"Name\"][j] == star:\n",
    "        modelcode = StarData[\"ModelCode\"][j].upper()\n",
    "        if StarData['vsini-estimate'][j]=='very bad':\n",
    "          vsini = StarData[\"Adopted-vsini\"][j]\n",
    "        else:\n",
    "          vsini = StarData['vsini-estimate'][j]\n",
    "        velS = df[\"VelStart\"][j]\n",
    "        velE = df[\"VelEnd\"][j]\n",
    "        velP = df[\"VelPixel\"][j]\n",
    "\n",
    "    mask = '{}02-Mask-calculations/MaskCleaning/AsifMaskSuperClean_tellClean/{}_clean_{}.mask'.format(path,star,obs)\n",
    "\n",
    "    file = '{}01-Synth-calculations/Synth-hybrid-spectra/{}_{}_noise.s'.format(path,star, obs)\n",
    "    outfile = '{}03-LSD-calculations/LSD/hybrid_SuperCleanAsif+tellClean/{}_{}.lsd'.format(path,star,obs)\n",
    "\n",
    "    lsd, mod = pol.run_lsdpy(obs = file, mask = mask, outName = outfile, \n",
    "            velStart = velS, velEnd = velE, velPixel = velP, \n",
    "            normDepth = 0.2, normLande = 1.2, normWave = 500.0)\n",
    "    \n",
    "    fig, ax = plt.subplots(4,1, figsize=(10,10))\n",
    "\n",
    "    ax[3].errorbar(lsd.vel, lsd.specI, yerr=lsd.specSigI, xerr=None, fmt='o', ms=3,ecolor='0.5',c='k')\n",
    "    ax[2].errorbar(lsd.vel, lsd.specN1, yerr=lsd.specSigN1, xerr=None, fmt='o', ms=3,ecolor='0.5',c='k')\n",
    "    ax[1].errorbar(lsd.vel, lsd.specN2, yerr=lsd.specSigN2, xerr=None, fmt='o', ms=3,ecolor='0.5',c='k')\n",
    "    ax[0].errorbar(lsd.vel, lsd.specV, yerr=lsd.specSigV, xerr=None, fmt='o', ms=3, ecolor='0.5',c='k')\n",
    "    plt.subplots_adjust(hspace=.0)\n",
    "    ax[3].set_xlabel('Velocity (km/s)')\n",
    "    ax[3].set_ylabel('I')\n",
    "    ax[2].set_ylabel('N1')\n",
    "    ax[1].set_ylabel('N2')\n",
    "    ax[0].set_ylabel('V')\n",
    "    fig.suptitle(star + '-'+ str(obs),y=0.92)\n",
    "\n",
    "    pdf.savefig(fig)\n",
    "\n",
    "##~30min"
   ]
  },
  {
   "attachments": {},
   "cell_type": "markdown",
   "metadata": {
    "id": "CL1oG2AVJ77u"
   },
   "source": [
    "### 2.2 **Spectra**: Normalized-Spectra\n",
    "reran - Patrick\n"
   ]
  },
  {
   "cell_type": "code",
   "execution_count": 9,
   "metadata": {
    "id": "iMrrHWMgJ77v",
    "metadata": {}
   },
   "outputs": [],
   "source": [
    "df = pd.read_csv('{}03-LSD-calculations/LSD/Params-LSDProfiles-CalculatedByPython.csv'.format(path))\n"
   ]
  },
  {
   "attachments": {},
   "cell_type": "markdown",
   "metadata": {
    "id": "QIzx1jS0J77v"
   },
   "source": [
    "#### **Mask**: tellClean Mask depth 0.02:"
   ]
  },
  {
   "cell_type": "code",
   "execution_count": 46,
   "metadata": {
    "id": "207PZYKHJ77v"
   },
   "outputs": [],
   "source": [
    "%%capture\n",
    "\n",
    "with PdfPages('{}03-LSD-calculations/normalized_maskdepth0.02_tellClean.pdf'.format(path)) as pdf:\n",
    "\n",
    "  for i, ObsInfo in Observations.iterrows():\n",
    "    star = ObsInfo[\"Name\"]\n",
    "    obs = ObsInfo[\"Unnamed: 2\"]\n",
    "    for j in range(0,len(StarData[\"Name\"])):\n",
    "      if StarData[\"Name\"][j] == star:\n",
    "        modelcode = StarData[\"ModelCode\"][j].upper()\n",
    "        if StarData['vsini-estimate'][j]=='very bad':\n",
    "          vsini = StarData[\"Adopted-vsini\"][j]\n",
    "        else:\n",
    "          vsini = StarData['vsini-estimate'][j]\n",
    "        velS = df[\"VelStart\"][j]\n",
    "        velE = df[\"VelEnd\"][j]\n",
    "        velP = df[\"VelPixel\"][j]\n",
    "\n",
    "    mask = '{}02-Mask-calculations/MaskCleaning/depth0.02_tellClean/{}_{}_depth0.02.mask'.format(path,modelcode,star)\n",
    "\n",
    "    file = '{}00-InputMaterial/NormalizedSpectra/{}_{}.s'.format(path,star, obs)\n",
    "    outfile = '{}03-LSD-calculations/LSD/normalized_maskdepth0.02_tellClean/{}_{}.lsd'.format(path,star,obs)\n",
    "\n",
    "    lsd, mod = pol.run_lsdpy(obs = file, mask = mask, outName = outfile, \n",
    "            velStart = velS, velEnd = velE, velPixel = velP, \n",
    "            normDepth = 0.2, normLande = 1.2, normWave = 500.0)\n",
    "    \n",
    "    fig, ax = plt.subplots(4,1, figsize=(10,10))\n",
    "\n",
    "    ax[3].errorbar(lsd.vel, lsd.specI, yerr=lsd.specSigI, xerr=None, fmt='o', ms=3,ecolor='0.5',c='k')\n",
    "    ax[2].errorbar(lsd.vel, lsd.specN1, yerr=lsd.specSigN1, xerr=None, fmt='o', ms=3,ecolor='0.5',c='k')\n",
    "    ax[1].errorbar(lsd.vel, lsd.specN2, yerr=lsd.specSigN2, xerr=None, fmt='o', ms=3,ecolor='0.5',c='k')\n",
    "    ax[0].errorbar(lsd.vel, lsd.specV, yerr=lsd.specSigV, xerr=None, fmt='o', ms=3, ecolor='0.5',c='k')\n",
    "    plt.subplots_adjust(hspace=.0)\n",
    "    ax[3].set_xlabel('Velocity (km/s)')\n",
    "    ax[3].set_ylabel('I')\n",
    "    ax[2].set_ylabel('N1')\n",
    "    ax[1].set_ylabel('N2')\n",
    "    ax[0].set_ylabel('V')\n",
    "    fig.suptitle(star + '-'+ str(obs),y=0.92)\n",
    "\n",
    "    pdf.savefig(fig)\n",
    "\n",
    "##~30min"
   ]
  },
  {
   "attachments": {},
   "cell_type": "markdown",
   "metadata": {
    "id": "cD1bDws8J77v"
   },
   "source": [
    "#### **Mask**: tellClean Mask depth 0.1: OLD"
   ]
  },
  {
   "cell_type": "code",
   "execution_count": null,
   "metadata": {
    "id": "9IYDGqReJ77v"
   },
   "outputs": [],
   "source": [
    "%%capture\n",
    "\n",
    "with PdfPages('{}03-LSD-calculations/normalized_maskdepth0.1_tellClean.pdf'.format(path)) as pdf:\n",
    "\n",
    "  for i, ObsInfo in Observations.iterrows():\n",
    "    star = ObsInfo[\"Name\"]\n",
    "    obs = ObsInfo[\"Unnamed: 2\"]\n",
    "    for j in range(0,len(StarData[\"Name\"])):\n",
    "      if StarData[\"Name\"][j] == star:\n",
    "        modelcode = StarData[\"ModelCode\"][j].upper()\n",
    "        if StarData['vsini-estimate'][j]=='very bad':\n",
    "          vsini = StarData[\"Adopted-vsini\"][j]\n",
    "        else:\n",
    "          vsini = StarData['vsini-estimate'][j]\n",
    "        velS = df[\"VelStart\"][j]\n",
    "        velE = df[\"VelEnd\"][j]\n",
    "        velP = df[\"VelPixel\"][j]\n",
    "\n",
    "    for j in range(0,len(blend)):\n",
    "      if blend[j]==star:\n",
    "        mask = '{}02-Mask-calculations/MaskCleaning/{}_depth0.1.mask'.format(path,star)\n",
    "        break\n",
    "      if blend[j]!=star:\n",
    "        mask = '{}02-Mask-calculations/MaskCleaning/depth0.1_tellClean/{}_depth0.1.mask'.format(path,modelcode)\n",
    "\n",
    "    file = '{}00-InputMaterial/NormalizedSpectra/{}_{}.s'.format(path,star, obs)\n",
    "    outfile = '{}03-LSD-calculations/LSD/normalized_maskdepth0.1_tellClean/{}_{}.lsd'.format(path,star,obs)\n",
    "\n",
    "    toto = lsdpy.main(observation=file, mask=mask, outName=outfile, \n",
    "            velStart=velS, velEnd=velE, velPixel=velP, \n",
    "            normDepth=0.2, normLande=1.2, normWave=500.0,\n",
    "            removeContPol=1, trimMask=0, sigmaClipIter=0, sigmaClip=500, \n",
    "            interpMode=1, fSaveModelS=0, outModelName='',\n",
    "            fLSDPlotImg=0, fSavePlotImg=0, outPlotImgName='')\n",
    "    lsd = pol.read_lsd(outfile)\n",
    "    \n",
    "    fig, ax = plt.subplots(4,1, figsize=(10,10))\n",
    "\n",
    "    ax[3].errorbar(lsd.vel, lsd.specI, yerr=lsd.specSigI, xerr=None, fmt='o', ms=3,ecolor='0.5',c='k')\n",
    "    ax[2].errorbar(lsd.vel, lsd.specN1, yerr=lsd.specSigN1, xerr=None, fmt='o', ms=3,ecolor='0.5',c='k')\n",
    "    ax[1].errorbar(lsd.vel, lsd.specN2, yerr=lsd.specSigN2, xerr=None, fmt='o', ms=3,ecolor='0.5',c='k')\n",
    "    ax[0].errorbar(lsd.vel, lsd.specV, yerr=lsd.specSigV, xerr=None, fmt='o', ms=3, ecolor='0.5',c='k')\n",
    "    plt.subplots_adjust(hspace=.0)\n",
    "    ax[3].set_xlabel('Velocity (km/s)')\n",
    "    ax[3].set_ylabel('I')\n",
    "    ax[2].set_ylabel('N1')\n",
    "    ax[1].set_ylabel('N2')\n",
    "    ax[0].set_ylabel('V')\n",
    "    fig.suptitle(star + '-'+ str(obs),y=0.92)\n",
    "\n",
    "    pdf.savefig(fig)\n",
    "\n",
    "##~30min"
   ]
  },
  {
   "attachments": {},
   "cell_type": "markdown",
   "metadata": {
    "id": "66mxviwTJ77w"
   },
   "source": [
    "#### **Mask**: tellClean CleanAsifTweak"
   ]
  },
  {
   "cell_type": "code",
   "execution_count": 47,
   "metadata": {
    "id": "CKJLb8bfJ77w"
   },
   "outputs": [],
   "source": [
    "%%capture\n",
    "with PdfPages('{}03-LSD-calculations/normalized_CleanAsifTweak_tellClean.pdf'.format(path)) as pdf:\n",
    "\n",
    "  for i, ObsInfo in Observations.iterrows():\n",
    "    star = ObsInfo[\"Name\"]\n",
    "    obs = ObsInfo[\"Unnamed: 2\"]\n",
    "    for j in range(0,len(StarData[\"Name\"])):\n",
    "      if StarData[\"Name\"][j] == star:\n",
    "        modelcode = StarData[\"ModelCode\"][j].upper()\n",
    "        if StarData['vsini-estimate'][j]=='very bad':\n",
    "          vsini = StarData[\"Adopted-vsini\"][j]\n",
    "        else:\n",
    "          vsini = StarData['vsini-estimate'][j]\n",
    "        velS = df[\"VelStart\"][j]\n",
    "        velE = df[\"VelEnd\"][j]\n",
    "        velP = df[\"VelPixel\"][j]\n",
    "\n",
    "    mask = '{}02-Mask-calculations/MaskCleaning/AsifMaskCleanTweak_tellClean/{}_clean_{}.mask_auto_twk'.format(path,star,obs)\n",
    "\n",
    "    file = '{}00-InputMaterial/NormalizedSpectra/{}_{}.s'.format(path,star, obs)\n",
    "    outfile = '{}03-LSD-calculations/LSD/normalized_CleanAsifTweak+tellClean/{}_{}.lsd'.format(path,star,obs)\n",
    "    \n",
    "    lsd, mod = pol.run_lsdpy(obs = file, mask = mask, outName = outfile, \n",
    "            velStart = velS, velEnd = velE, velPixel = velP, \n",
    "            normDepth = 0.2, normLande = 1.2, normWave = 500.0)\n",
    "    \n",
    "    fig, ax = plt.subplots(4,1, figsize=(10,10))\n",
    "\n",
    "    ax[3].errorbar(lsd.vel, lsd.specI, yerr=lsd.specSigI, xerr=None, fmt='o', ms=3,ecolor='0.5',c='k')\n",
    "    ax[2].errorbar(lsd.vel, lsd.specN1, yerr=lsd.specSigN1, xerr=None, fmt='o', ms=3,ecolor='0.5',c='k')\n",
    "    ax[1].errorbar(lsd.vel, lsd.specN2, yerr=lsd.specSigN2, xerr=None, fmt='o', ms=3,ecolor='0.5',c='k')\n",
    "    ax[0].errorbar(lsd.vel, lsd.specV, yerr=lsd.specSigV, xerr=None, fmt='o', ms=3, ecolor='0.5',c='k')\n",
    "    plt.subplots_adjust(hspace=.0)\n",
    "    ax[3].set_xlabel('Velocity (km/s)')\n",
    "    ax[3].set_ylabel('I')\n",
    "    ax[2].set_ylabel('N1')\n",
    "    ax[1].set_ylabel('N2')\n",
    "    ax[0].set_ylabel('V')\n",
    "    fig.suptitle(star + '-'+ str(obs),y=0.92)\n",
    "\n",
    "    pdf.savefig(fig)\n",
    "\n",
    "##~30min"
   ]
  },
  {
   "attachments": {},
   "cell_type": "markdown",
   "metadata": {
    "id": "A9Gdzs7gJ77w"
   },
   "source": [
    "#### **Mask**: tellClean AsifClean"
   ]
  },
  {
   "cell_type": "code",
   "execution_count": 48,
   "metadata": {
    "id": "6ouxyrp9J77w"
   },
   "outputs": [],
   "source": [
    "%%capture\n",
    "with PdfPages('{}03-LSD-calculations/normalized_CleanAsif_tellClean.pdf'.format(path)) as pdf:\n",
    "\n",
    "  for i, ObsInfo in Observations.iterrows():\n",
    "    star = ObsInfo[\"Name\"]\n",
    "    obs = ObsInfo[\"Unnamed: 2\"]\n",
    "    for j in range(0,len(StarData[\"Name\"])):\n",
    "      if StarData[\"Name\"][j] == star:\n",
    "        modelcode = StarData[\"ModelCode\"][j].upper()\n",
    "        if StarData['vsini-estimate'][j]=='very bad':\n",
    "          vsini = StarData[\"Adopted-vsini\"][j]\n",
    "        else:\n",
    "          vsini = StarData['vsini-estimate'][j]\n",
    "        velS = df[\"VelStart\"][j]\n",
    "        velE = df[\"VelEnd\"][j]\n",
    "        velP = df[\"VelPixel\"][j]\n",
    "\n",
    "    mask = '{}02-Mask-calculations/MaskCleaning/AsifMaskClean_tellClean/{}_clean_{}.mask'.format(path,star,obs)\n",
    "\n",
    "    file = '{}00-InputMaterial/NormalizedSpectra/{}_{}.s'.format(path,star, obs)\n",
    "    outfile = '{}03-LSD-calculations/LSD/normalized_CleanAsif+tellClean/{}_{}.lsd'.format(path,star,obs)\n",
    "\n",
    "    lsd, mod = pol.run_lsdpy(obs = file, mask = mask, outName = outfile, \n",
    "            velStart = velS, velEnd = velE, velPixel = velP, \n",
    "            normDepth = 0.2, normLande = 1.2, normWave = 500.0)\n",
    "    \n",
    "    fig, ax = plt.subplots(4,1, figsize=(10,10))\n",
    "\n",
    "    ax[3].errorbar(lsd.vel, lsd.specI, yerr=lsd.specSigI, xerr=None, fmt='o', ms=3,ecolor='0.5',c='k')\n",
    "    ax[2].errorbar(lsd.vel, lsd.specN1, yerr=lsd.specSigN1, xerr=None, fmt='o', ms=3,ecolor='0.5',c='k')\n",
    "    ax[1].errorbar(lsd.vel, lsd.specN2, yerr=lsd.specSigN2, xerr=None, fmt='o', ms=3,ecolor='0.5',c='k')\n",
    "    ax[0].errorbar(lsd.vel, lsd.specV, yerr=lsd.specSigV, xerr=None, fmt='o', ms=3, ecolor='0.5',c='k')\n",
    "    plt.subplots_adjust(hspace=.0)\n",
    "    ax[3].set_xlabel('Velocity (km/s)')\n",
    "    ax[3].set_ylabel('I')\n",
    "    ax[2].set_ylabel('N1')\n",
    "    ax[1].set_ylabel('N2')\n",
    "    ax[0].set_ylabel('V')\n",
    "    fig.suptitle(star + '-'+ str(obs),y=0.92)\n",
    "\n",
    "    pdf.savefig(fig)\n",
    "\n",
    "##~30min"
   ]
  },
  {
   "cell_type": "markdown",
   "metadata": {},
   "source": [
    "#### **Mask**: tellClean AsifSuperClean"
   ]
  },
  {
   "cell_type": "code",
   "execution_count": 10,
   "metadata": {
    "metadata": {}
   },
   "outputs": [],
   "source": [
    "%%capture\n",
    "with PdfPages('{}03-LSD-calculations/normalized_SuperCleanAsif_tellClean.pdf'.format(path)) as pdf:\n",
    "\n",
    "  for i, ObsInfo in Observations.iterrows():\n",
    "    star = ObsInfo[\"Name\"]\n",
    "    obs = ObsInfo[\"Unnamed: 2\"]\n",
    "    for j in range(0,len(StarData[\"Name\"])):\n",
    "      if StarData[\"Name\"][j] == star:\n",
    "        modelcode = StarData[\"ModelCode\"][j].upper()\n",
    "        if StarData['vsini-estimate'][j]=='very bad':\n",
    "          vsini = StarData[\"Adopted-vsini\"][j]\n",
    "        else:\n",
    "          vsini = StarData['vsini-estimate'][j]\n",
    "        velS = df[\"VelStart\"][j]\n",
    "        velE = df[\"VelEnd\"][j]\n",
    "        velP = df[\"VelPixel\"][j]\n",
    "\n",
    "    mask = '{}02-Mask-calculations/MaskCleaning/AsifMaskSuperClean_tellClean/{}_clean_{}.mask'.format(path,star,obs)\n",
    "\n",
    "    file = '{}00-InputMaterial/NormalizedSpectra/{}_{}.s'.format(path,star, obs)\n",
    "    outfile = '{}03-LSD-calculations/LSD/normalized_SuperCleanAsif+tellClean/{}_{}.lsd'.format(path,star,obs)\n",
    "\n",
    "    lsd, mod = pol.run_lsdpy(obs = file, mask = mask, outName = outfile, \n",
    "            velStart = velS, velEnd = velE, velPixel = velP, \n",
    "            normDepth = 0.2, normLande = 1.2, normWave = 500.0)\n",
    "    \n",
    "    fig, ax = plt.subplots(4,1, figsize=(10,10))\n",
    "\n",
    "    ax[3].errorbar(lsd.vel, lsd.specI, yerr=lsd.specSigI, xerr=None, fmt='o', ms=3,ecolor='0.5',c='k')\n",
    "    ax[2].errorbar(lsd.vel, lsd.specN1, yerr=lsd.specSigN1, xerr=None, fmt='o', ms=3,ecolor='0.5',c='k')\n",
    "    ax[1].errorbar(lsd.vel, lsd.specN2, yerr=lsd.specSigN2, xerr=None, fmt='o', ms=3,ecolor='0.5',c='k')\n",
    "    ax[0].errorbar(lsd.vel, lsd.specV, yerr=lsd.specSigV, xerr=None, fmt='o', ms=3, ecolor='0.5',c='k')\n",
    "    plt.subplots_adjust(hspace=.0)\n",
    "    ax[3].set_xlabel('Velocity (km/s)')\n",
    "    ax[3].set_ylabel('I')\n",
    "    ax[2].set_ylabel('N1')\n",
    "    ax[1].set_ylabel('N2')\n",
    "    ax[0].set_ylabel('V')\n",
    "    fig.suptitle(star + '-'+ str(obs),y=0.92)\n",
    "\n",
    "    pdf.savefig(fig)\n",
    "##~30min"
   ]
  },
  {
   "cell_type": "markdown",
   "metadata": {},
   "source": [
    "#### **Mask**: tellClean AsifSuperCleanTweak"
   ]
  },
  {
   "cell_type": "code",
   "execution_count": 50,
   "metadata": {},
   "outputs": [],
   "source": [
    "%%capture\n",
    "with PdfPages('{}03-LSD-calculations/normalized_SuperCleanAsifTweak_tellClean.pdf'.format(path)) as pdf:\n",
    "\n",
    "  for i, ObsInfo in Observations.iterrows():\n",
    "    star = ObsInfo[\"Name\"]\n",
    "    obs = ObsInfo[\"Unnamed: 2\"]\n",
    "    for j in range(0,len(StarData[\"Name\"])):\n",
    "      if StarData[\"Name\"][j] == star:\n",
    "        modelcode = StarData[\"ModelCode\"][j].upper()\n",
    "        if StarData['vsini-estimate'][j]=='very bad':\n",
    "          vsini = StarData[\"Adopted-vsini\"][j]\n",
    "        else:\n",
    "          vsini = StarData['vsini-estimate'][j]\n",
    "        velS = df[\"VelStart\"][j]\n",
    "        velE = df[\"VelEnd\"][j]\n",
    "        velP = df[\"VelPixel\"][j]\n",
    "\n",
    "    mask = '{}02-Mask-calculations/MaskCleaning/AsifMaskSuperCleanTweak_tellClean/{}_clean_{}.mask_auto_twk'.format(path,star,obs)\n",
    "\n",
    "    file = '{}00-InputMaterial/NormalizedSpectra/{}_{}.s'.format(path,star, obs)\n",
    "    outfile = '{}03-LSD-calculations/LSD/normalized_SuperCleanAsifTweak+tellClean/{}_{}.lsd'.format(path,star,obs)\n",
    "\n",
    "    lsd, mod = pol.run_lsdpy(obs = file, mask = mask, outName = outfile, \n",
    "            velStart = velS, velEnd = velE, velPixel = velP, \n",
    "            normDepth = 0.2, normLande = 1.2, normWave = 500.0)\n",
    "    \n",
    "    fig, ax = plt.subplots(4,1, figsize=(10,10))\n",
    "\n",
    "    ax[3].errorbar(lsd.vel, lsd.specI, yerr=lsd.specSigI, xerr=None, fmt='o', ms=3,ecolor='0.5',c='k')\n",
    "    ax[2].errorbar(lsd.vel, lsd.specN1, yerr=lsd.specSigN1, xerr=None, fmt='o', ms=3,ecolor='0.5',c='k')\n",
    "    ax[1].errorbar(lsd.vel, lsd.specN2, yerr=lsd.specSigN2, xerr=None, fmt='o', ms=3,ecolor='0.5',c='k')\n",
    "    ax[0].errorbar(lsd.vel, lsd.specV, yerr=lsd.specSigV, xerr=None, fmt='o', ms=3, ecolor='0.5',c='k')\n",
    "    plt.subplots_adjust(hspace=.0)\n",
    "    ax[3].set_xlabel('Velocity (km/s)')\n",
    "    ax[3].set_ylabel('I')\n",
    "    ax[2].set_ylabel('N1')\n",
    "    ax[1].set_ylabel('N2')\n",
    "    ax[0].set_ylabel('V')\n",
    "    fig.suptitle(star + '-'+ str(obs),y=0.92)\n",
    "\n",
    "    pdf.savefig(fig)\n",
    "\n",
    "##~30min"
   ]
  },
  {
   "cell_type": "code",
   "execution_count": null,
   "metadata": {},
   "outputs": [],
   "source": []
  },
  {
   "cell_type": "markdown",
   "metadata": {},
   "source": [
    "### Emission Corrections"
   ]
  },
  {
   "cell_type": "code",
   "execution_count": 7,
   "metadata": {},
   "outputs": [],
   "source": [
    "df = pd.read_csv('{}03-LSD-calculations/LSD/Params-LSDProfiles-CalculatedByPython.csv'.format(path))\n",
    "\n",
    "correctedEmission=['hd58050','hd72067','hd120324','hd198183','hd203467']"
   ]
  },
  {
   "cell_type": "code",
   "execution_count": 8,
   "metadata": {},
   "outputs": [],
   "source": [
    "%%capture\n",
    "with PdfPages('{}03-LSD-calculations/normalized_SuperCleanAsif_tellClean_2.pdf'.format(path)) as pdf:\n",
    "  for k in range(len(correctedEmission)):\n",
    "    for i, ObsInfo in Observations.iterrows():\n",
    "      star = ObsInfo[\"Name\"]\n",
    "      if star==correctedEmission[k]:\n",
    "        obs = ObsInfo[\"Unnamed: 2\"]\n",
    "        for j in range(0,len(StarData[\"Name\"])):\n",
    "          if StarData[\"Name\"][j] == star:\n",
    "            modelcode = StarData[\"ModelCode\"][j].upper()\n",
    "            if StarData['vsini-estimate'][j]=='very bad':\n",
    "              vsini = StarData[\"Adopted-vsini\"][j]\n",
    "            else:\n",
    "              vsini = StarData['vsini-estimate'][j]\n",
    "            velS = df[\"VelStart\"][j]\n",
    "            velE = df[\"VelEnd\"][j]\n",
    "            velP = df[\"VelPixel\"][j]\n",
    "\n",
    "        mask = '{}02-Mask-calculations/MaskCleaning/AsifMaskSuperClean_tellClean/{}_clean_{}.mask'.format(path,star,obs)\n",
    "\n",
    "        file = '{}00-InputMaterial/NormalizedSpectra/{}_{}.s'.format(path,star, obs)\n",
    "        outfile = '{}03-LSD-calculations/LSD/normalized_SuperCleanAsif+tellClean/{}_{}.lsd'.format(path,star,obs)\n",
    "\n",
    "        lsd, mod = pol.run_lsdpy(obs = file, mask = mask, outLSDName = outfile, \n",
    "                velStart = velS, velEnd = velE, velPixel = velP, \n",
    "                normDepth = 0.2, normLande = 1.2, normWave = 500.0)\n",
    "        \n",
    "        fig, ax = plt.subplots(4,1, figsize=(10,10))\n",
    "\n",
    "        ax[3].errorbar(lsd.vel, lsd.specI, yerr=lsd.specSigI, xerr=None, fmt='o', ms=3,ecolor='0.5',c='k')\n",
    "        ax[2].errorbar(lsd.vel, lsd.specN1, yerr=lsd.specSigN1, xerr=None, fmt='o', ms=3,ecolor='0.5',c='k')\n",
    "        ax[1].errorbar(lsd.vel, lsd.specN2, yerr=lsd.specSigN2, xerr=None, fmt='o', ms=3,ecolor='0.5',c='k')\n",
    "        ax[0].errorbar(lsd.vel, lsd.specV, yerr=lsd.specSigV, xerr=None, fmt='o', ms=3, ecolor='0.5',c='k')\n",
    "        plt.subplots_adjust(hspace=.0)\n",
    "        ax[3].set_xlabel('Velocity (km/s)')\n",
    "        ax[3].set_ylabel('I')\n",
    "        ax[2].set_ylabel('N1')\n",
    "        ax[1].set_ylabel('N2')\n",
    "        ax[0].set_ylabel('V')\n",
    "        fig.suptitle(star + '-'+ str(obs),y=0.92)\n",
    "\n",
    "        pdf.savefig(fig)\n",
    "    ##~30min"
   ]
  },
  {
   "cell_type": "code",
   "execution_count": 10,
   "metadata": {},
   "outputs": [],
   "source": [
    "%%capture\n",
    "with PdfPages('{}03-LSD-calculations/hybrid_SuperCleanAsif_tellClean2.pdf'.format(path)) as pdf:\n",
    "  for k in range(len(correctedEmission)):\n",
    "    for i, ObsInfo in Observations.iterrows():\n",
    "      star = ObsInfo[\"Name\"]\n",
    "      if star==correctedEmission[k]:\n",
    "        obs = ObsInfo[\"Unnamed: 2\"]\n",
    "        for j in range(0,len(StarData[\"Name\"])):\n",
    "          if StarData[\"Name\"][j] == star:\n",
    "            modelcode = StarData[\"ModelCode\"][j].upper()\n",
    "            if StarData['vsini-estimate'][j]=='very bad':\n",
    "              vsini = StarData[\"Adopted-vsini\"][j]\n",
    "            else:\n",
    "              vsini = StarData['vsini-estimate'][j]\n",
    "            velS = df[\"VelStart\"][j]\n",
    "            velE = df[\"VelEnd\"][j]\n",
    "            velP = df[\"VelPixel\"][j]\n",
    "\n",
    "        mask = '{}02-Mask-calculations/MaskCleaning/AsifMaskSuperClean_tellClean/{}_clean_{}.mask'.format(path,star,obs)\n",
    "\n",
    "        file = '{}01-Synth-calculations/Synth-hybrid-spectra/{}_{}_noise.s'.format(path,star, obs)\n",
    "        outfile = '{}03-LSD-calculations/LSD/hybrid_SuperCleanAsif+tellClean/{}_{}.lsd'.format(path,star,obs)\n",
    "\n",
    "        lsd, mod = pol.run_lsdpy(obs = file, mask = mask, outLSDName = outfile, \n",
    "                velStart = velS, velEnd = velE, velPixel = velP, \n",
    "                normDepth = 0.2, normLande = 1.2, normWave = 500.0)\n",
    "        \n",
    "        fig, ax = plt.subplots(4,1, figsize=(10,10))\n",
    "\n",
    "        ax[3].errorbar(lsd.vel, lsd.specI, yerr=lsd.specSigI, xerr=None, fmt='o', ms=3,ecolor='0.5',c='k')\n",
    "        ax[2].errorbar(lsd.vel, lsd.specN1, yerr=lsd.specSigN1, xerr=None, fmt='o', ms=3,ecolor='0.5',c='k')\n",
    "        ax[1].errorbar(lsd.vel, lsd.specN2, yerr=lsd.specSigN2, xerr=None, fmt='o', ms=3,ecolor='0.5',c='k')\n",
    "        ax[0].errorbar(lsd.vel, lsd.specV, yerr=lsd.specSigV, xerr=None, fmt='o', ms=3, ecolor='0.5',c='k')\n",
    "        plt.subplots_adjust(hspace=.0)\n",
    "        ax[3].set_xlabel('Velocity (km/s)')\n",
    "        ax[3].set_ylabel('I')\n",
    "        ax[2].set_ylabel('N1')\n",
    "        ax[1].set_ylabel('N2')\n",
    "        ax[0].set_ylabel('V')\n",
    "        fig.suptitle(star + '-'+ str(obs),y=0.92)\n",
    "\n",
    "        pdf.savefig(fig)\n",
    "\n",
    "    ##~30min"
   ]
  },
  {
   "cell_type": "code",
   "execution_count": null,
   "metadata": {},
   "outputs": [],
   "source": []
  }
 ],
 "metadata": {
  "colab": {
   "collapsed_sections": [
    "gb6qqojjLVAf",
    "fOTxMUoFb0cY",
    "sA-4NS_cPriF",
    "AwhTBf2cs5B5",
    "BfitRF29s9QP",
    "tOEpujP_id-R",
    "qyClzE3qEUGP",
    "QIzx1jS0J77v",
    "A9Gdzs7gJ77w",
    "MFKFEfx2DrmZ",
    "SJcUsfxqZcJ-",
    "62UIDhT8GYwU",
    "DDlhcHl5GpTB",
    "4kDbxQFO9HmD",
    "kacHWpF39SKw",
    "hG14l70cf5td",
    "UCcPpqJOh6Mx",
    "8DaTpeDuh_qT",
    "FrYKyNzBKz5G",
    "tkRIZHFILAeQ",
    "iqm47XGeD6BR",
    "apv_oy3fG77F",
    "XUSPvFnEJtGe"
   ],
   "provenance": []
  },
  "kernelspec": {
   "display_name": "Python 3 (ipykernel)",
   "language": "python",
   "name": "python3"
  },
  "language_info": {
   "codemirror_mode": {
    "name": "ipython",
    "version": 3
   },
   "file_extension": ".py",
   "mimetype": "text/x-python",
   "name": "python",
   "nbconvert_exporter": "python",
   "pygments_lexer": "ipython3",
   "version": "3.11.3"
  }
 },
 "nbformat": 4,
 "nbformat_minor": 1
}
