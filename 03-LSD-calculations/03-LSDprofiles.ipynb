{
 "cells": [
  {
   "cell_type": "markdown",
   "metadata": {
    "id": "rDDLQJ7HKt4S"
   },
   "source": [
    "# Calculating the LSD profiles "
   ]
  },
  {
   "cell_type": "markdown",
   "metadata": {
    "id": "gb6qqojjLVAf"
   },
   "source": [
    "## 0 Packages and data"
   ]
  },
  {
   "cell_type": "code",
   "execution_count": null,
   "metadata": {
    "colab": {
     "base_uri": "https://localhost:8080/"
    },
    "executionInfo": {
     "elapsed": 217,
     "status": "ok",
     "timestamp": 1675259911517,
     "user": {
      "displayName": "Patrick Stanley",
      "userId": "13506334151389315964"
     },
     "user_tz": 300
    },
    "id": "lN4OwRi4y-M3",
    "outputId": "88dfe92a-712c-4895-fad1-f326954f0a2a"
   },
   "outputs": [],
   "source": [
    "cd .."
   ]
  },
  {
   "cell_type": "code",
   "execution_count": null,
   "metadata": {
    "colab": {
     "base_uri": "https://localhost:8080/"
    },
    "executionInfo": {
     "elapsed": 2831,
     "status": "ok",
     "timestamp": 1675259914342,
     "user": {
      "displayName": "Patrick Stanley",
      "userId": "13506334151389315964"
     },
     "user_tz": 300
    },
    "id": "2jqc0WoGLatH",
    "outputId": "3a71e5af-efcb-4745-edde-0c72eb640cdb"
   },
   "outputs": [],
   "source": [
    "!git clone https://github.com/folsomcp/specpolFlow"
   ]
  },
  {
   "cell_type": "code",
   "execution_count": null,
   "metadata": {
    "colab": {
     "base_uri": "https://localhost:8080/"
    },
    "executionInfo": {
     "elapsed": 4675,
     "status": "ok",
     "timestamp": 1675259919008,
     "user": {
      "displayName": "Patrick Stanley",
      "userId": "13506334151389315964"
     },
     "user_tz": 300
    },
    "id": "xAtXCj6UbXkA",
    "outputId": "94affba7-4fc4-485f-898e-6484bd661669"
   },
   "outputs": [],
   "source": [
    "!git clone https://github.com/folsomcp/LSDpy"
   ]
  },
  {
   "cell_type": "code",
   "execution_count": null,
   "metadata": {},
   "outputs": [],
   "source": [
    "ls"
   ]
  },
  {
   "cell_type": "code",
   "execution_count": null,
   "metadata": {},
   "outputs": [],
   "source": [
    "cd LSDpy"
   ]
  },
  {
   "cell_type": "code",
   "execution_count": null,
   "metadata": {},
   "outputs": [],
   "source": [
    "\n",
    "import lsdpy\n"
   ]
  },
  {
   "cell_type": "code",
   "execution_count": null,
   "metadata": {},
   "outputs": [],
   "source": [
    "cd .."
   ]
  },
  {
   "cell_type": "code",
   "execution_count": null,
   "metadata": {
    "colab": {
     "base_uri": "https://localhost:8080/"
    },
    "executionInfo": {
     "elapsed": 2436,
     "status": "ok",
     "timestamp": 1675259922588,
     "user": {
      "displayName": "Patrick Stanley",
      "userId": "13506334151389315964"
     },
     "user_tz": 300
    },
    "id": "Ob-aghRQLiwJ",
    "outputId": "7d5920eb-44b4-480f-8f2d-015da6a42307"
   },
   "outputs": [],
   "source": [
    "import specpolFlow as pol\n",
    "import numpy as np\n",
    "import matplotlib.pyplot as plt\n",
    "import astropy.units as u\n",
    "import astropy.constants as const"
   ]
  },
  {
   "cell_type": "code",
   "execution_count": null,
   "metadata": {
    "id": "q27lsHB5a2RO"
   },
   "outputs": [],
   "source": [
    "from matplotlib.backends.backend_pdf import PdfPages\n",
    "\n",
    "import pandas as pd\n",
    "import itertools\n",
    "\n",
    "### This gets rid of the warnings in the cells where it is creating more than 20 figures (i.e. 1.2)\n",
    "#### Not needed for this notebook but could be useful in the future\n",
    "#import warnings\n",
    "#warnings.filterwarnings(\"default\", message=\"More than 20 figures have been opened.\")"
   ]
  },
  {
   "cell_type": "code",
   "execution_count": null,
   "metadata": {
    "id": "JzN4RVJna92W"
   },
   "outputs": [],
   "source": [
    "import pandas as pd\n",
    "sheet_id = '1M6y1Wnsrc-w5FjUMfKaSFa_-foIDAaMe8W4lYNWnWyk'\n",
    "sheet_name = 'Stars'\n",
    "url = f'https://docs.google.com/spreadsheets/d/{sheet_id}/gviz/tq?tqx=out:csv&sheet={sheet_name}'\n",
    "StarData=pd.read_csv(url)\n",
    "\n",
    "sheet_name = 'Observations'\n",
    "url = f'https://docs.google.com/spreadsheets/d/{sheet_id}/gviz/tq?tqx=out:csv&sheet={sheet_name}'\n",
    "Observations=pd.read_csv(url)"
   ]
  },
  {
   "cell_type": "markdown",
   "metadata": {
    "id": "fOTxMUoFb0cY"
   },
   "source": [
    "## 0.1 Demo with a single observation\n"
   ]
  },
  {
   "cell_type": "code",
   "execution_count": null,
   "metadata": {
    "id": "jZNhassLaXZ7"
   },
   "outputs": [],
   "source": [
    "#star = 'hd6226'\n",
    "#obs = '1'\n",
    "#modelcode = 'T15000G40'\n",
    "## careful, check whether it is g or G in the spreadsheet....\n",
    "#vsini = 120.0\n",
    "#vradCorrected = -70.0 *u.km/u.s\n",
    "\n",
    "#folderMask='depth0.1_tellClean'\n",
    "\n",
    "#obsFolder='Synth-hybrid-spectra'\n",
    "#obsnamecode = '_noise'\n",
    "\n",
    "#lsdfolder = 'hybrid__maskdepth0.1_tellClean'\n",
    "\n",
    "#mask = 'Masks/{}/{}_depth0.1.mask'.format(folderMask,modelcode)\n",
    "\n",
    "#file = '{}/{}_{}{}.s'.format(obsFolder, star, obs, obsnamecode)\n",
    "#outfile = 'LSD/{}/{}_{}.lsd'.format(lsdfolder, star,obs)\n",
    "\n",
    "\n",
    "#toto = lsdpy.main(observation=file, mask=mask, outName=outfile, \n",
    "#           velStart=-400.0, velEnd=400.0, velPixel=2.6, \n",
    "#           normDepth=0.2, normLande=1.2, normWave=500.0,\n",
    "#           removeContPol=1, trimMask=0, sigmaClipIter=0, sigmaClip=500, \n",
    "#           interpMode=1, fSaveModelS=0, outModelName='',\n",
    "#           fLSDPlotImg=0, fSavePlotImg=0, outPlotImgName='')\n"
   ]
  },
  {
   "cell_type": "code",
   "execution_count": null,
   "metadata": {
    "id": "98InOji1UXKN"
   },
   "outputs": [],
   "source": [
    "#lsd = pol.iolsd.read_lsd(outfile)\n",
    "#lsd.plot()"
   ]
  },
  {
   "cell_type": "markdown",
   "metadata": {
    "id": "GT7u_oAfGKSt"
   },
   "source": [
    "### 2.1 **Spectra**: Synth-hybrid-spectra\n",
    "reran - Patrick\n"
   ]
  },
  {
   "cell_type": "code",
   "execution_count": null,
   "metadata": {
    "colab": {
     "base_uri": "https://localhost:8080/"
    },
    "executionInfo": {
     "elapsed": 194,
     "status": "ok",
     "timestamp": 1675263379133,
     "user": {
      "displayName": "Patrick Stanley",
      "userId": "13506334151389315964"
     },
     "user_tz": 300
    },
    "id": "auGgWyxIOOXH",
    "outputId": "31931a50-85ac-4620-9c79-4939d6576ddc"
   },
   "outputs": [],
   "source": [
    "df = pd.read_csv('03-LSD-calculations/LSD/Params-LSDProfiles-CalculatedByPython.csv')\n",
    "blend=np.array(df['Name'][df['VelEnd']>=900])\n",
    "blend"
   ]
  },
  {
   "cell_type": "code",
   "execution_count": null,
   "metadata": {},
   "outputs": [],
   "source": [
    "Observations"
   ]
  },
  {
   "cell_type": "markdown",
   "metadata": {
    "id": "AwhTBf2cs5B5"
   },
   "source": [
    "#### **Mask**: tellClean Mask depth 0.02:"
   ]
  },
  {
   "cell_type": "code",
   "execution_count": null,
   "metadata": {
    "id": "s0YY-R2dKljZ"
   },
   "outputs": [],
   "source": [
    "%%capture\n",
    "with PdfPages('03-LSD-calculations/hybrid__maskdepth0.02_tellClean.pdf') as pdf:\n",
    "\n",
    "  for i, ObsInfo in Observations.iterrows():\n",
    "    star = ObsInfo[\"Name\"]\n",
    "    obs = ObsInfo[\"Unnamed: 2\"]\n",
    "    for j in range(0,len(StarData[\"Name\"])):\n",
    "      if StarData[\"Name\"][j] == star:\n",
    "        modelcode = StarData[\"ModelCode\"][j].upper()\n",
    "        if StarData['vsini-estimate'][j]=='very bad':\n",
    "          vsini = StarData[\"Adopted-vsini\"][j]\n",
    "        else:\n",
    "          vsini = StarData['vsini-estimate'][j]\n",
    "        velS = df[\"VelStart\"][j]\n",
    "        velE = df[\"VelEnd\"][j]\n",
    "        velP = df[\"VelPixel\"][j]\n",
    "\n",
    "    for j in range(0,len(blend)):\n",
    "      if blend[j]==star:\n",
    "        mask = '02-Mask-calculations/MaskCleaning/{}_depth0.02.mask'.format(star)\n",
    "        break\n",
    "      if blend[j]!=star:\n",
    "        mask = '02-Mask-calculations/MaskCleaning/depth0.02_tellClean/{}_depth0.02.mask'.format(modelcode)\n",
    "\n",
    "    file = '01-Synth-calculations/Synth-hybrid-spectra/{}_{}_noise.s'.format(star, obs)\n",
    "    outfile = '03-LSD-calculations/LSD/hybrid_maskdepth0.02_tellClean/{}_{}.lsd'.format(star,obs)\n",
    "\n",
    "    toto = lsdpy.main(observation=file, mask=mask, outName=outfile, \n",
    "            velStart=velS, velEnd=velE, velPixel=velP, \n",
    "            normDepth=0.2, normLande=1.2, normWave=500.0,\n",
    "            removeContPol=1, trimMask=0, sigmaClipIter=0, sigmaClip=500, \n",
    "            interpMode=1, fSaveModelS=0, outModelName='',\n",
    "            fLSDPlotImg=0, fSavePlotImg=0, outPlotImgName='')\n",
    "    lsd = pol.iolsd.read_lsd(outfile)\n",
    "    \n",
    "    fig, ax = plt.subplots(4,1, figsize=(10,10))\n",
    "\n",
    "    ax[3].errorbar(lsd.vel, lsd.specI, yerr=lsd.specSigI, xerr=None, fmt='o', ms=3,ecolor='0.5',c='k')\n",
    "    ax[2].errorbar(lsd.vel, lsd.specN1, yerr=lsd.specSigN1, xerr=None, fmt='o', ms=3,ecolor='0.5',c='k')\n",
    "    ax[1].errorbar(lsd.vel, lsd.specN2, yerr=lsd.specSigN2, xerr=None, fmt='o', ms=3,ecolor='0.5',c='k')\n",
    "    ax[0].errorbar(lsd.vel, lsd.specV, yerr=lsd.specSigV, xerr=None, fmt='o', ms=3, ecolor='0.5',c='k')\n",
    "    plt.subplots_adjust(hspace=.0)\n",
    "    ax[3].set_xlabel('Velocity (km/s)')\n",
    "    ax[3].set_ylabel('I')\n",
    "    ax[2].set_ylabel('N1')\n",
    "    ax[1].set_ylabel('N2')\n",
    "    ax[0].set_ylabel('V')\n",
    "    fig.suptitle(star + '-'+ str(obs),y=0.92)\n",
    "\n",
    "    pdf.savefig(fig)\n",
    "\n",
    "##~30min"
   ]
  },
  {
   "cell_type": "markdown",
   "metadata": {
    "id": "BfitRF29s9QP"
   },
   "source": [
    "#### **Mask**: tellClean Mask depth 0.1:"
   ]
  },
  {
   "cell_type": "code",
   "execution_count": null,
   "metadata": {
    "id": "NnnaMucas8qd"
   },
   "outputs": [],
   "source": [
    "%%capture\n",
    "with PdfPages('03-LSD-calculations/hybrid__maskdepth0.1_tellClean.pdf') as pdf:\n",
    "\n",
    "  for i, ObsInfo in Observations.iterrows():\n",
    "    star = ObsInfo[\"Name\"]\n",
    "    obs = ObsInfo[\"Unnamed: 2\"]\n",
    "    for j in range(0,len(StarData[\"Name\"])):\n",
    "      if StarData[\"Name\"][j] == star:\n",
    "        modelcode = StarData[\"ModelCode\"][j].upper()\n",
    "        if StarData['vsini-estimate'][j]=='very bad':\n",
    "          vsini = StarData[\"Adopted-vsini\"][j]\n",
    "        else:\n",
    "          vsini = StarData['vsini-estimate'][j]\n",
    "        velS = df[\"VelStart\"][j]\n",
    "        velE = df[\"VelEnd\"][j]\n",
    "        velP = df[\"VelPixel\"][j]\n",
    "\n",
    "    for j in range(0,len(blend)):\n",
    "      if blend[j]==star:\n",
    "        mask = '02-Mask-calculations/MaskCleaning/{}_depth0.1.mask'.format(star)\n",
    "        break\n",
    "      if blend[j]!=star:\n",
    "        mask = '02-Mask-calculations/MaskCleaning/depth0.1_tellClean/{}_depth0.1.mask'.format(modelcode)\n",
    "\n",
    "    file = '01-Synth-calculations/Synth-hybrid-spectra/{}_{}_noise.s'.format(star, obs)\n",
    "    outfile = '03-LSD-calculations/LSD/hybrid_maskdepth0.1_tellClean/{}_{}.lsd'.format(star,obs)\n",
    "\n",
    "    toto = lsdpy.main(observation=file, mask=mask, outName=outfile, \n",
    "            velStart=velS, velEnd=velE, velPixel=velP, \n",
    "            normDepth=0.2, normLande=1.2, normWave=500.0,\n",
    "            removeContPol=1, trimMask=0, sigmaClipIter=0, sigmaClip=500, \n",
    "            interpMode=1, fSaveModelS=0, outModelName='',\n",
    "            fLSDPlotImg=0, fSavePlotImg=0, outPlotImgName='')\n",
    "    lsd = pol.iolsd.read_lsd(outfile)\n",
    "    \n",
    "    fig, ax = plt.subplots(4,1, figsize=(10,10))\n",
    "\n",
    "    ax[3].errorbar(lsd.vel, lsd.specI, yerr=lsd.specSigI, xerr=None, fmt='o', ms=3,ecolor='0.5',c='k')\n",
    "    ax[2].errorbar(lsd.vel, lsd.specN1, yerr=lsd.specSigN1, xerr=None, fmt='o', ms=3,ecolor='0.5',c='k')\n",
    "    ax[1].errorbar(lsd.vel, lsd.specN2, yerr=lsd.specSigN2, xerr=None, fmt='o', ms=3,ecolor='0.5',c='k')\n",
    "    ax[0].errorbar(lsd.vel, lsd.specV, yerr=lsd.specSigV, xerr=None, fmt='o', ms=3, ecolor='0.5',c='k')\n",
    "    plt.subplots_adjust(hspace=.0)\n",
    "    ax[3].set_xlabel('Velocity (km/s)')\n",
    "    ax[3].set_ylabel('I')\n",
    "    ax[2].set_ylabel('N1')\n",
    "    ax[1].set_ylabel('N2')\n",
    "    ax[0].set_ylabel('V')\n",
    "    fig.suptitle(star + '-'+ str(obs),y=0.92)\n",
    "\n",
    "    pdf.savefig(fig)\n",
    "\n",
    "##~30min"
   ]
  },
  {
   "cell_type": "markdown",
   "metadata": {
    "id": "tOEpujP_id-R"
   },
   "source": [
    "#### **Mask**: tellClean CleanAsifTweak"
   ]
  },
  {
   "cell_type": "code",
   "execution_count": null,
   "metadata": {
    "id": "oRk0ASOTiweV"
   },
   "outputs": [],
   "source": [
    "%%capture\n",
    "with PdfPages('03-LSD-calculations/hybrid_CleanAsifTweak_tellClean.pdf') as pdf:\n",
    "\n",
    "  for i, ObsInfo in Observations.iterrows():\n",
    "    star = ObsInfo[\"Name\"]\n",
    "    obs = ObsInfo[\"Unnamed: 2\"]\n",
    "    for j in range(0,len(StarData[\"Name\"])):\n",
    "      if StarData[\"Name\"][j] == star:\n",
    "        modelcode = StarData[\"ModelCode\"][j].upper()\n",
    "        vsini = StarData[\"Adopted-vsini\"][j]\n",
    "        velS = df[\"VelStart\"][j]\n",
    "        velE = df[\"VelEnd\"][j]\n",
    "        velP = df[\"VelPixel\"][j]\n",
    "\n",
    "    mask = '02-Mask-calculations/MaskCleaning/AsifMaskCleanTweak_tellClean/{}_clean_{}.mask_auto_twk'.format(star,obs)\n",
    "\n",
    "    file = '01-Synth-calculations/Synth-hybrid-spectra/{}_{}_noise.s'.format(star, obs)\n",
    "    outfile = '03-LSD-calculations/LSD/hybrid_CleanAsifTweak+tellClean/{}_{}.lsd'.format(star,obs)\n",
    "\n",
    "    toto = lsdpy.main(observation=file, mask=mask, outName=outfile, \n",
    "            velStart=velS, velEnd=velE, velPixel=velP, \n",
    "            normDepth=0.2, normLande=1.2, normWave=500.0,\n",
    "            removeContPol=1, trimMask=0, sigmaClipIter=0, sigmaClip=500, \n",
    "            interpMode=1, fSaveModelS=0, outModelName='',\n",
    "            fLSDPlotImg=0, fSavePlotImg=0, outPlotImgName='')\n",
    "    lsd = pol.iolsd.read_lsd(outfile)\n",
    "    \n",
    "    fig, ax = plt.subplots(4,1, figsize=(10,10))\n",
    "\n",
    "    ax[3].errorbar(lsd.vel, lsd.specI, yerr=lsd.specSigI, xerr=None, fmt='o', ms=3,ecolor='0.5',c='k')\n",
    "    ax[2].errorbar(lsd.vel, lsd.specN1, yerr=lsd.specSigN1, xerr=None, fmt='o', ms=3,ecolor='0.5',c='k')\n",
    "    ax[1].errorbar(lsd.vel, lsd.specN2, yerr=lsd.specSigN2, xerr=None, fmt='o', ms=3,ecolor='0.5',c='k')\n",
    "    ax[0].errorbar(lsd.vel, lsd.specV, yerr=lsd.specSigV, xerr=None, fmt='o', ms=3, ecolor='0.5',c='k')\n",
    "    plt.subplots_adjust(hspace=.0)\n",
    "    ax[3].set_xlabel('Velocity (km/s)')\n",
    "    ax[3].set_ylabel('I')\n",
    "    ax[2].set_ylabel('N1')\n",
    "    ax[1].set_ylabel('N2')\n",
    "    ax[0].set_ylabel('V')\n",
    "    fig.suptitle(star + '-'+ str(obs),y=0.92)\n",
    "\n",
    "    pdf.savefig(fig)\n",
    "\n",
    "##~30min"
   ]
  },
  {
   "cell_type": "markdown",
   "metadata": {
    "id": "qyClzE3qEUGP"
   },
   "source": [
    "#### **Mask**: tellClean AsifClean"
   ]
  },
  {
   "cell_type": "code",
   "execution_count": null,
   "metadata": {
    "id": "JMY27LVhEdJo"
   },
   "outputs": [],
   "source": [
    "%%capture\n",
    "with PdfPages('03-LSD-calculations/hybrid_CleanAsif_tellClean.pdf') as pdf:\n",
    "\n",
    "  for i, ObsInfo in Observations.iterrows():\n",
    "    star = ObsInfo[\"Name\"]\n",
    "    obs = ObsInfo[\"Unnamed: 2\"]\n",
    "    for j in range(0,len(StarData[\"Name\"])):\n",
    "      if StarData[\"Name\"][j] == star:\n",
    "        modelcode = StarData[\"ModelCode\"][j].upper()\n",
    "        vsini = StarData[\"Adopted-vsini\"][j]\n",
    "        velS = df[\"VelStart\"][j]\n",
    "        velE = df[\"VelEnd\"][j]\n",
    "        velP = df[\"VelPixel\"][j]\n",
    "\n",
    "    mask = '02-Mask-calculations/MaskCleaning/AsifMaskClean_tellClean/{}_clean_{}.mask'.format(star,obs)\n",
    "\n",
    "    file = '01-Synth-calculations/Synth-hybrid-spectra/{}_{}_noise.s'.format(star, obs)\n",
    "    outfile = '03-LSD-calculations/LSD/hybrid_CleanAsif+tellClean/{}_{}.lsd'.format(star,obs)\n",
    "\n",
    "    toto = lsdpy.main(observation=file, mask=mask, outName=outfile, \n",
    "            velStart=velS, velEnd=velE, velPixel=velP, \n",
    "            normDepth=0.2, normLande=1.2, normWave=500.0,\n",
    "            removeContPol=1, trimMask=0, sigmaClipIter=0, sigmaClip=500, \n",
    "            interpMode=1, fSaveModelS=0, outModelName='',\n",
    "            fLSDPlotImg=0, fSavePlotImg=0, outPlotImgName='')\n",
    "    lsd = pol.iolsd.read_lsd(outfile)\n",
    "    \n",
    "    fig, ax = plt.subplots(4,1, figsize=(10,10))\n",
    "\n",
    "    ax[3].errorbar(lsd.vel, lsd.specI, yerr=lsd.specSigI, xerr=None, fmt='o', ms=3,ecolor='0.5',c='k')\n",
    "    ax[2].errorbar(lsd.vel, lsd.specN1, yerr=lsd.specSigN1, xerr=None, fmt='o', ms=3,ecolor='0.5',c='k')\n",
    "    ax[1].errorbar(lsd.vel, lsd.specN2, yerr=lsd.specSigN2, xerr=None, fmt='o', ms=3,ecolor='0.5',c='k')\n",
    "    ax[0].errorbar(lsd.vel, lsd.specV, yerr=lsd.specSigV, xerr=None, fmt='o', ms=3, ecolor='0.5',c='k')\n",
    "    plt.subplots_adjust(hspace=.0)\n",
    "    ax[3].set_xlabel('Velocity (km/s)')\n",
    "    ax[3].set_ylabel('I')\n",
    "    ax[2].set_ylabel('N1')\n",
    "    ax[1].set_ylabel('N2')\n",
    "    ax[0].set_ylabel('V')\n",
    "    fig.suptitle(star + '-'+ str(obs),y=0.92)\n",
    "\n",
    "    pdf.savefig(fig)\n",
    "\n",
    "##~30min"
   ]
  },
  {
   "cell_type": "markdown",
   "metadata": {
    "id": "CL1oG2AVJ77u"
   },
   "source": [
    "### 2.2 **Spectra**: Normalized-Spectra\n",
    "reran - Patrick\n"
   ]
  },
  {
   "cell_type": "code",
   "execution_count": null,
   "metadata": {
    "id": "iMrrHWMgJ77v"
   },
   "outputs": [],
   "source": [
    "df = pd.read_csv('03-LSD-calculations/LSD/Params-LSDProfiles-CalculatedByPython.csv')\n",
    "blend=np.array(df['Name'][df['VelEnd']>=900])\n",
    "blend"
   ]
  },
  {
   "cell_type": "markdown",
   "metadata": {
    "id": "QIzx1jS0J77v"
   },
   "source": [
    "#### **Mask**: tellClean Mask depth 0.02:"
   ]
  },
  {
   "cell_type": "code",
   "execution_count": null,
   "metadata": {
    "id": "207PZYKHJ77v"
   },
   "outputs": [],
   "source": [
    "%%capture\n",
    "\n",
    "with PdfPages('03-LSD-calculations/normalized_maskdepth0.02_tellClean.pdf') as pdf:\n",
    "\n",
    "  for i, ObsInfo in Observations.iterrows():\n",
    "    star = ObsInfo[\"Name\"]\n",
    "    obs = ObsInfo[\"Unnamed: 2\"]\n",
    "    for j in range(0,len(StarData[\"Name\"])):\n",
    "      if StarData[\"Name\"][j] == star:\n",
    "        modelcode = StarData[\"ModelCode\"][j].upper()\n",
    "        if StarData['vsini-estimate'][j]=='very bad':\n",
    "          vsini = StarData[\"Adopted-vsini\"][j]\n",
    "        else:\n",
    "          vsini = StarData['vsini-estimate'][j]\n",
    "        velS = df[\"VelStart\"][j]\n",
    "        velE = df[\"VelEnd\"][j]\n",
    "        velP = df[\"VelPixel\"][j]\n",
    "\n",
    "    for j in range(0,len(blend)):\n",
    "      if blend[j]==star:\n",
    "        mask = '02-Mask-calculations/MaskCleaning/{}_depth0.02.mask'.format(star)\n",
    "        break\n",
    "      if blend[j]!=star:\n",
    "        mask = '02-Mask-calculations/MaskCleaning/depth0.02_tellClean/{}_depth0.02.mask'.format(modelcode)\n",
    "\n",
    "    file = '00-InputMaterial/NormalizedSpectra/{}_{}.s'.format(star, obs)\n",
    "    outfile = '03-LSD-calculations/LSD/normalized_maskdepth0.02_tellClean/{}_{}.lsd'.format(star,obs)\n",
    "\n",
    "    toto = lsdpy.main(observation=file, mask=mask, outName=outfile, \n",
    "            velStart=velS, velEnd=velE, velPixel=velP, \n",
    "            normDepth=0.2, normLande=1.2, normWave=500.0,\n",
    "            removeContPol=1, trimMask=0, sigmaClipIter=0, sigmaClip=500, \n",
    "            interpMode=1, fSaveModelS=0, outModelName='',\n",
    "            fLSDPlotImg=0, fSavePlotImg=0, outPlotImgName='')\n",
    "    lsd = pol.iolsd.read_lsd(outfile)\n",
    "    \n",
    "    fig, ax = plt.subplots(4,1, figsize=(10,10))\n",
    "\n",
    "    ax[3].errorbar(lsd.vel, lsd.specI, yerr=lsd.specSigI, xerr=None, fmt='o', ms=3,ecolor='0.5',c='k')\n",
    "    ax[2].errorbar(lsd.vel, lsd.specN1, yerr=lsd.specSigN1, xerr=None, fmt='o', ms=3,ecolor='0.5',c='k')\n",
    "    ax[1].errorbar(lsd.vel, lsd.specN2, yerr=lsd.specSigN2, xerr=None, fmt='o', ms=3,ecolor='0.5',c='k')\n",
    "    ax[0].errorbar(lsd.vel, lsd.specV, yerr=lsd.specSigV, xerr=None, fmt='o', ms=3, ecolor='0.5',c='k')\n",
    "    plt.subplots_adjust(hspace=.0)\n",
    "    ax[3].set_xlabel('Velocity (km/s)')\n",
    "    ax[3].set_ylabel('I')\n",
    "    ax[2].set_ylabel('N1')\n",
    "    ax[1].set_ylabel('N2')\n",
    "    ax[0].set_ylabel('V')\n",
    "    fig.suptitle(star + '-'+ str(obs),y=0.92)\n",
    "\n",
    "    pdf.savefig(fig)\n",
    "\n",
    "##~30min"
   ]
  },
  {
   "cell_type": "markdown",
   "metadata": {
    "id": "cD1bDws8J77v"
   },
   "source": [
    "#### **Mask**: tellClean Mask depth 0.1:"
   ]
  },
  {
   "cell_type": "code",
   "execution_count": null,
   "metadata": {
    "id": "9IYDGqReJ77v"
   },
   "outputs": [],
   "source": [
    "%%capture\n",
    "\n",
    "with PdfPages('03-LSD-calculations/normalized_maskdepth0.1_tellClean.pdf') as pdf:\n",
    "\n",
    "  for i, ObsInfo in Observations.iterrows():\n",
    "    star = ObsInfo[\"Name\"]\n",
    "    obs = ObsInfo[\"Unnamed: 2\"]\n",
    "    for j in range(0,len(StarData[\"Name\"])):\n",
    "      if StarData[\"Name\"][j] == star:\n",
    "        modelcode = StarData[\"ModelCode\"][j].upper()\n",
    "        if StarData['vsini-estimate'][j]=='very bad':\n",
    "          vsini = StarData[\"Adopted-vsini\"][j]\n",
    "        else:\n",
    "          vsini = StarData['vsini-estimate'][j]\n",
    "        velS = df[\"VelStart\"][j]\n",
    "        velE = df[\"VelEnd\"][j]\n",
    "        velP = df[\"VelPixel\"][j]\n",
    "\n",
    "    for j in range(0,len(blend)):\n",
    "      if blend[j]==star:\n",
    "        mask = '02-Mask-calculations/MaskCleaning/{}_depth0.1.mask'.format(star)\n",
    "        break\n",
    "      if blend[j]!=star:\n",
    "        mask = '02-Mask-calculations/MaskCleaning/depth0.1_tellClean/{}_depth0.1.mask'.format(modelcode)\n",
    "\n",
    "    file = '00-InputMaterial/NormalizedSpectra/{}_{}.s'.format(star, obs)\n",
    "    outfile = '03-LSD-calculations/LSD/normalized_maskdepth0.1_tellClean/{}_{}.lsd'.format(star,obs)\n",
    "\n",
    "    toto = lsdpy.main(observation=file, mask=mask, outName=outfile, \n",
    "            velStart=velS, velEnd=velE, velPixel=velP, \n",
    "            normDepth=0.2, normLande=1.2, normWave=500.0,\n",
    "            removeContPol=1, trimMask=0, sigmaClipIter=0, sigmaClip=500, \n",
    "            interpMode=1, fSaveModelS=0, outModelName='',\n",
    "            fLSDPlotImg=0, fSavePlotImg=0, outPlotImgName='')\n",
    "    lsd = pol.iolsd.read_lsd(outfile)\n",
    "    \n",
    "    fig, ax = plt.subplots(4,1, figsize=(10,10))\n",
    "\n",
    "    ax[3].errorbar(lsd.vel, lsd.specI, yerr=lsd.specSigI, xerr=None, fmt='o', ms=3,ecolor='0.5',c='k')\n",
    "    ax[2].errorbar(lsd.vel, lsd.specN1, yerr=lsd.specSigN1, xerr=None, fmt='o', ms=3,ecolor='0.5',c='k')\n",
    "    ax[1].errorbar(lsd.vel, lsd.specN2, yerr=lsd.specSigN2, xerr=None, fmt='o', ms=3,ecolor='0.5',c='k')\n",
    "    ax[0].errorbar(lsd.vel, lsd.specV, yerr=lsd.specSigV, xerr=None, fmt='o', ms=3, ecolor='0.5',c='k')\n",
    "    plt.subplots_adjust(hspace=.0)\n",
    "    ax[3].set_xlabel('Velocity (km/s)')\n",
    "    ax[3].set_ylabel('I')\n",
    "    ax[2].set_ylabel('N1')\n",
    "    ax[1].set_ylabel('N2')\n",
    "    ax[0].set_ylabel('V')\n",
    "    fig.suptitle(star + '-'+ str(obs),y=0.92)\n",
    "\n",
    "    pdf.savefig(fig)\n",
    "\n",
    "##~30min"
   ]
  },
  {
   "cell_type": "markdown",
   "metadata": {
    "id": "66mxviwTJ77w"
   },
   "source": [
    "#### **Mask**: tellClean CleanAsifTweak"
   ]
  },
  {
   "cell_type": "code",
   "execution_count": null,
   "metadata": {
    "id": "CKJLb8bfJ77w"
   },
   "outputs": [],
   "source": [
    "%%capture\n",
    "with PdfPages('03-LSD-calculations/normalized_CleanAsifTweak_tellClean.pdf') as pdf:\n",
    "\n",
    "  for i, ObsInfo in Observations.iterrows():\n",
    "    star = ObsInfo[\"Name\"]\n",
    "    obs = ObsInfo[\"Unnamed: 2\"]\n",
    "    for j in range(0,len(StarData[\"Name\"])):\n",
    "      if StarData[\"Name\"][j] == star:\n",
    "        modelcode = StarData[\"ModelCode\"][j].upper()\n",
    "        vsini = StarData[\"Adopted-vsini\"][j]\n",
    "        velS = df[\"VelStart\"][j]\n",
    "        velE = df[\"VelEnd\"][j]\n",
    "        velP = df[\"VelPixel\"][j]\n",
    "\n",
    "    mask = '02-Mask-calculations/MaskCleaning/AsifMaskCleanTweak_tellClean/{}_clean_{}.mask_auto_twk'.format(star,obs)\n",
    "\n",
    "    file = '00-InputMaterial/NormalizedSpectra/{}_{}.s'.format(star, obs)\n",
    "    outfile = '03-LSD-calculations/LSD/normalized_CleanAsifTweak+tellClean/{}_{}.lsd'.format(star,obs)\n",
    "\n",
    "    toto = lsdpy.main(observation=file, mask=mask, outName=outfile, \n",
    "            velStart=velS, velEnd=velE, velPixel=velP, \n",
    "            normDepth=0.2, normLande=1.2, normWave=500.0,\n",
    "            removeContPol=1, trimMask=0, sigmaClipIter=0, sigmaClip=500, \n",
    "            interpMode=1, fSaveModelS=0, outModelName='',\n",
    "            fLSDPlotImg=0, fSavePlotImg=0, outPlotImgName='')\n",
    "    lsd = pol.iolsd.read_lsd(outfile)\n",
    "    \n",
    "    fig, ax = plt.subplots(4,1, figsize=(10,10))\n",
    "\n",
    "    ax[3].errorbar(lsd.vel, lsd.specI, yerr=lsd.specSigI, xerr=None, fmt='o', ms=3,ecolor='0.5',c='k')\n",
    "    ax[2].errorbar(lsd.vel, lsd.specN1, yerr=lsd.specSigN1, xerr=None, fmt='o', ms=3,ecolor='0.5',c='k')\n",
    "    ax[1].errorbar(lsd.vel, lsd.specN2, yerr=lsd.specSigN2, xerr=None, fmt='o', ms=3,ecolor='0.5',c='k')\n",
    "    ax[0].errorbar(lsd.vel, lsd.specV, yerr=lsd.specSigV, xerr=None, fmt='o', ms=3, ecolor='0.5',c='k')\n",
    "    plt.subplots_adjust(hspace=.0)\n",
    "    ax[3].set_xlabel('Velocity (km/s)')\n",
    "    ax[3].set_ylabel('I')\n",
    "    ax[2].set_ylabel('N1')\n",
    "    ax[1].set_ylabel('N2')\n",
    "    ax[0].set_ylabel('V')\n",
    "    fig.suptitle(star + '-'+ str(obs),y=0.92)\n",
    "\n",
    "    pdf.savefig(fig)\n",
    "\n",
    "##~30min"
   ]
  },
  {
   "cell_type": "markdown",
   "metadata": {
    "id": "A9Gdzs7gJ77w"
   },
   "source": [
    "#### **Mask**: tellClean AsifClean"
   ]
  },
  {
   "cell_type": "code",
   "execution_count": null,
   "metadata": {
    "id": "6ouxyrp9J77w"
   },
   "outputs": [],
   "source": [
    "%%capture\n",
    "with PdfPages('03-LSD-calculations/normalized_CleanAsif_tellClean.pdf') as pdf:\n",
    "\n",
    "  for i, ObsInfo in Observations.iterrows():\n",
    "    star = ObsInfo[\"Name\"]\n",
    "    obs = ObsInfo[\"Unnamed: 2\"]\n",
    "    for j in range(0,len(StarData[\"Name\"])):\n",
    "      if StarData[\"Name\"][j] == star:\n",
    "        modelcode = StarData[\"ModelCode\"][j].upper()\n",
    "        vsini = StarData[\"Adopted-vsini\"][j]\n",
    "        velS = df[\"VelStart\"][j]\n",
    "        velE = df[\"VelEnd\"][j]\n",
    "        velP = df[\"VelPixel\"][j]\n",
    "\n",
    "    mask = '02-Mask-calculations/MaskCleaning/AsifMaskClean_tellClean/{}_clean_{}.mask'.format(star,obs)\n",
    "\n",
    "    file = '00-InputMaterial/NormalizedSpectra/{}_{}.s'.format(star, obs)\n",
    "    outfile = '03-LSD-calculations/LSD/normalized_CleanAsif+tellClean/{}_{}.lsd'.format(star,obs)\n",
    "\n",
    "    toto = lsdpy.main(observation=file, mask=mask, outName=outfile, \n",
    "            velStart=velS, velEnd=velE, velPixel=velP, \n",
    "            normDepth=0.2, normLande=1.2, normWave=500.0,\n",
    "            removeContPol=1, trimMask=0, sigmaClipIter=0, sigmaClip=500, \n",
    "            interpMode=1, fSaveModelS=0, outModelName='',\n",
    "            fLSDPlotImg=0, fSavePlotImg=0, outPlotImgName='')\n",
    "    lsd = pol.iolsd.read_lsd(outfile)\n",
    "    \n",
    "    fig, ax = plt.subplots(4,1, figsize=(10,10))\n",
    "\n",
    "    ax[3].errorbar(lsd.vel, lsd.specI, yerr=lsd.specSigI, xerr=None, fmt='o', ms=3,ecolor='0.5',c='k')\n",
    "    ax[2].errorbar(lsd.vel, lsd.specN1, yerr=lsd.specSigN1, xerr=None, fmt='o', ms=3,ecolor='0.5',c='k')\n",
    "    ax[1].errorbar(lsd.vel, lsd.specN2, yerr=lsd.specSigN2, xerr=None, fmt='o', ms=3,ecolor='0.5',c='k')\n",
    "    ax[0].errorbar(lsd.vel, lsd.specV, yerr=lsd.specSigV, xerr=None, fmt='o', ms=3, ecolor='0.5',c='k')\n",
    "    plt.subplots_adjust(hspace=.0)\n",
    "    ax[3].set_xlabel('Velocity (km/s)')\n",
    "    ax[3].set_ylabel('I')\n",
    "    ax[2].set_ylabel('N1')\n",
    "    ax[1].set_ylabel('N2')\n",
    "    ax[0].set_ylabel('V')\n",
    "    fig.suptitle(star + '-'+ str(obs),y=0.92)\n",
    "\n",
    "    pdf.savefig(fig)\n",
    "\n",
    "##~30min"
   ]
  }
 ],
 "metadata": {
  "colab": {
   "collapsed_sections": [
    "gb6qqojjLVAf",
    "fOTxMUoFb0cY",
    "sA-4NS_cPriF",
    "AwhTBf2cs5B5",
    "BfitRF29s9QP",
    "tOEpujP_id-R",
    "qyClzE3qEUGP",
    "QIzx1jS0J77v",
    "A9Gdzs7gJ77w",
    "MFKFEfx2DrmZ",
    "SJcUsfxqZcJ-",
    "62UIDhT8GYwU",
    "DDlhcHl5GpTB",
    "4kDbxQFO9HmD",
    "kacHWpF39SKw",
    "hG14l70cf5td",
    "UCcPpqJOh6Mx",
    "8DaTpeDuh_qT",
    "FrYKyNzBKz5G",
    "tkRIZHFILAeQ",
    "iqm47XGeD6BR",
    "apv_oy3fG77F",
    "XUSPvFnEJtGe"
   ],
   "provenance": []
  },
  "kernelspec": {
   "display_name": "Python 3 (ipykernel)",
   "language": "python",
   "name": "python3"
  },
  "language_info": {
   "codemirror_mode": {
    "name": "ipython",
    "version": 3
   },
   "file_extension": ".py",
   "mimetype": "text/x-python",
   "name": "python",
   "nbconvert_exporter": "python",
   "pygments_lexer": "ipython3",
   "version": "3.9.7"
  }
 },
 "nbformat": 4,
 "nbformat_minor": 1
}
